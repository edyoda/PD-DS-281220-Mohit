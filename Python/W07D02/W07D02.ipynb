{
 "cells": [
  {
   "cell_type": "code",
   "execution_count": 1,
   "metadata": {},
   "outputs": [],
   "source": [
    "class Animal:\n",
    "    typeOfAnimal = None\n",
    "    \n",
    "    def __init__(self,name):\n",
    "        self.name = name\n",
    "        \n",
    "    def eat(self):\n",
    "        print(self.name,' is eating')\n",
    "        \n",
    "    \n",
    "## Inheriting the Parent Class Animal into the child Class Dog.\n",
    "\n",
    "class Dog(Animal):\n",
    "    Animal.typeOfAnimal = 'Dog'\n",
    "    breed = None\n",
    "    def bark(self):\n",
    "        print(self.name,' is barking')\n"
   ]
  },
  {
   "cell_type": "code",
   "execution_count": 2,
   "metadata": {},
   "outputs": [],
   "source": [
    "yuki = Dog('YUKI SINGH')"
   ]
  },
  {
   "cell_type": "code",
   "execution_count": 3,
   "metadata": {},
   "outputs": [
    {
     "data": {
      "text/plain": [
       "'Dog'"
      ]
     },
     "execution_count": 3,
     "metadata": {},
     "output_type": "execute_result"
    }
   ],
   "source": [
    "yuki.typeOfAnimal"
   ]
  },
  {
   "cell_type": "code",
   "execution_count": 4,
   "metadata": {},
   "outputs": [
    {
     "name": "stdout",
     "output_type": "stream",
     "text": [
      "YUKI SINGH  is barking\n"
     ]
    }
   ],
   "source": [
    "yuki.bark()"
   ]
  },
  {
   "cell_type": "code",
   "execution_count": 5,
   "metadata": {},
   "outputs": [
    {
     "name": "stdout",
     "output_type": "stream",
     "text": [
      "YUKI SINGH  is eating\n"
     ]
    }
   ],
   "source": [
    "yuki.eat()"
   ]
  },
  {
   "cell_type": "markdown",
   "metadata": {},
   "source": [
    "## METHOD OVERRIDING"
   ]
  },
  {
   "cell_type": "code",
   "execution_count": 6,
   "metadata": {},
   "outputs": [],
   "source": [
    "class Animal:\n",
    "    typeOfAnimal = None\n",
    "    \n",
    "    def __init__(self,name):\n",
    "        self.name = name\n",
    "        \n",
    "    def eat(self):\n",
    "        print(self.name,' is eating')\n",
    "\n",
    "## Inheriting the Parent Class Animal into the child Class Dog.\n",
    "\n",
    "class Dog(Animal):\n",
    "    Animal.typeOfAnimal = 'Dog'\n",
    "    breed = None\n",
    "    def bark(self):\n",
    "        print(self.name,' is barking')\n",
    "        \n",
    "    def eat(self):\n",
    "        print(self.name,' is eating with a lot of joy!!')"
   ]
  },
  {
   "cell_type": "code",
   "execution_count": 7,
   "metadata": {},
   "outputs": [],
   "source": [
    "yuki = Dog('YUKI SINGH')"
   ]
  },
  {
   "cell_type": "code",
   "execution_count": 8,
   "metadata": {},
   "outputs": [
    {
     "name": "stdout",
     "output_type": "stream",
     "text": [
      "YUKI SINGH  is eating with a lot of joy!!\n"
     ]
    }
   ],
   "source": [
    "yuki.eat()"
   ]
  },
  {
   "cell_type": "code",
   "execution_count": 9,
   "metadata": {},
   "outputs": [],
   "source": [
    "yuki = Animal('YUKI SINGH ROCKSTAR')"
   ]
  },
  {
   "cell_type": "code",
   "execution_count": 10,
   "metadata": {},
   "outputs": [
    {
     "name": "stdout",
     "output_type": "stream",
     "text": [
      "YUKI SINGH ROCKSTAR  is eating\n"
     ]
    }
   ],
   "source": [
    "yuki.eat()"
   ]
  },
  {
   "cell_type": "code",
   "execution_count": 20,
   "metadata": {},
   "outputs": [],
   "source": [
    "class Animal:\n",
    "    typeOfAnimal = None\n",
    "    def __init__(self,name):\n",
    "        print(' I am in init of Animal')\n",
    "        self.name = name\n",
    "        \n",
    "    def eat(self):\n",
    "        print(self.name,' is eating')\n",
    "\n",
    "## Inheriting the Parent Class Animal into the child Class Dog.\n",
    "\n",
    "class Dog(Animal):\n",
    "    Animal.typeOfAnimal = 'Dog'\n",
    "    breed = None\n",
    "    def __init__(self,name,age):\n",
    "        self.name = name\n",
    "        self.age = age\n",
    "        print('I am in init of Dog')\n",
    "        \n",
    "    def bark(self):\n",
    "        print(self.name,' is barking')"
   ]
  },
  {
   "cell_type": "code",
   "execution_count": 21,
   "metadata": {},
   "outputs": [
    {
     "name": "stdout",
     "output_type": "stream",
     "text": [
      "I am in init of Dog\n"
     ]
    }
   ],
   "source": [
    "yuki = Dog('YUKI SINGH',6)"
   ]
  },
  {
   "cell_type": "code",
   "execution_count": 22,
   "metadata": {},
   "outputs": [],
   "source": [
    "#### __dict__"
   ]
  },
  {
   "cell_type": "code",
   "execution_count": 23,
   "metadata": {},
   "outputs": [
    {
     "data": {
      "text/plain": [
       "{'name': 'YUKI SINGH', 'age': 6}"
      ]
     },
     "execution_count": 23,
     "metadata": {},
     "output_type": "execute_result"
    }
   ],
   "source": [
    "yuki.__dict__"
   ]
  },
  {
   "cell_type": "code",
   "execution_count": null,
   "metadata": {},
   "outputs": [],
   "source": [
    "WHAT IS INSTANCE:\n",
    "    JUST ANOTHER NAME FOR OBJECT.\n",
    "    \n",
    "yuki is an instance of Dog Class.\n",
    "\n",
    "yuki is a Object of Type Dog.\n",
    "\n",
    "MRO basically means Order in which methods to be executed will be decided."
   ]
  },
  {
   "cell_type": "code",
   "execution_count": 24,
   "metadata": {},
   "outputs": [
    {
     "name": "stdout",
     "output_type": "stream",
     "text": [
      "Help on Dog in module __main__ object:\n",
      "\n",
      "class Dog(Animal)\n",
      " |  Dog(name, age)\n",
      " |  \n",
      " |  Method resolution order:\n",
      " |      Dog\n",
      " |      Animal\n",
      " |      builtins.object\n",
      " |  \n",
      " |  Methods defined here:\n",
      " |  \n",
      " |  __init__(self, name, age)\n",
      " |      Initialize self.  See help(type(self)) for accurate signature.\n",
      " |  \n",
      " |  bark(self)\n",
      " |  \n",
      " |  ----------------------------------------------------------------------\n",
      " |  Data and other attributes defined here:\n",
      " |  \n",
      " |  breed = None\n",
      " |  \n",
      " |  ----------------------------------------------------------------------\n",
      " |  Methods inherited from Animal:\n",
      " |  \n",
      " |  eat(self)\n",
      " |  \n",
      " |  ----------------------------------------------------------------------\n",
      " |  Data descriptors inherited from Animal:\n",
      " |  \n",
      " |  __dict__\n",
      " |      dictionary for instance variables (if defined)\n",
      " |  \n",
      " |  __weakref__\n",
      " |      list of weak references to the object (if defined)\n",
      " |  \n",
      " |  ----------------------------------------------------------------------\n",
      " |  Data and other attributes inherited from Animal:\n",
      " |  \n",
      " |  typeOfAnimal = 'Dog'\n",
      "\n"
     ]
    }
   ],
   "source": [
    "help(yuki)"
   ]
  },
  {
   "cell_type": "markdown",
   "metadata": {},
   "source": [
    "## super() keyword : It helps us access the higher MRO.(parent)"
   ]
  },
  {
   "cell_type": "code",
   "execution_count": 27,
   "metadata": {},
   "outputs": [],
   "source": [
    "class Animal:\n",
    "    typeOfAnimal = None\n",
    "    def __init__(self,name,age):\n",
    "        print(' I am in init of Animal')\n",
    "        self.name = name\n",
    "        self.age = age\n",
    "\n",
    "class Dog(Animal):\n",
    "    Animal.typeOfAnimal = 'Dog'\n",
    "    breed = None\n",
    "    def __init__(self,name,age,color):\n",
    "        self.color = color\n",
    "        print('I am in init of Dog')\n",
    "        super().__init__(name,age)"
   ]
  },
  {
   "cell_type": "code",
   "execution_count": 28,
   "metadata": {},
   "outputs": [
    {
     "name": "stdout",
     "output_type": "stream",
     "text": [
      "I am in init of Dog\n",
      " I am in init of Animal\n"
     ]
    }
   ],
   "source": [
    "yuki = Dog('YUKI SINGH',6,'SILVER')"
   ]
  },
  {
   "cell_type": "code",
   "execution_count": null,
   "metadata": {},
   "outputs": [],
   "source": [
    "Q1) Make use of super to use the eat method of animal in bark method of dog.\n",
    "\n",
    "10 mins."
   ]
  },
  {
   "cell_type": "code",
   "execution_count": 39,
   "metadata": {},
   "outputs": [],
   "source": [
    "class Animal:\n",
    "    typeOfAnimal = None\n",
    "    def __init__(self,name):\n",
    "        print(' I am in init of Animal')\n",
    "        self.name = name\n",
    "        \n",
    "    def eat(self,food):\n",
    "        print(self.name,' is eating ',food)\n",
    "\n",
    "## Inheriting the Parent Class Animal into the child Class Dog.\n",
    "\n",
    "class Dog(Animal):\n",
    "    Animal.typeOfAnimal = 'Dog'\n",
    "    breed = None\n",
    "    def __init__(self,name,partage1,partage2):\n",
    "        self.name = name\n",
    "        self.age = partage1 + partage2\n",
    "        print('I am in init of Dog')\n",
    "        \n",
    "    def bark(self):\n",
    "        super().eat('bone')\n",
    "        print(self.name,' is barking')"
   ]
  },
  {
   "cell_type": "code",
   "execution_count": 40,
   "metadata": {},
   "outputs": [
    {
     "name": "stdout",
     "output_type": "stream",
     "text": [
      "I am in init of Dog\n",
      "YUKI SINGH  is eating  bone\n",
      "YUKI SINGH  is barking\n"
     ]
    }
   ],
   "source": [
    "yuki = Dog('YUKI SINGH',2,4)\n",
    "\n",
    "yuki.bark()"
   ]
  },
  {
   "cell_type": "code",
   "execution_count": 42,
   "metadata": {},
   "outputs": [
    {
     "data": {
      "text/plain": [
       "{'name': 'YUKI SINGH', 'age': 6}"
      ]
     },
     "execution_count": 42,
     "metadata": {},
     "output_type": "execute_result"
    }
   ],
   "source": [
    "yuki.__dict__"
   ]
  },
  {
   "cell_type": "code",
   "execution_count": 41,
   "metadata": {},
   "outputs": [
    {
     "data": {
      "text/plain": [
       "6"
      ]
     },
     "execution_count": 41,
     "metadata": {},
     "output_type": "execute_result"
    }
   ],
   "source": [
    "yuki.age"
   ]
  },
  {
   "cell_type": "code",
   "execution_count": null,
   "metadata": {},
   "outputs": [],
   "source": [
    "Q2) Create a Class Labrador from Dog and make sure to change the Breed to 'labrador' in that.\n",
    "\n",
    "10 mins"
   ]
  },
  {
   "cell_type": "code",
   "execution_count": 43,
   "metadata": {},
   "outputs": [
    {
     "name": "stdout",
     "output_type": "stream",
     "text": [
      "I am in init of Dog\n",
      "Harry is playing with ball\n"
     ]
    }
   ],
   "source": [
    "#Q2) Create a Class Labrador from Dog and make sure to change the Breed to 'labrador' in that.\n",
    "\n",
    "class Animal:\n",
    "    typeOfAnimal = None\n",
    "    def __init__(self,name):\n",
    "        print(' I am in init of Animal')\n",
    "        self.name = name\n",
    "        \n",
    "    def eat(self,food):\n",
    "        print(self.name,' is eating ',food)\n",
    "\n",
    "## Inheriting the Parent Class Animal into the child Class Dog.\n",
    "\n",
    "class Dog(Animal):\n",
    "    Animal.typeOfAnimal = 'Dog'\n",
    "    breed = None\n",
    "    def __init__(self,name,age):\n",
    "        self.name = name\n",
    "        self.age = age\n",
    "        print('I am in init of Dog')\n",
    "        \n",
    "    def bark(self):\n",
    "        super().eat('bone')\n",
    "        print(self.name,' is barking')\n",
    "\n",
    "class Labrador(Dog):\n",
    "    Dog.breed = 'labrador'\n",
    "    def play(self,toy):\n",
    "        print(self.name,'is playing with',toy)\n",
    "\n",
    "tommy = Labrador('Harry',4)\n",
    "tommy.play('ball')"
   ]
  },
  {
   "cell_type": "code",
   "execution_count": 44,
   "metadata": {},
   "outputs": [
    {
     "name": "stdout",
     "output_type": "stream",
     "text": [
      "Help on Labrador in module __main__ object:\n",
      "\n",
      "class Labrador(Dog)\n",
      " |  Labrador(name, age)\n",
      " |  \n",
      " |  Method resolution order:\n",
      " |      Labrador\n",
      " |      Dog\n",
      " |      Animal\n",
      " |      builtins.object\n",
      " |  \n",
      " |  Methods defined here:\n",
      " |  \n",
      " |  play(self, toy)\n",
      " |  \n",
      " |  ----------------------------------------------------------------------\n",
      " |  Methods inherited from Dog:\n",
      " |  \n",
      " |  __init__(self, name, age)\n",
      " |      Initialize self.  See help(type(self)) for accurate signature.\n",
      " |  \n",
      " |  bark(self)\n",
      " |  \n",
      " |  ----------------------------------------------------------------------\n",
      " |  Data and other attributes inherited from Dog:\n",
      " |  \n",
      " |  breed = 'labrador'\n",
      " |  \n",
      " |  ----------------------------------------------------------------------\n",
      " |  Methods inherited from Animal:\n",
      " |  \n",
      " |  eat(self, food)\n",
      " |  \n",
      " |  ----------------------------------------------------------------------\n",
      " |  Data descriptors inherited from Animal:\n",
      " |  \n",
      " |  __dict__\n",
      " |      dictionary for instance variables (if defined)\n",
      " |  \n",
      " |  __weakref__\n",
      " |      list of weak references to the object (if defined)\n",
      " |  \n",
      " |  ----------------------------------------------------------------------\n",
      " |  Data and other attributes inherited from Animal:\n",
      " |  \n",
      " |  typeOfAnimal = 'Dog'\n",
      "\n"
     ]
    }
   ],
   "source": [
    "help(tommy)"
   ]
  },
  {
   "cell_type": "code",
   "execution_count": null,
   "metadata": {},
   "outputs": [],
   "source": []
  }
 ],
 "metadata": {
  "kernelspec": {
   "display_name": "Python 3",
   "language": "python",
   "name": "python3"
  },
  "language_info": {
   "codemirror_mode": {
    "name": "ipython",
    "version": 3
   },
   "file_extension": ".py",
   "mimetype": "text/x-python",
   "name": "python",
   "nbconvert_exporter": "python",
   "pygments_lexer": "ipython3",
   "version": "3.8.3"
  }
 },
 "nbformat": 4,
 "nbformat_minor": 4
}
