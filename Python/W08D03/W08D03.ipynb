{
 "cells": [
  {
   "cell_type": "code",
   "execution_count": null,
   "metadata": {},
   "outputs": [],
   "source": [
    "# hackerrank\n",
    "# leetcode\n",
    "\n",
    "\n",
    "Data Types:\n",
    "    str\n",
    "    int\n",
    "    list\n",
    "    tuple\n",
    "    dict\n",
    "    float\n",
    "    set\n",
    "    bool\n",
    "    None\n",
    "    \n",
    "Iterables:\n",
    "    str\n",
    "    tuple\n",
    "    dict\n",
    "    set\n",
    "    list\n",
    "    \n",
    "    range function\n",
    "    \n",
    "What are Iterables?\n",
    "- which we can loop over\n",
    "- builtin object that can be converted to an iterator\n",
    "\n",
    "What are Iterators?\n",
    "- object that have __iter__() and __next__() methods defined.\n",
    "- We can generate Iterators from iter(Iterable)\n",
    "- for loop on Iterables automatically uses Iterators\n",
    "- We can customly define Iterators using a concept known as Generators.\n",
    "\n",
    "How do I create Generators?\n",
    "- Generator function can be created using the yield keyword in a function.\n",
    "- Generator object can be converted using obj_name = generator_fun()\n",
    "- Can we create multiple generators objects using a single generator function? YES\n",
    "\n",
    "Which of the above data types are immutable?\n",
    "- Immutable mean which we can not edit\n",
    "    tuple\n",
    "    int\n",
    "    float\n",
    "    int\n",
    "    None\n",
    "    str\n",
    "    bool\n",
    "    \n",
    "Which of the above data types are mutable?\n",
    "    list\n",
    "    dict\n",
    "    set\n",
    "    \n",
    "What are the two most important things about dict keys and set elements?\n",
    "- unique\n",
    "- immutable\n",
    "    \n",
    "Python is an Interpreted Language.\n",
    "What does that mean?\n",
    "\n",
    "Code is Compiled and Executed line by line.\n",
    "\n",
    "Java, C are Comiled Languages.\n",
    "What does that mean?\n",
    "\n",
    "All the code is compiled completely and than Execution starts."
   ]
  },
  {
   "cell_type": "code",
   "execution_count": 1,
   "metadata": {},
   "outputs": [
    {
     "ename": "TypeError",
     "evalue": "'str' object does not support item assignment",
     "output_type": "error",
     "traceback": [
      "\u001b[1;31m---------------------------------------------------------------------------\u001b[0m",
      "\u001b[1;31mTypeError\u001b[0m                                 Traceback (most recent call last)",
      "\u001b[1;32m<ipython-input-1-669fef5a2dcc>\u001b[0m in \u001b[0;36m<module>\u001b[1;34m\u001b[0m\n\u001b[0;32m      1\u001b[0m \u001b[0ma\u001b[0m \u001b[1;33m=\u001b[0m \u001b[1;34m'apple'\u001b[0m\u001b[1;33m\u001b[0m\u001b[1;33m\u001b[0m\u001b[0m\n\u001b[1;32m----> 2\u001b[1;33m \u001b[0ma\u001b[0m\u001b[1;33m[\u001b[0m\u001b[1;36m0\u001b[0m\u001b[1;33m]\u001b[0m \u001b[1;33m=\u001b[0m \u001b[1;34m'b'\u001b[0m\u001b[1;33m\u001b[0m\u001b[1;33m\u001b[0m\u001b[0m\n\u001b[0m",
      "\u001b[1;31mTypeError\u001b[0m: 'str' object does not support item assignment"
     ]
    }
   ],
   "source": [
    "a = 'apple'\n",
    "a[0] = 'b'"
   ]
  },
  {
   "cell_type": "markdown",
   "metadata": {},
   "source": [
    "## LIST COMPREHENSION"
   ]
  },
  {
   "cell_type": "code",
   "execution_count": null,
   "metadata": {},
   "outputs": [],
   "source": [
    "SHORT WAY OR ONE LINE WAY OF MAKING A LIST WITH SOME LOGIC"
   ]
  },
  {
   "cell_type": "code",
   "execution_count": null,
   "metadata": {},
   "outputs": [],
   "source": [
    "SYNTAX: [WRITE SOME RULE DEFINED CODE INSIDE THESE BRACKETS]\n",
    "    \n",
    "WE WRITE LOGIC IN SOME SPECIFIC ORDER WHICH IS PREDEFINED FOR THESE."
   ]
  },
  {
   "cell_type": "code",
   "execution_count": 2,
   "metadata": {},
   "outputs": [
    {
     "name": "stdout",
     "output_type": "stream",
     "text": [
      "[2, 4, 6]\n"
     ]
    }
   ],
   "source": [
    "list1 = [1,2,3,4,5,6]\n",
    "\n",
    "even_numbers = []\n",
    "\n",
    "for i in list1:\n",
    "    if i%2==0:\n",
    "        even_numbers.append(i)\n",
    "        \n",
    "print(even_numbers)"
   ]
  },
  {
   "cell_type": "code",
   "execution_count": 4,
   "metadata": {},
   "outputs": [],
   "source": [
    "x = [i for i in list1 if i%2==0]"
   ]
  },
  {
   "cell_type": "code",
   "execution_count": 5,
   "metadata": {},
   "outputs": [
    {
     "name": "stdout",
     "output_type": "stream",
     "text": [
      "[2, 4, 6]\n"
     ]
    }
   ],
   "source": [
    "print(x)"
   ]
  },
  {
   "cell_type": "code",
   "execution_count": 8,
   "metadata": {},
   "outputs": [
    {
     "name": "stdout",
     "output_type": "stream",
     "text": [
      "['PEACH', 'KIWI', 'BANANA']\n"
     ]
    }
   ],
   "source": [
    "list2 = ['aPple','Mango','PEACH','pineapple','KIWI','cherry','BANANA']\n",
    "\n",
    "# Q1 filter out those fruits which are defined all in caps.\n",
    "\n",
    "# isupper() function on string\n",
    "\n",
    "filtered_fruits = []\n",
    "\n",
    "for i in list2:\n",
    "    if i.isupper():\n",
    "        filtered_fruits.append(i)\n",
    "        \n",
    "print(filtered_fruits)"
   ]
  },
  {
   "cell_type": "code",
   "execution_count": 9,
   "metadata": {},
   "outputs": [],
   "source": [
    "filtered_fruits = [i for i in list2 if i.isupper()]"
   ]
  },
  {
   "cell_type": "code",
   "execution_count": 14,
   "metadata": {},
   "outputs": [
    {
     "name": "stdout",
     "output_type": "stream",
     "text": [
      "['aPple', 'Mango', 'PEACH', 'pineapple', 'KIWI', 'cherry', 'BANANA']\n"
     ]
    }
   ],
   "source": [
    "fruits = [i for i in list2]\n",
    "\n",
    "print(fruits)"
   ]
  },
  {
   "cell_type": "code",
   "execution_count": 10,
   "metadata": {},
   "outputs": [
    {
     "name": "stdout",
     "output_type": "stream",
     "text": [
      "['PEACH', 'KIWI', 'BANANA']\n"
     ]
    }
   ],
   "source": [
    "print(filtered_fruits)"
   ]
  },
  {
   "cell_type": "code",
   "execution_count": 11,
   "metadata": {},
   "outputs": [
    {
     "name": "stdout",
     "output_type": "stream",
     "text": [
      "[1, 4, 9, 16, 25, 36]\n"
     ]
    }
   ],
   "source": [
    "# Q2 : MAKE A LIST CONTAINING SQUARE OF NUMBERS FROM 1 TO 6. USE LIST COMPREHENSION.\n",
    "    \n",
    "# DO WE NEED ANY IF CONDITION FOR THIS CODE?\n",
    "# NO\n",
    "# IGNORE THE IF CONDITION PART OF SYNTAX.\n",
    "\n",
    "square_list = []\n",
    "for i in range(1,7):\n",
    "    square_list.append(i**2)\n",
    "\n",
    "print(square_list)"
   ]
  },
  {
   "cell_type": "code",
   "execution_count": 12,
   "metadata": {},
   "outputs": [
    {
     "name": "stdout",
     "output_type": "stream",
     "text": [
      "[1, 4, 9, 16, 25, 36]\n"
     ]
    }
   ],
   "source": [
    "square_list = [i**2 for i in range(1,7)]\n",
    "print(square_list)"
   ]
  },
  {
   "cell_type": "code",
   "execution_count": 15,
   "metadata": {},
   "outputs": [
    {
     "name": "stdout",
     "output_type": "stream",
     "text": [
      "[2, 4, 6, 8, 10, 12]\n"
     ]
    }
   ],
   "source": [
    "# Q2 : MAKE A LIST CONTAINING double OF NUMBERS FROM 1 TO 6. USE LIST COMPREHENSION.\n",
    "    \n",
    "# DO WE NEED ANY IF CONDITION FOR THIS CODE?\n",
    "# NO\n",
    "# IGNORE THE IF CONDITION PART OF SYNTAX.\n",
    "\n",
    "double_list = [2*i for i in range(1,7)]\n",
    "print(double_list)"
   ]
  },
  {
   "cell_type": "code",
   "execution_count": 2,
   "metadata": {},
   "outputs": [
    {
     "name": "stdout",
     "output_type": "stream",
     "text": [
      "['python1', 'python2', 'python3', 'python4']\n"
     ]
    }
   ],
   "source": [
    "# Q3: \n",
    "list1 = [1,2,3,4]\n",
    "# print a list like this ['python1','python2','python3','python4']\n",
    "\n",
    "# use list comprehension\n",
    "\n",
    "output_list = []\n",
    "\n",
    "for i in list1:\n",
    "    output_list.append('python'+str(i))\n",
    "    \n",
    "print(output_list)"
   ]
  },
  {
   "cell_type": "code",
   "execution_count": 3,
   "metadata": {},
   "outputs": [
    {
     "name": "stdout",
     "output_type": "stream",
     "text": [
      "['python1', 'python2', 'python3', 'python4']\n"
     ]
    }
   ],
   "source": [
    "output_list = ['python'+str(i) for i in list1]\n",
    "print(output_list)"
   ]
  },
  {
   "cell_type": "code",
   "execution_count": 5,
   "metadata": {},
   "outputs": [],
   "source": [
    "# Q4 Make a list containing length of strings from a list of strings. use list comprehension\n",
    "\n",
    "list_of_string = ['apple123','mango345','5677','happylearning','jamish','gopala']\n",
    "# len_of_these = [8,8,etc...]"
   ]
  },
  {
   "cell_type": "code",
   "execution_count": 6,
   "metadata": {},
   "outputs": [
    {
     "name": "stdout",
     "output_type": "stream",
     "text": [
      "[8, 8, 4, 13, 6, 6]\n"
     ]
    }
   ],
   "source": [
    "output_list = []\n",
    "\n",
    "for i in list_of_string:\n",
    "    output_list.append(len(i))\n",
    "    \n",
    "print(output_list)"
   ]
  },
  {
   "cell_type": "code",
   "execution_count": 7,
   "metadata": {},
   "outputs": [],
   "source": [
    "output_list = [len(i) for i in list_of_string]"
   ]
  },
  {
   "cell_type": "code",
   "execution_count": 8,
   "metadata": {},
   "outputs": [
    {
     "name": "stdout",
     "output_type": "stream",
     "text": [
      "[8, 8, 4, 13, 6, 6]\n"
     ]
    }
   ],
   "source": [
    "print(output_list)"
   ]
  },
  {
   "cell_type": "markdown",
   "metadata": {},
   "source": [
    "## zip"
   ]
  },
  {
   "cell_type": "code",
   "execution_count": 10,
   "metadata": {},
   "outputs": [
    {
     "data": {
      "text/plain": [
       "[(1, 5, 9), (2, 6, 10), (3, 7, 11), (4, 8, 12)]"
      ]
     },
     "execution_count": 10,
     "metadata": {},
     "output_type": "execute_result"
    }
   ],
   "source": [
    "l1 = [1,2,3,4]\n",
    "l2 = [5,6,7,8]\n",
    "l3 = [9,10,11,12]\n",
    "\n",
    "# zip takes variable number of arguments(any number of arguments)\n",
    "# iterables.\n",
    "\n",
    "list(zip(l1,l2,l3))"
   ]
  },
  {
   "cell_type": "code",
   "execution_count": 11,
   "metadata": {},
   "outputs": [
    {
     "data": {
      "text/plain": [
       "[(1, 5), (2, 6), (3, 7), (4, 8)]"
      ]
     },
     "execution_count": 11,
     "metadata": {},
     "output_type": "execute_result"
    }
   ],
   "source": [
    "list(zip(l1,l2))"
   ]
  },
  {
   "cell_type": "code",
   "execution_count": 12,
   "metadata": {},
   "outputs": [
    {
     "data": {
      "text/plain": [
       "[(1, 5, 9), (2, 6, 10), (3, 7, 11), (4, 8, 12)]"
      ]
     },
     "execution_count": 12,
     "metadata": {},
     "output_type": "execute_result"
    }
   ],
   "source": [
    "# what if lengths of list is not same?\n",
    "\n",
    "l1 = [1,2,3,4,40,50,60]\n",
    "l2 = [5,6,7,8]\n",
    "l3 = [9,10,11,12]\n",
    "\n",
    "# zip takes variable number of arguments(any number of arguments)\n",
    "# iterables.\n",
    "\n",
    "list(zip(l1,l2,l3))"
   ]
  },
  {
   "cell_type": "code",
   "execution_count": 13,
   "metadata": {},
   "outputs": [
    {
     "data": {
      "text/plain": [
       "[('python', 9), ('java', 10), (7, 11), (8, 12)]"
      ]
     },
     "execution_count": 13,
     "metadata": {},
     "output_type": "execute_result"
    }
   ],
   "source": [
    "l2 = ['python','java',7,8]\n",
    "l3 = [9,10,11,12]\n",
    "\n",
    "list(zip(l2,l3))"
   ]
  },
  {
   "cell_type": "code",
   "execution_count": 16,
   "metadata": {},
   "outputs": [
    {
     "data": {
      "text/plain": [
       "{'python': 9, 'java': 10, 'mango': 11, 'kiwi': 12}"
      ]
     },
     "execution_count": 16,
     "metadata": {},
     "output_type": "execute_result"
    }
   ],
   "source": [
    "l2 = ['python','java','mango','kiwi']\n",
    "l3 = [9,10,11,12,13]\n",
    "\n",
    "dict(zip(l2,l3))"
   ]
  },
  {
   "cell_type": "code",
   "execution_count": 17,
   "metadata": {},
   "outputs": [
    {
     "data": {
      "text/plain": [
       "{('java', 10), ('kiwi', 12), ('mango', 11), ('python', 9)}"
      ]
     },
     "execution_count": 17,
     "metadata": {},
     "output_type": "execute_result"
    }
   ],
   "source": [
    "l2 = ['python','java','mango','kiwi']\n",
    "l3 = [9,10,11,12,13]\n",
    "\n",
    "set(zip(l2,l3))"
   ]
  },
  {
   "cell_type": "code",
   "execution_count": 19,
   "metadata": {},
   "outputs": [],
   "source": [
    "# Q5: USE LIST COMPREHENSION AND ZIP\n",
    "\n",
    "l1 = ['python','java','django','c']\n",
    "\n",
    "# make a dict which will contain the keys from l1 and value should be length of the string from the list l1.\n",
    "\n",
    "# output = {'python':6,'java':4,'django':6,'c':1}"
   ]
  },
  {
   "cell_type": "code",
   "execution_count": 25,
   "metadata": {},
   "outputs": [
    {
     "data": {
      "text/plain": [
       "{'python': 6, 'java': 4, 'django': 6, 'c': 1}"
      ]
     },
     "execution_count": 25,
     "metadata": {},
     "output_type": "execute_result"
    }
   ],
   "source": [
    "l2 = [len(i) for i in l1]\n",
    "dict(zip (l1,l2))"
   ]
  },
  {
   "cell_type": "code",
   "execution_count": 20,
   "metadata": {},
   "outputs": [
    {
     "name": "stdout",
     "output_type": "stream",
     "text": [
      "{'python': 6, 'java': 4, 'django': 6, 'c': 1}\n"
     ]
    }
   ],
   "source": [
    "print(dict(zip(l1,[len(i) for i in l1])))"
   ]
  },
  {
   "cell_type": "code",
   "execution_count": null,
   "metadata": {},
   "outputs": [],
   "source": [
    "## another version of list comprehension: for if-else case."
   ]
  },
  {
   "cell_type": "code",
   "execution_count": 21,
   "metadata": {},
   "outputs": [],
   "source": [
    "list1 = [1,3,5,6]\n",
    "\n",
    "out1 = ['odd','odd','odd','even']\n",
    "\n",
    "list2 = [3,4]\n",
    "\n",
    "out2 = ['odd','even']"
   ]
  },
  {
   "cell_type": "code",
   "execution_count": 24,
   "metadata": {},
   "outputs": [
    {
     "name": "stdout",
     "output_type": "stream",
     "text": [
      "['odd', 'odd', 'odd', 'even']\n"
     ]
    }
   ],
   "source": [
    "# how would normal of this would look?\n",
    "\n",
    "out_list = []\n",
    "\n",
    "for i in list1:\n",
    "    if i%2!=0:\n",
    "        out_list.append('odd')\n",
    "    else:\n",
    "        out_list.append('even')\n",
    "        \n",
    "print(out_list)"
   ]
  },
  {
   "cell_type": "code",
   "execution_count": 23,
   "metadata": {},
   "outputs": [
    {
     "data": {
      "text/plain": [
       "['odd', 'even']"
      ]
     },
     "execution_count": 23,
     "metadata": {},
     "output_type": "execute_result"
    }
   ],
   "source": [
    "## list comprehension version\n",
    "\n",
    "['odd' if i%2!=0 else 'even' for i in list2]"
   ]
  },
  {
   "cell_type": "code",
   "execution_count": 26,
   "metadata": {},
   "outputs": [
    {
     "name": "stdout",
     "output_type": "stream",
     "text": [
      "[3, 4, 3, 4]\n"
     ]
    }
   ],
   "source": [
    "list1 = [1,1,2,2]\n",
    "list2 = [2,3,1,2]\n",
    "\n",
    "# [3,4,3,4] ?\n",
    "\n",
    "output_list = []\n",
    "\n",
    "for v1,v2 in zip(list1,list2):\n",
    "    output_list.append(v1+v2)\n",
    "    \n",
    "print(output_list)"
   ]
  },
  {
   "cell_type": "code",
   "execution_count": 27,
   "metadata": {},
   "outputs": [
    {
     "data": {
      "text/plain": [
       "[3, 4, 3, 4]"
      ]
     },
     "execution_count": 27,
     "metadata": {},
     "output_type": "execute_result"
    }
   ],
   "source": [
    "[v1+v2 for v1,v2 in zip(list1,list2)]"
   ]
  },
  {
   "cell_type": "code",
   "execution_count": null,
   "metadata": {},
   "outputs": [],
   "source": [
    "# another version of list comprehension: nested loops."
   ]
  },
  {
   "cell_type": "code",
   "execution_count": 29,
   "metadata": {},
   "outputs": [
    {
     "name": "stdout",
     "output_type": "stream",
     "text": [
      "2\n",
      "4\n",
      "6\n",
      "8\n",
      "10\n",
      "12\n",
      "14\n",
      "16\n",
      "18\n",
      "20\n",
      "********************\n",
      "3\n",
      "6\n",
      "9\n",
      "12\n",
      "15\n",
      "18\n",
      "21\n",
      "24\n",
      "27\n",
      "30\n",
      "********************\n"
     ]
    }
   ],
   "source": [
    "for tableof in [2,3]:\n",
    "    for i in range(1,11):\n",
    "        print(tableof*i)\n",
    "    print(\"********************\")"
   ]
  },
  {
   "cell_type": "code",
   "execution_count": 30,
   "metadata": {},
   "outputs": [
    {
     "data": {
      "text/plain": [
       "[2, 4, 6, 8, 10, 12, 14, 16, 18, 20, 3, 6, 9, 12, 15, 18, 21, 24, 27, 30]"
      ]
     },
     "execution_count": 30,
     "metadata": {},
     "output_type": "execute_result"
    }
   ],
   "source": [
    "[tableof*i for tableof in [2,3] for i in range(1,11)]"
   ]
  },
  {
   "cell_type": "code",
   "execution_count": 35,
   "metadata": {},
   "outputs": [],
   "source": [
    "# Q6:\n",
    "l1 = [[1,2,3],[4,5,6],[7,8,9]]\n",
    "    \n",
    "# make a list like [1,2,3,4,5,6,7,8,9] from the above one using list comprehension."
   ]
  },
  {
   "cell_type": "code",
   "execution_count": 36,
   "metadata": {},
   "outputs": [],
   "source": [
    "## NOTE: YOU CAN CONVERT EVERY LIST COMPREHENSION INTO FOR LOOPS.\n",
    "#     BUT\n",
    "#     YOU CAN NOT CONVERT EVERY SET OF CODE OR FOR LOOPS INTO LIST COMPREHENTION"
   ]
  },
  {
   "cell_type": "code",
   "execution_count": 37,
   "metadata": {},
   "outputs": [
    {
     "name": "stdout",
     "output_type": "stream",
     "text": [
      "[1, 2, 3, 4, 5, 6, 7, 8, 9]\n"
     ]
    }
   ],
   "source": [
    "output_list = []\n",
    "\n",
    "for minilist in l1:\n",
    "    for item in minilist:\n",
    "        output_list.append(item)\n",
    "        \n",
    "print(output_list)"
   ]
  },
  {
   "cell_type": "code",
   "execution_count": 38,
   "metadata": {},
   "outputs": [
    {
     "data": {
      "text/plain": [
       "[1, 2, 3, 4, 5, 6, 7, 8, 9]"
      ]
     },
     "execution_count": 38,
     "metadata": {},
     "output_type": "execute_result"
    }
   ],
   "source": [
    "[item for minilist in l1 for item in minilist]"
   ]
  },
  {
   "cell_type": "code",
   "execution_count": null,
   "metadata": {},
   "outputs": [],
   "source": [
    "## LAMBDA FUNCTIONS(or Anonymous functions or Lambda Expression)\n",
    "\n",
    "-> ONE LINER FUNCTIONS\n",
    "-> lambda a: a+5\n",
    "-> They can have a name like x = lambda a: a+5\n",
    "-> BUT THE THING IS THEY ARE OFTEN USED WITHOUT A NAME, LIKE INSIDE MAP\n",
    "-> MOST OF THE TIMES lambda are used in case where we want to use the function only once.\n",
    "\n",
    "\n",
    "WHAT IS THE SYNTAX OF MAP?\n",
    "map(func,iterable)\n",
    "so the func could be a lambda function."
   ]
  },
  {
   "cell_type": "code",
   "execution_count": 39,
   "metadata": {},
   "outputs": [],
   "source": [
    "x = lambda a: a+5"
   ]
  },
  {
   "cell_type": "code",
   "execution_count": 40,
   "metadata": {},
   "outputs": [
    {
     "data": {
      "text/plain": [
       "8"
      ]
     },
     "execution_count": 40,
     "metadata": {},
     "output_type": "execute_result"
    }
   ],
   "source": [
    "x(3)"
   ]
  },
  {
   "cell_type": "code",
   "execution_count": 41,
   "metadata": {},
   "outputs": [
    {
     "data": {
      "text/plain": [
       "6"
      ]
     },
     "execution_count": 41,
     "metadata": {},
     "output_type": "execute_result"
    }
   ],
   "source": [
    "x(1)"
   ]
  },
  {
   "cell_type": "code",
   "execution_count": 42,
   "metadata": {},
   "outputs": [
    {
     "data": {
      "text/plain": [
       "9"
      ]
     },
     "execution_count": 42,
     "metadata": {},
     "output_type": "execute_result"
    }
   ],
   "source": [
    "x(4)"
   ]
  },
  {
   "cell_type": "code",
   "execution_count": 43,
   "metadata": {},
   "outputs": [],
   "source": [
    "# normal function for this.\n",
    "\n",
    "def x(a):\n",
    "    return a+5\n",
    "\n",
    "lambda equivalent of the above code is : x = lambda a: a+5"
   ]
  },
  {
   "cell_type": "code",
   "execution_count": 44,
   "metadata": {},
   "outputs": [
    {
     "data": {
      "text/plain": [
       "8"
      ]
     },
     "execution_count": 44,
     "metadata": {},
     "output_type": "execute_result"
    }
   ],
   "source": [
    "x(3)"
   ]
  },
  {
   "cell_type": "code",
   "execution_count": 45,
   "metadata": {},
   "outputs": [
    {
     "data": {
      "text/plain": [
       "6"
      ]
     },
     "execution_count": 45,
     "metadata": {},
     "output_type": "execute_result"
    }
   ],
   "source": [
    "x(1)"
   ]
  },
  {
   "cell_type": "code",
   "execution_count": 46,
   "metadata": {},
   "outputs": [
    {
     "data": {
      "text/plain": [
       "9"
      ]
     },
     "execution_count": 46,
     "metadata": {},
     "output_type": "execute_result"
    }
   ],
   "source": [
    "x(4)"
   ]
  },
  {
   "cell_type": "code",
   "execution_count": null,
   "metadata": {},
   "outputs": [],
   "source": [
    "SYNTAX -\n",
    "\n",
    "lambda arguments: output expression\n",
    "\n",
    "-> We don't use return keyword here in lambda functions.\n",
    "\n",
    "LIMITATION OF LAMBDAS:\n",
    "    it can have any number of arguments but can have only one expression.\n",
    "    \n",
    "def oddOReven(a):\n",
    "    if a%2==0:\n",
    "        return 'even'\n",
    "    else:\n",
    "        return 'odd'\n",
    "    \n",
    "the above type of code can not be converted into a lambda function."
   ]
  },
  {
   "cell_type": "code",
   "execution_count": 47,
   "metadata": {},
   "outputs": [],
   "source": [
    "def addingPython(a):\n",
    "    return 'python'+str(a)\n",
    "\n",
    "# lambda version will be\n",
    "\n",
    "lambda a: 'python'+str(a)"
   ]
  },
  {
   "cell_type": "code",
   "execution_count": 48,
   "metadata": {},
   "outputs": [
    {
     "data": {
      "text/plain": [
       "'python3'"
      ]
     },
     "execution_count": 48,
     "metadata": {},
     "output_type": "execute_result"
    }
   ],
   "source": [
    "addingPython(3)"
   ]
  },
  {
   "cell_type": "code",
   "execution_count": 49,
   "metadata": {},
   "outputs": [],
   "source": [
    "list_of_numbers = [1,2,3,4]\n",
    "\n",
    "output = ['python1','python2','python3','python4']\n",
    "\n",
    "use map and lambda."
   ]
  },
  {
   "cell_type": "code",
   "execution_count": 51,
   "metadata": {},
   "outputs": [
    {
     "data": {
      "text/plain": [
       "['python1', 'python2', 'python3', 'python4']"
      ]
     },
     "execution_count": 51,
     "metadata": {},
     "output_type": "execute_result"
    }
   ],
   "source": [
    "# map(func,iterable)\n",
    "list_of_numbers = [1,2,3,4]\n",
    "list(map(lambda a: 'python'+str(a),list_of_numbers))"
   ]
  },
  {
   "cell_type": "code",
   "execution_count": null,
   "metadata": {},
   "outputs": [],
   "source": [
    "PYTHON IS A HIGH LEVEL LANGUAGE:\n",
    "EVEN JAVA,C ARE ALSO HIGH LEVEL LANGUAGE"
   ]
  },
  {
   "cell_type": "code",
   "execution_count": null,
   "metadata": {},
   "outputs": [],
   "source": [
    "FUNCTIONS LIKE map() , filter() , zip() often uses lambda expression"
   ]
  },
  {
   "cell_type": "code",
   "execution_count": null,
   "metadata": {},
   "outputs": [],
   "source": [
    "l1 = [1,2,3,4,5]\n",
    "\n",
    "use filter and lambda expression to get a filtered even list."
   ]
  },
  {
   "cell_type": "code",
   "execution_count": 52,
   "metadata": {},
   "outputs": [
    {
     "data": {
      "text/plain": [
       "True"
      ]
     },
     "execution_count": 52,
     "metadata": {},
     "output_type": "execute_result"
    }
   ],
   "source": [
    "4%2==0"
   ]
  },
  {
   "cell_type": "code",
   "execution_count": null,
   "metadata": {},
   "outputs": [],
   "source": [
    "filter(func,iterable)"
   ]
  },
  {
   "cell_type": "code",
   "execution_count": 53,
   "metadata": {},
   "outputs": [
    {
     "data": {
      "text/plain": [
       "[2, 4]"
      ]
     },
     "execution_count": 53,
     "metadata": {},
     "output_type": "execute_result"
    }
   ],
   "source": [
    "list(filter(lambda a:a%2==0,[1,2,3,4,5]))"
   ]
  },
  {
   "cell_type": "code",
   "execution_count": null,
   "metadata": {},
   "outputs": [],
   "source": [
    "QLast:\n",
    "    l1 = ['python','java','c']\n",
    "    \n",
    "    output = ['PYTHON','JAVA','C']\n",
    "    \n",
    "USE map and lambda."
   ]
  },
  {
   "cell_type": "code",
   "execution_count": 54,
   "metadata": {},
   "outputs": [],
   "source": [
    "l1 = ['python','java','c']\n",
    "l=list(map(lambda a:a.upper(),l1))\n",
    "\n",
    "# map(func,iterable)"
   ]
  },
  {
   "cell_type": "code",
   "execution_count": 55,
   "metadata": {},
   "outputs": [
    {
     "name": "stdout",
     "output_type": "stream",
     "text": [
      "['PYTHON', 'JAVA', 'C']\n"
     ]
    }
   ],
   "source": [
    "print(l)"
   ]
  },
  {
   "cell_type": "code",
   "execution_count": null,
   "metadata": {},
   "outputs": [],
   "source": []
  }
 ],
 "metadata": {
  "kernelspec": {
   "display_name": "Python 3",
   "language": "python",
   "name": "python3"
  },
  "language_info": {
   "codemirror_mode": {
    "name": "ipython",
    "version": 3
   },
   "file_extension": ".py",
   "mimetype": "text/x-python",
   "name": "python",
   "nbconvert_exporter": "python",
   "pygments_lexer": "ipython3",
   "version": "3.8.3"
  }
 },
 "nbformat": 4,
 "nbformat_minor": 4
}
