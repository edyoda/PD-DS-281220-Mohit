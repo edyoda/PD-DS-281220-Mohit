{
 "cells": [
  {
   "cell_type": "code",
   "execution_count": null,
   "metadata": {},
   "outputs": [],
   "source": [
    "ACCESS OBJ VAR OR OBJ METHOD.\n",
    "\n",
    "OBJ_REF.OBJ_METHOD_1\n",
    "OBJ_REF.OBJ_METHOD_2\n",
    "\n",
    "OBJ_REF.OBJ_VAR1\n",
    "OBJ_REF.OBJ_VAR2\n",
    "\n",
    "chetan = Person('astroboy','boy')\n",
    "\n",
    "Here chetan is the OBJ_REF.\n",
    "\n",
    "chetan.eat()\n",
    "\n",
    "chetan.walking()\n",
    "\n",
    "chetan.gender\n",
    "\n",
    "chetan.name"
   ]
  },
  {
   "cell_type": "code",
   "execution_count": null,
   "metadata": {},
   "outputs": [],
   "source": [
    "ACCESS CLASS VAR OR CLASS METHOD\n",
    "\n",
    "CLASS_REF.CLASS_METHOD_1\n",
    "\n",
    "CLASS_REF.CLASS_METHOD_2\n",
    "\n",
    "CLASS_REF.CLASS_VAR\n",
    "\n",
    "CLASS_REF.CLASS_VAR2\n",
    "\n",
    "class Person:\n",
    "    blah blah\n",
    "    \n",
    "Person is CLASS_REF HERE.\n",
    "\n",
    "OBJ_REF.CLASS_METHOD_1\n",
    "OBJ_REF.CLASS_VAR"
   ]
  },
  {
   "cell_type": "markdown",
   "metadata": {},
   "source": [
    "# setters and getters"
   ]
  },
  {
   "cell_type": "code",
   "execution_count": 4,
   "metadata": {},
   "outputs": [],
   "source": [
    "class Person:\n",
    "    typeofPerson = 'human' # class variable.\n",
    "    def __init__(self,name,gender):    # special object method.\n",
    "        print('New baby '+gender+' is born')\n",
    "        print('Lets name the '+gender+' as '+name)\n",
    "        self.name = name  # object variable created\n",
    "        self.gender = gender  # object variable created\n",
    "        \n",
    "    def get_name(self):\n",
    "        return self.name\n",
    "    \n",
    "    def set_name(self,new_name):\n",
    "        self.name = new_name\n",
    "        \n",
    "    def get_gender(self):\n",
    "        return self.gender\n",
    "    \n",
    "    def set_gender(self,new_gender):\n",
    "        self.gender = new_gender\n",
    "        \n",
    "    def eat(self):  # object method\n",
    "        print(self.name,' is eating now')\n",
    "        \n",
    "    @classmethod\n",
    "    def walking(cls):\n",
    "        print(cls.typeofPerson + ' can walk')"
   ]
  },
  {
   "cell_type": "code",
   "execution_count": 7,
   "metadata": {},
   "outputs": [
    {
     "name": "stdout",
     "output_type": "stream",
     "text": [
      "New baby boy is born\n",
      "Lets name the boy as astroboy\n",
      "astroboy\n",
      "None\n",
      "Greenlord\n"
     ]
    }
   ],
   "source": [
    "chetan = Person('astroboy','boy')\n",
    "\n",
    "print(chetan.get_name())\n",
    "print(chetan.set_name('Greenlord'))\n",
    "\n",
    "print(chetan.get_name())"
   ]
  },
  {
   "cell_type": "code",
   "execution_count": 2,
   "metadata": {},
   "outputs": [],
   "source": [
    "Q1) Create a class Animal, and Implement following things.\n",
    "\n",
    "=> means print\n",
    "\n",
    "animal_obj = Animal(blah blah)\n",
    "\n",
    "if I call animal_obj.eat() => obj_name is eating.\n",
    "\n",
    "animal_obj.walk() => it should print walking with obj_no_of_legs\n",
    "\n",
    "animal_obj.getName() => return me the name\n",
    "\n",
    "animal_obj.setName() => set the name of the animal\n",
    "\n",
    "setters and getters for no_of_legs.\n",
    "\n",
    "Object Varaibles: obj_name,no_of_legs"
   ]
  },
  {
   "cell_type": "code",
   "execution_count": null,
   "metadata": {},
   "outputs": [],
   "source": [
    "10 mins"
   ]
  },
  {
   "cell_type": "code",
   "execution_count": 19,
   "metadata": {},
   "outputs": [],
   "source": [
    "class Animal:\n",
    "    def get_name(self):\n",
    "        return self.name\n",
    "    \n",
    "    def set_name(self,new_name):\n",
    "        self.name = new_name\n",
    "        \n",
    "    def get_noOfLegs(self):\n",
    "        return self.noOfLegs\n",
    "    \n",
    "    def set_noOfLegs(self,noOfLegs):\n",
    "        self.noOfLegs = noOfLegs\n",
    "        \n",
    "    def walk(self):\n",
    "        print('walking with ',self.noOfLegs)\n",
    "        \n",
    "    def eat(self):\n",
    "        print(self.name+' is eating')"
   ]
  },
  {
   "cell_type": "code",
   "execution_count": 20,
   "metadata": {},
   "outputs": [],
   "source": [
    "snowbell = Animal()"
   ]
  },
  {
   "cell_type": "code",
   "execution_count": 21,
   "metadata": {},
   "outputs": [],
   "source": [
    "snowbell.set_name('**SNOWBELL**')"
   ]
  },
  {
   "cell_type": "code",
   "execution_count": 22,
   "metadata": {},
   "outputs": [
    {
     "data": {
      "text/plain": [
       "'**SNOWBELL**'"
      ]
     },
     "execution_count": 22,
     "metadata": {},
     "output_type": "execute_result"
    }
   ],
   "source": [
    "snowbell.get_name()"
   ]
  },
  {
   "cell_type": "code",
   "execution_count": 23,
   "metadata": {},
   "outputs": [
    {
     "name": "stdout",
     "output_type": "stream",
     "text": [
      "**SNOWBELL** is eating\n"
     ]
    }
   ],
   "source": [
    "snowbell.eat()"
   ]
  },
  {
   "cell_type": "code",
   "execution_count": 24,
   "metadata": {},
   "outputs": [],
   "source": [
    "snowbell.set_noOfLegs(4)"
   ]
  },
  {
   "cell_type": "code",
   "execution_count": 25,
   "metadata": {},
   "outputs": [
    {
     "data": {
      "text/plain": [
       "4"
      ]
     },
     "execution_count": 25,
     "metadata": {},
     "output_type": "execute_result"
    }
   ],
   "source": [
    "snowbell.get_noOfLegs()"
   ]
  },
  {
   "cell_type": "code",
   "execution_count": 26,
   "metadata": {},
   "outputs": [
    {
     "name": "stdout",
     "output_type": "stream",
     "text": [
      "walking with  4\n"
     ]
    }
   ],
   "source": [
    "snowbell.walk()"
   ]
  },
  {
   "cell_type": "code",
   "execution_count": null,
   "metadata": {},
   "outputs": [],
   "source": [
    "Q2) Create a Class named Vehicle which will do the following things\n",
    "\n",
    "applybreak() => it should decrease the speed of vehicle to 0\n",
    "\n",
    "slow_down() => it should slow the car speed by 10 units.\n",
    "\n",
    "accelerate() => it should increase the speed by 10 units.\n",
    "\n",
    "ignite() => it should start the car with speed 0\n",
    "\n",
    "gear_up() => it should increase the gear by 1. but toatl no of gears\n",
    "are only 5\n",
    "\n",
    "gear_down() => it should decrease the gear by 1. but total no of gears\n",
    "are more than 1.\n",
    "\n",
    "Bonus Part: Mimic a racing between different vehicles and use the\n",
    "class created above to create 3 different vehicles."
   ]
  },
  {
   "cell_type": "code",
   "execution_count": null,
   "metadata": {},
   "outputs": [],
   "source": [
    "How to solve an OOP Problem:\n",
    "    1) What should be the class?\n",
    "    2) What will be the Object VAriables, and Class Variables?\n",
    "    3) Should we have a init method to intialise the Obj var?\n",
    "    4) What are the Obj methods and class methods that you should have?\n",
    "    \n",
    "    \n",
    "Properties --> Variables\n",
    "\n",
    "Functionalities --> Methods"
   ]
  },
  {
   "cell_type": "code",
   "execution_count": 36,
   "metadata": {},
   "outputs": [],
   "source": [
    "class Vehicle:\n",
    "    def __init__(self):\n",
    "        self.ignite = False\n",
    "        self.speed = 0\n",
    "        self.gear = 0\n",
    "    \n",
    "    def applybreak(self):\n",
    "        if self.ignite == True and self.speed > 0:\n",
    "            self.speed = 0\n",
    "    \n",
    "    def slow_down(self):\n",
    "        if self.speed > 10 and self.ignite == True:\n",
    "            self.speed -=  10\n",
    "    \n",
    "    def accelerate(self):\n",
    "        if self.ignite == True and self.speed < 140:  #150 is the max limit\n",
    "            self.speed += 10\n",
    "        \n",
    "    def igniteCar(self):\n",
    "        self.ignite = True\n",
    "        \n",
    "    def gear_up(self):\n",
    "        maybe_new_gear = self.gear + 1  # new_gear = 5+1\n",
    "        if maybe_new_gear >= 1 and maybe_new_gear <= 5:\n",
    "            self.gear = maybe_new_gear\n",
    "    \n",
    "    def gear_down(self):\n",
    "        maybe_new_gear = self.gear - 1\n",
    "        if maybe_new_gear >= 1 and maybe_new_gear <= 5:\n",
    "            self.gear = maybe_new_gear"
   ]
  },
  {
   "cell_type": "code",
   "execution_count": 37,
   "metadata": {},
   "outputs": [],
   "source": [
    "Nexon_EV = Vehicle()"
   ]
  },
  {
   "cell_type": "code",
   "execution_count": 38,
   "metadata": {},
   "outputs": [],
   "source": [
    "Nexon_EV.slow_down()"
   ]
  },
  {
   "cell_type": "code",
   "execution_count": 39,
   "metadata": {},
   "outputs": [
    {
     "data": {
      "text/plain": [
       "0"
      ]
     },
     "execution_count": 39,
     "metadata": {},
     "output_type": "execute_result"
    }
   ],
   "source": [
    "Nexon_EV.speed"
   ]
  },
  {
   "cell_type": "code",
   "execution_count": 40,
   "metadata": {},
   "outputs": [],
   "source": [
    "Nexon_EV.accelerate()"
   ]
  },
  {
   "cell_type": "code",
   "execution_count": 41,
   "metadata": {},
   "outputs": [
    {
     "data": {
      "text/plain": [
       "0"
      ]
     },
     "execution_count": 41,
     "metadata": {},
     "output_type": "execute_result"
    }
   ],
   "source": [
    "Nexon_EV.speed"
   ]
  },
  {
   "cell_type": "code",
   "execution_count": 43,
   "metadata": {},
   "outputs": [],
   "source": [
    "Nexon_EV.igniteCar()"
   ]
  },
  {
   "cell_type": "code",
   "execution_count": 44,
   "metadata": {},
   "outputs": [
    {
     "data": {
      "text/plain": [
       "True"
      ]
     },
     "execution_count": 44,
     "metadata": {},
     "output_type": "execute_result"
    }
   ],
   "source": [
    "Nexon_EV.ignite"
   ]
  },
  {
   "cell_type": "code",
   "execution_count": 45,
   "metadata": {},
   "outputs": [],
   "source": [
    "Nexon_EV.accelerate()"
   ]
  },
  {
   "cell_type": "code",
   "execution_count": 46,
   "metadata": {},
   "outputs": [
    {
     "data": {
      "text/plain": [
       "10"
      ]
     },
     "execution_count": 46,
     "metadata": {},
     "output_type": "execute_result"
    }
   ],
   "source": [
    "Nexon_EV.speed"
   ]
  },
  {
   "cell_type": "code",
   "execution_count": 47,
   "metadata": {},
   "outputs": [],
   "source": [
    "Nexon_EV.accelerate()"
   ]
  },
  {
   "cell_type": "code",
   "execution_count": 48,
   "metadata": {},
   "outputs": [
    {
     "data": {
      "text/plain": [
       "20"
      ]
     },
     "execution_count": 48,
     "metadata": {},
     "output_type": "execute_result"
    }
   ],
   "source": [
    "Nexon_EV.speed"
   ]
  },
  {
   "cell_type": "code",
   "execution_count": 49,
   "metadata": {},
   "outputs": [],
   "source": [
    "Nexon_EV.slow_down()"
   ]
  },
  {
   "cell_type": "code",
   "execution_count": 50,
   "metadata": {},
   "outputs": [
    {
     "data": {
      "text/plain": [
       "10"
      ]
     },
     "execution_count": 50,
     "metadata": {},
     "output_type": "execute_result"
    }
   ],
   "source": [
    "Nexon_EV.speed"
   ]
  },
  {
   "cell_type": "code",
   "execution_count": 51,
   "metadata": {},
   "outputs": [],
   "source": [
    "Nexon_EV.slow_down()"
   ]
  },
  {
   "cell_type": "code",
   "execution_count": 52,
   "metadata": {},
   "outputs": [
    {
     "data": {
      "text/plain": [
       "10"
      ]
     },
     "execution_count": 52,
     "metadata": {},
     "output_type": "execute_result"
    }
   ],
   "source": [
    "Nexon_EV.speed"
   ]
  },
  {
   "cell_type": "code",
   "execution_count": 53,
   "metadata": {},
   "outputs": [],
   "source": [
    "Nexon_EV.slow_down()"
   ]
  },
  {
   "cell_type": "code",
   "execution_count": 54,
   "metadata": {},
   "outputs": [
    {
     "data": {
      "text/plain": [
       "10"
      ]
     },
     "execution_count": 54,
     "metadata": {},
     "output_type": "execute_result"
    }
   ],
   "source": [
    "Nexon_EV.speed"
   ]
  },
  {
   "cell_type": "code",
   "execution_count": 56,
   "metadata": {},
   "outputs": [],
   "source": [
    "Nexon_EV.applybreak()"
   ]
  },
  {
   "cell_type": "code",
   "execution_count": 57,
   "metadata": {},
   "outputs": [
    {
     "data": {
      "text/plain": [
       "0"
      ]
     },
     "execution_count": 57,
     "metadata": {},
     "output_type": "execute_result"
    }
   ],
   "source": [
    "Nexon_EV.speed"
   ]
  },
  {
   "cell_type": "code",
   "execution_count": null,
   "metadata": {},
   "outputs": [],
   "source": []
  }
 ],
 "metadata": {
  "kernelspec": {
   "display_name": "Python 3",
   "language": "python",
   "name": "python3"
  },
  "language_info": {
   "codemirror_mode": {
    "name": "ipython",
    "version": 3
   },
   "file_extension": ".py",
   "mimetype": "text/x-python",
   "name": "python",
   "nbconvert_exporter": "python",
   "pygments_lexer": "ipython3",
   "version": "3.8.3"
  }
 },
 "nbformat": 4,
 "nbformat_minor": 4
}
