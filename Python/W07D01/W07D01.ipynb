{
 "cells": [
  {
   "cell_type": "code",
   "execution_count": null,
   "metadata": {},
   "outputs": [],
   "source": [
    "Static Method ?"
   ]
  },
  {
   "cell_type": "code",
   "execution_count": null,
   "metadata": {},
   "outputs": [],
   "source": [
    "How do we create an Object Variable??\n",
    "\n",
    "Obj_ref.variable"
   ]
  },
  {
   "cell_type": "code",
   "execution_count": 1,
   "metadata": {},
   "outputs": [],
   "source": [
    "import random\n",
    "class AdmissionForm:\n",
    "    ## constructor which gets called when you pass while creating an object fromt the class.\n",
    "    def __init__(cls):\n",
    "        cls.Id = random.randint(1,100) ## Obj_ref.Id so Id becomes an object variable.\n",
    "        x = 50 # is x an class variable? x is just an normal local variable.\n",
    "    z = 100 # is z an class variable?\n",
    "        \n",
    "    def DecideSection(cls):\n",
    "        print(cls)\n",
    "        if cls.Id%2==0:\n",
    "            print('A')\n",
    "        else:\n",
    "            print('B')\n",
    "            \n",
    "    @classmethod\n",
    "    def xy(self):\n",
    "        self.m = 200\n",
    "            \n",
    "abhishek = AdmissionForm() ## abhishek is object reference, actual object is in the memory"
   ]
  },
  {
   "cell_type": "code",
   "execution_count": 2,
   "metadata": {},
   "outputs": [
    {
     "name": "stdout",
     "output_type": "stream",
     "text": [
      "Help on AdmissionForm in module __main__ object:\n",
      "\n",
      "class AdmissionForm(builtins.object)\n",
      " |  Methods defined here:\n",
      " |  \n",
      " |  DecideSection(cls)\n",
      " |  \n",
      " |  __init__(cls)\n",
      " |      Initialize self.  See help(type(self)) for accurate signature.\n",
      " |  \n",
      " |  ----------------------------------------------------------------------\n",
      " |  Class methods defined here:\n",
      " |  \n",
      " |  xy() from builtins.type\n",
      " |  \n",
      " |  ----------------------------------------------------------------------\n",
      " |  Data descriptors defined here:\n",
      " |  \n",
      " |  __dict__\n",
      " |      dictionary for instance variables (if defined)\n",
      " |  \n",
      " |  __weakref__\n",
      " |      list of weak references to the object (if defined)\n",
      " |  \n",
      " |  ----------------------------------------------------------------------\n",
      " |  Data and other attributes defined here:\n",
      " |  \n",
      " |  z = 100\n",
      "\n"
     ]
    }
   ],
   "source": [
    "help(abhishek)"
   ]
  },
  {
   "cell_type": "code",
   "execution_count": 3,
   "metadata": {},
   "outputs": [],
   "source": [
    "abhishek.cool = 'yes' ## a new object variable 'cool' is created"
   ]
  },
  {
   "cell_type": "code",
   "execution_count": null,
   "metadata": {},
   "outputs": [],
   "source": [
    "How do we create an class Variable?"
   ]
  },
  {
   "cell_type": "code",
   "execution_count": 11,
   "metadata": {},
   "outputs": [],
   "source": [
    "AdmissionForm.xy()"
   ]
  },
  {
   "cell_type": "code",
   "execution_count": 12,
   "metadata": {},
   "outputs": [
    {
     "data": {
      "text/plain": [
       "200"
      ]
     },
     "execution_count": 12,
     "metadata": {},
     "output_type": "execute_result"
    }
   ],
   "source": [
    "AdmissionForm.m  ## m is a class variable."
   ]
  },
  {
   "cell_type": "code",
   "execution_count": null,
   "metadata": {},
   "outputs": [],
   "source": [
    "Q1) Create a Student Record containing:-\n",
    "Student:\n",
    "name\n",
    "roll_no\n",
    "marks = {\"history\":0,\"mechanics\":0,\"chemisry\":0}\n",
    "student_obj.add_marks(\"mechanics\",40)\n",
    "find_topper():classmethod, student_list:class_variable\n",
    "total_marks: class_variable\n",
    "find_failed(): below 33% a students gets failed.\n",
    "percentage as obj var.\n",
    "\n",
    "HINT:\n",
    "self is the keyword which contain reference to the current obj.\n",
    "and think about a list in which you can add all the obj reference."
   ]
  },
  {
   "cell_type": "code",
   "execution_count": null,
   "metadata": {},
   "outputs": [],
   "source": [
    "class Student:\n",
    "    def __init__(self,name,roll_no,marks):\n",
    "        self.name = name\n",
    "        self.roll_no = roll_no\n",
    "        self.marks = marks  ## it will be a dictionary like {\"history\":0,\"mechanics\":0,\"chemisry\":0}\n",
    "     \n",
    "    @staticmethod\n",
    "    def percentage_formula(marks_obtained_list,total):\n",
    "        return (sum(marks_obtained_list)/total)*100\n",
    "    \n",
    "    def calculate_percentage(self):\n",
    "        total = len(self.marks)*100\n",
    "        self.printPercentage(Student.percentage_formula(self.marks.values(),total))\n",
    "        \n",
    "    def printPercentage(self,percentage):\n",
    "        print('The percentage is ',percentage)"
   ]
  },
  {
   "cell_type": "code",
   "execution_count": null,
   "metadata": {},
   "outputs": [],
   "source": [
    "class smartphone:\n",
    "    def __init__(self,name,ram,rom,no_of_sims,price,cameraQuality):\n",
    "        self.name = name\n",
    "        self.on = True\n",
    "        self.ram = ram\n",
    "        self.rom = rom\n",
    "        self.no_of_sims = no_of_sims\n",
    "        self.contacts = {'Police':100,'Ambulance':108}\n",
    "        self.price = price\n",
    "        self.batteryPercentage = 100\n",
    "        self.cameraQuality = cameraQuality\n",
    "\n",
    "    def switch(self):\n",
    "        self.on = not self.on\n",
    "        \n",
    "    def addContact(self,name,phone_no):\n",
    "        self.contacts[name] = phone_no\n",
    "        self.batteryPercentage -= 1\n",
    "        \n",
    "    def scroll(direction):\n",
    "        if direction == 'up':\n",
    "            print('scrolling up')\n",
    "        elif direction == 'down':\n",
    "            print('scrolling down')\n",
    "        self.batteryPercentage -= 2\n",
    "        \n",
    "    def charge(self):\n",
    "        if self.batteryPercentage == 100:\n",
    "            print(\"BATTERY IS FULLY CHARGED!!\")\n",
    "        else:\n",
    "            print(\"Charging!!\")\n",
    "            print('Charged after ',100-self.batteryPercentage,' minutes')\n",
    "            self.batteryPercentage = 100\n",
    "    \n",
    "    def callFromContact(self,name):\n",
    "        print('Calling...',self.contacts[name])\n",
    "        self.batteryPercentage -= 5\n",
    "        \n",
    "    def dial(self,phone):\n",
    "        print('Calling...',phone)\n",
    "        self.batteryPercentage -= 5\n",
    "        \n",
    "    def msgAContact(self,text,name):\n",
    "        print('Message Sent to',self.contacts[name])\n",
    "        self.batteryPercentage -= 2\n",
    "        \n",
    "    def setUpAlarm(self,time):\n",
    "        print(\"Alarm Set up for time\",time)\n",
    "        self.batteryPercentage -= 1"
   ]
  },
  {
   "cell_type": "code",
   "execution_count": null,
   "metadata": {},
   "outputs": [],
   "source": [
    "Q1) Create a Student Record containing:-\n",
    "Student:\n",
    "name\n",
    "roll_no\n",
    "marks = {\"history\":0,\"mechanics\":0,\"chemisry\":0}\n",
    "student_obj.add_marks(\"mechanics\",40)\n",
    "find_topper():classmethod, student_list:class_variable\n",
    "total_marks: class_variable\n",
    "find_failed(): below 33% a students gets failed.\n",
    "percentage as obj var.\n",
    "\n",
    "HINT:\n",
    "self is the keyword which contain reference to the current obj.\n",
    "and think about a list in which you can add all the obj reference."
   ]
  },
  {
   "cell_type": "code",
   "execution_count": 14,
   "metadata": {},
   "outputs": [
    {
     "name": "stdout",
     "output_type": "stream",
     "text": [
      "The value of self is <__main__.Student object at 0x060B0B38>\n",
      "[<__main__.Student object at 0x060B0B38>]\n",
      "x is  <__main__.Student object at 0x060B0B38>\n",
      "The value of self is <__main__.Student object at 0x060B0D30>\n",
      "[<__main__.Student object at 0x060B0B38>, <__main__.Student object at 0x060B0D30>]\n",
      "y is  <__main__.Student object at 0x060B0D30>\n"
     ]
    }
   ],
   "source": [
    "class Student:\n",
    "    student_list = []\n",
    "    max_marks = 300\n",
    "    passing_marks = 99\n",
    "    \n",
    "    def __init__(self):\n",
    "        print('The value of self is',self)\n",
    "        Student.student_list.append(self)\n",
    "        print(Student.student_list)\n",
    "        \n",
    "    \n",
    "x = Student()\n",
    "\n",
    "print('x is ',x)\n",
    "\n",
    "y = Student()\n",
    "\n",
    "print('y is ',y)"
   ]
  },
  {
   "cell_type": "code",
   "execution_count": 16,
   "metadata": {},
   "outputs": [],
   "source": [
    "class Student:\n",
    "    student_list = []\n",
    "    max_marks = 300\n",
    "    passing_marks = 99\n",
    "    \n",
    "    def __init__(self,name,gender):\n",
    "        self.name = name\n",
    "        self.gender = gender\n",
    "        self.marks = {\"history\":0,\"mechanics\":0,\"chemistry\":0}\n",
    "        Student.student_list.append(self)\n",
    "        \n",
    "    def add_marks(self,sub_name,marks):\n",
    "        sub_name = sub_name.lower()\n",
    "        self.marks[sub_name] = marks\n",
    "        \n",
    "    def find_total(self):\n",
    "        self.total_marks = sum(self.marks.values())\n",
    "    \n",
    "    @staticmethod\n",
    "    def percentage_formula(obt_marks):\n",
    "        per = (obt_marks/Student.max_marks)*100\n",
    "        return per\n",
    "    \n",
    "    @classmethod\n",
    "    def find_topper(cls):\n",
    "        current_topper = cls.student_list[0]\n",
    "        highest_marks = 0\n",
    "        \n",
    "        for student in cls.student_list:\n",
    "            student.find_total()\n",
    "            if student.total_marks > highest_marks:\n",
    "                highest_marks = student.total_marks\n",
    "                current_topper = student\n",
    "        print(\"The topper is \",current_topper.name)"
   ]
  },
  {
   "cell_type": "code",
   "execution_count": 18,
   "metadata": {},
   "outputs": [],
   "source": [
    "abhishek = Student('Abhishek','male')"
   ]
  },
  {
   "cell_type": "code",
   "execution_count": 19,
   "metadata": {},
   "outputs": [],
   "source": [
    "abhishek.add_marks('history',89)"
   ]
  },
  {
   "cell_type": "code",
   "execution_count": 20,
   "metadata": {},
   "outputs": [],
   "source": [
    "kunal = Student('Kunal Kumar','male')"
   ]
  },
  {
   "cell_type": "code",
   "execution_count": 21,
   "metadata": {},
   "outputs": [],
   "source": [
    "kunal.add_marks('history',88)"
   ]
  },
  {
   "cell_type": "code",
   "execution_count": 22,
   "metadata": {},
   "outputs": [
    {
     "name": "stdout",
     "output_type": "stream",
     "text": [
      "The topper is  Abhishek\n"
     ]
    }
   ],
   "source": [
    "Student.find_topper()"
   ]
  },
  {
   "cell_type": "code",
   "execution_count": 23,
   "metadata": {},
   "outputs": [
    {
     "data": {
      "text/plain": [
       "dict_values([0, 20, 100])"
      ]
     },
     "execution_count": 23,
     "metadata": {},
     "output_type": "execute_result"
    }
   ],
   "source": [
    "dict1 = {\"history\":0,\"mechanics\":20,\"chemistry\":100}\n",
    "\n",
    "dict1.values()"
   ]
  },
  {
   "cell_type": "code",
   "execution_count": 24,
   "metadata": {},
   "outputs": [
    {
     "data": {
      "text/plain": [
       "120"
      ]
     },
     "execution_count": 24,
     "metadata": {},
     "output_type": "execute_result"
    }
   ],
   "source": [
    "sum(dict1.values())"
   ]
  },
  {
   "cell_type": "code",
   "execution_count": null,
   "metadata": {},
   "outputs": [],
   "source": []
  }
 ],
 "metadata": {
  "kernelspec": {
   "display_name": "Python 3",
   "language": "python",
   "name": "python3"
  },
  "language_info": {
   "codemirror_mode": {
    "name": "ipython",
    "version": 3
   },
   "file_extension": ".py",
   "mimetype": "text/x-python",
   "name": "python",
   "nbconvert_exporter": "python",
   "pygments_lexer": "ipython3",
   "version": "3.8.3"
  }
 },
 "nbformat": 4,
 "nbformat_minor": 4
}
