{
 "cells": [
  {
   "cell_type": "code",
   "execution_count": null,
   "metadata": {},
   "outputs": [],
   "source": [
    "Q3)\n",
    "given_list = [1,2,3,4,'mango','apple',45,'$%']\n",
    "\n",
    "write a list comprehension that only inserts strings from the given_list in the new_list\n",
    "\n",
    "HINT\n",
    "type(\"mango\") == str => True\n",
    "type(34) == str  => False"
   ]
  },
  {
   "cell_type": "code",
   "execution_count": 2,
   "metadata": {},
   "outputs": [
    {
     "data": {
      "text/plain": [
       "['mango', 'apple', '$%']"
      ]
     },
     "execution_count": 2,
     "metadata": {},
     "output_type": "execute_result"
    }
   ],
   "source": [
    "l = [1,2,3,4,'mango','apple',45,'$%']\n",
    "[i for i in l if type(i)==str]"
   ]
  },
  {
   "cell_type": "code",
   "execution_count": null,
   "metadata": {},
   "outputs": [],
   "source": [
    "JSON:\n",
    "    JAVASCRIPT OBJECT NOTATION"
   ]
  },
  {
   "cell_type": "code",
   "execution_count": 3,
   "metadata": {},
   "outputs": [],
   "source": [
    "# LIGHT WEIGHT FILE USED FOR DATA INTERCHANGING."
   ]
  },
  {
   "cell_type": "code",
   "execution_count": null,
   "metadata": {},
   "outputs": [],
   "source": [
    "# {'KEY':'VALUE'} "
   ]
  },
  {
   "cell_type": "code",
   "execution_count": 15,
   "metadata": {},
   "outputs": [
    {
     "name": "stdout",
     "output_type": "stream",
     "text": [
      "{'quiz': {'sport': {'q1': {'question': 'Which one is correct team name in NBA?', 'options': ['New York Bulls', 'Los Angeles Kings', 'Golden State Warriros', 'Huston Rocket'], 'answer': 'Huston Rocket'}}, 'maths': {'q1': {'question': '5 + 7 = ?', 'options': ['10', '11', '12', '13'], 'answer': '12'}, 'q2': {'question': '12 - 8 = ?', 'options': ['1', '2', '3', '4'], 'answer': '4'}}}}\n"
     ]
    }
   ],
   "source": [
    "import json\n",
    "\n",
    "fp = open('example.json','r')\n",
    "content = fp.read()\n",
    "content_in_proper_format = json.loads(content)\n",
    "print(content_in_proper_format)\n",
    "# type(content_in_proper_format)"
   ]
  },
  {
   "cell_type": "code",
   "execution_count": 5,
   "metadata": {},
   "outputs": [
    {
     "data": {
      "text/plain": [
       "dict_keys(['quiz'])"
      ]
     },
     "execution_count": 5,
     "metadata": {},
     "output_type": "execute_result"
    }
   ],
   "source": [
    "content_in_proper_format.keys()"
   ]
  },
  {
   "cell_type": "code",
   "execution_count": 8,
   "metadata": {},
   "outputs": [
    {
     "data": {
      "text/plain": [
       "dict_keys(['sport', 'maths'])"
      ]
     },
     "execution_count": 8,
     "metadata": {},
     "output_type": "execute_result"
    }
   ],
   "source": [
    "content_in_proper_format['quiz'].keys()"
   ]
  },
  {
   "cell_type": "code",
   "execution_count": 16,
   "metadata": {},
   "outputs": [
    {
     "data": {
      "text/plain": [
       "dict_keys(['q1'])"
      ]
     },
     "execution_count": 16,
     "metadata": {},
     "output_type": "execute_result"
    }
   ],
   "source": [
    "content_in_proper_format['quiz']['sport'].keys()"
   ]
  },
  {
   "cell_type": "code",
   "execution_count": 12,
   "metadata": {},
   "outputs": [
    {
     "data": {
      "text/plain": [
       "{'question': 'Which one is correct team name in NBA?',\n",
       " 'options': ['New York Bulls',\n",
       "  'Los Angeles Kings',\n",
       "  'Golden State Warriros',\n",
       "  'Huston Rocket'],\n",
       " 'answer': 'Huston Rocket'}"
      ]
     },
     "execution_count": 12,
     "metadata": {},
     "output_type": "execute_result"
    }
   ],
   "source": [
    "content_in_proper_format['quiz']['sport']['q1']"
   ]
  },
  {
   "cell_type": "code",
   "execution_count": 14,
   "metadata": {},
   "outputs": [
    {
     "data": {
      "text/plain": [
       "dict_keys(['question', 'options', 'answer'])"
      ]
     },
     "execution_count": 14,
     "metadata": {},
     "output_type": "execute_result"
    }
   ],
   "source": [
    "content_in_proper_format['quiz']['sport']['q1'].keys()"
   ]
  },
  {
   "cell_type": "code",
   "execution_count": 18,
   "metadata": {},
   "outputs": [
    {
     "data": {
      "text/plain": [
       "{'q1': {'question': '5 + 7 = ?',\n",
       "  'options': ['10', '11', '12', '13'],\n",
       "  'answer': '12'},\n",
       " 'q2': {'question': '12 - 8 = ?',\n",
       "  'options': ['1', '2', '3', '4'],\n",
       "  'answer': '4'}}"
      ]
     },
     "execution_count": 18,
     "metadata": {},
     "output_type": "execute_result"
    }
   ],
   "source": [
    "content_in_proper_format['quiz']['maths']"
   ]
  },
  {
   "cell_type": "code",
   "execution_count": null,
   "metadata": {},
   "outputs": [],
   "source": [
    "## Exercise:\n",
    "First Task: Write the Quiz Questions with number like 1,2,3 and the options\n",
    "    with labels like a,b,c,d\n",
    "    \n",
    "Second Task: Print the answers for the questions corresponding to the question number.\n",
    "    \n",
    "Output should look something like this:\n",
    "    \n",
    "1. Which one is correct team name in NBA?\n",
    "a)New York Bulls\n",
    "b)Los Angeles Kings\n",
    "c)Golden State Warriros\n",
    "d)Huston Rocket\n",
    "\n",
    "2. 5 + 7 = ?\n",
    "a)10\n",
    "b)11\n",
    "c)12\n",
    "d)13\n",
    "\n",
    "3. blah blah\n",
    "\n",
    "1) Huston Rocket\n",
    "2) 12\n",
    "\n",
    "20:10"
   ]
  },
  {
   "cell_type": "code",
   "execution_count": 54,
   "metadata": {},
   "outputs": [
    {
     "name": "stdout",
     "output_type": "stream",
     "text": [
      "{'quiz': {'sport': {'q1': {'question': 'Which one is correct team name in NBA?', 'options': ['New York Bulls', 'Los Angeles Kings', 'Golden State Warriros', 'Huston Rocket'], 'answer': 'Huston Rocket'}}, 'maths': {'q1': {'question': '5 + 7 = ?', 'options': ['10', '11', '12', '13'], 'answer': '12'}, 'q2': {'question': '12 - 8 = ?', 'options': ['1', '2', '3'], 'answer': '4'}}, 'GK': {'q1': {'question': 'Where is Taj Mahal Situated', 'options': ['Paris', 'Madrid', 'Next to Taj Hotel', 'Agra'], 'answer': 'Agra'}, 'q2': {'question': 'Who was the second person to land on Moon?', 'options': ['Yuri Gagrin', 'Rakesh Sharma', 'Buzz Aldrin', 'Michael Collins'], 'answer': 'Buzz Aldrin'}}}}\n"
     ]
    }
   ],
   "source": [
    "import json\n",
    "\n",
    "fp = open('example2.json','r')\n",
    "content = fp.read()\n",
    "content_in_proper_format = json.loads(content)\n",
    "print(content_in_proper_format)\n",
    "quiz_data = content_in_proper_format['quiz']"
   ]
  },
  {
   "cell_type": "code",
   "execution_count": 55,
   "metadata": {},
   "outputs": [
    {
     "data": {
      "text/plain": [
       "dict_keys(['sport', 'maths', 'GK'])"
      ]
     },
     "execution_count": 55,
     "metadata": {},
     "output_type": "execute_result"
    }
   ],
   "source": [
    "quiz_data.keys()"
   ]
  },
  {
   "cell_type": "code",
   "execution_count": 56,
   "metadata": {},
   "outputs": [
    {
     "name": "stdout",
     "output_type": "stream",
     "text": [
      "1.Which one is correct team name in NBA?\n",
      "a)New York Bulls\n",
      "b)Los Angeles Kings\n",
      "c)Golden State Warriros\n",
      "d)Huston Rocket\n",
      "2.5 + 7 = ?\n",
      "a)10\n",
      "b)11\n",
      "c)12\n",
      "d)13\n",
      "3.12 - 8 = ?\n",
      "a)1\n",
      "b)2\n",
      "c)3\n",
      "4.Where is Taj Mahal Situated\n",
      "a)Paris\n",
      "b)Madrid\n",
      "c)Next to Taj Hotel\n",
      "d)Agra\n",
      "5.Who was the second person to land on Moon?\n",
      "a)Yuri Gagrin\n",
      "b)Rakesh Sharma\n",
      "c)Buzz Aldrin\n",
      "d)Michael Collins\n"
     ]
    }
   ],
   "source": [
    "question_counter = 1\n",
    "for type_of_subject in quiz_data.keys():\n",
    "#     print(type_of_subject)\n",
    "    for question_name in quiz_data[type_of_subject].keys():\n",
    "        print(str(question_counter)+'.'+quiz_data[type_of_subject][question_name]['question'])\n",
    "        question_counter+=1\n",
    "        option_counter = 97\n",
    "        for option in quiz_data[type_of_subject][question_name]['options']:\n",
    "            print(chr(option_counter)+')'+option)\n",
    "            option_counter+=1\n",
    "#         print('a)'+quiz_data[type_of_subject][question_name]['options'][0])\n",
    "#         print('b)'+quiz_data[type_of_subject][question_name]['options'][1])\n",
    "#         print('c)'+quiz_data[type_of_subject][question_name]['options'][2])\n",
    "#         print('d)'+quiz_data[type_of_subject][question_name]['options'][3])\n",
    "\n",
    "# What is generalised code?\n",
    "# code that is generic enough to run for a different data following the same syntax that earlier data (by using which the code\n",
    "#                                                                                                     was written) was using.\n",
    "# What is Hardcoding?\n",
    "# Using Values like '1',123234, some static values which will break if the data changes.\n",
    "\n",
    "# Example: The code used above.\n",
    "#         print('a)'+quiz_data[type_of_subject][question_name]['options'][0])\n",
    "#         print('b)'+quiz_data[type_of_subject][question_name]['options'][1])\n",
    "#         print('c)'+quiz_data[type_of_subject][question_name]['options'][2])\n",
    "#         print('d)'+quiz_data[type_of_subject][question_name]['options'][3])"
   ]
  },
  {
   "cell_type": "code",
   "execution_count": 29,
   "metadata": {},
   "outputs": [
    {
     "name": "stdout",
     "output_type": "stream",
     "text": [
      "3\n",
      "8\n"
     ]
    }
   ],
   "source": [
    "dict1 = {'python':3,'java':8}\n",
    "\n",
    "for key in dict1.keys():\n",
    "    print(dict1[key])"
   ]
  },
  {
   "cell_type": "code",
   "execution_count": 35,
   "metadata": {},
   "outputs": [
    {
     "data": {
      "text/plain": [
       "{'question': 'Which one is correct team name in NBA?',\n",
       " 'options': ['New York Bulls',\n",
       "  'Los Angeles Kings',\n",
       "  'Golden State Warriros',\n",
       "  'Huston Rocket'],\n",
       " 'answer': 'Huston Rocket'}"
      ]
     },
     "execution_count": 35,
     "metadata": {},
     "output_type": "execute_result"
    }
   ],
   "source": [
    "quiz_data['sport']['q1']"
   ]
  },
  {
   "cell_type": "code",
   "execution_count": 40,
   "metadata": {},
   "outputs": [
    {
     "data": {
      "text/plain": [
       "{'q1': {'question': '5 + 7 = ?',\n",
       "  'options': ['10', '11', '12', '13'],\n",
       "  'answer': '12'},\n",
       " 'q2': {'question': '12 - 8 = ?',\n",
       "  'options': ['1', '2', '3', '4'],\n",
       "  'answer': '4'}}"
      ]
     },
     "execution_count": 40,
     "metadata": {},
     "output_type": "execute_result"
    }
   ],
   "source": [
    "quiz_data['maths']"
   ]
  },
  {
   "cell_type": "markdown",
   "metadata": {},
   "source": [
    "# CREATE A JSON FILE from dict in python?"
   ]
  },
  {
   "cell_type": "code",
   "execution_count": 57,
   "metadata": {},
   "outputs": [],
   "source": [
    "fp = open('example3.json','w+')\n",
    "\n",
    "dump_data = json.dumps({'python':3,'java':8,'C++':14})\n",
    "\n",
    "fp.write(dump_data)\n",
    "\n",
    "fp.close()"
   ]
  },
  {
   "cell_type": "code",
   "execution_count": null,
   "metadata": {},
   "outputs": [],
   "source": [
    "Diff b/w loads and dumps\n",
    "\n",
    "Loads convert into python readable format (text/str into a dict)\n",
    "\n",
    "dumps do the reverse of that, convert a python dict into text which can be savedin a file."
   ]
  },
  {
   "cell_type": "markdown",
   "metadata": {},
   "source": [
    "# XML FILES"
   ]
  },
  {
   "cell_type": "code",
   "execution_count": null,
   "metadata": {},
   "outputs": [],
   "source": [
    "Extensible Markup language\n",
    "\n",
    "USED for sending Data and Receive Data\n",
    "They look like html, but they don't have predefined tags.\n",
    "You make your own tags. You make tags to specify what kind of data you are sending\n",
    "\n",
    "\n",
    "<happy>mohit</happy>"
   ]
  },
  {
   "cell_type": "code",
   "execution_count": null,
   "metadata": {},
   "outputs": [],
   "source": [
    "JSON => {'python':3,'java':8,'c++':14}\n",
    "\n",
    "XML version of the above JSON is:\n",
    "\n",
    "<programmingLang>\n",
    "<python>3</python>\n",
    "<java>8</java>\n",
    "<c++>14</c++>\n",
    "</programmingLang>\n",
    "\n",
    "programmingLang is the ROOT TAG"
   ]
  },
  {
   "cell_type": "code",
   "execution_count": null,
   "metadata": {},
   "outputs": [],
   "source": [
    "Sign Up Page:\n",
    "    name:\n",
    "    age:\n",
    "    sex:"
   ]
  },
  {
   "cell_type": "code",
   "execution_count": null,
   "metadata": {},
   "outputs": [],
   "source": [
    "<form>\n",
    "<name>Mohit</name>\n",
    "<age>50</age>\n",
    "<sex>M</sex>\n",
    "</form>\n",
    "\n",
    "form is the ROOT TAG"
   ]
  },
  {
   "cell_type": "code",
   "execution_count": null,
   "metadata": {},
   "outputs": [],
   "source": [
    "## Rules\n",
    "\n",
    "1) Opening and Closing Tags should be there.\n",
    "2) Root tag should be there.\n",
    "3) Case Sensitive. (it consider Cases, like Python and python are separate things in XML)"
   ]
  },
  {
   "cell_type": "code",
   "execution_count": null,
   "metadata": {},
   "outputs": [],
   "source": [
    "Uses:\n",
    "    -> Send data like json\n",
    "    -> Config files (Java Config files, Salesforce LwC, Apex, .xml files to store the metadata)"
   ]
  },
  {
   "cell_type": "code",
   "execution_count": 2,
   "metadata": {},
   "outputs": [
    {
     "name": "stdout",
     "output_type": "stream",
     "text": [
      "Requirement already satisfied: BeautifulSoup4 in c:\\users\\mohit\\appdata\\local\\programs\\python\\python38-32\\lib\\site-packages (4.9.1)\n",
      "Requirement already satisfied: soupsieve>1.2 in c:\\users\\mohit\\appdata\\local\\programs\\python\\python38-32\\lib\\site-packages (from BeautifulSoup4) (2.0.1)\n",
      "Note: you may need to restart the kernel to use updated packages.\n"
     ]
    },
    {
     "name": "stderr",
     "output_type": "stream",
     "text": [
      "WARNING: You are using pip version 19.2.3, however version 21.0.1 is available.\n",
      "You should consider upgrading via the 'python -m pip install --upgrade pip' command.\n"
     ]
    }
   ],
   "source": [
    "pip install BeautifulSoup4"
   ]
  },
  {
   "cell_type": "code",
   "execution_count": 3,
   "metadata": {},
   "outputs": [],
   "source": [
    "from bs4 import BeautifulSoup"
   ]
  },
  {
   "cell_type": "code",
   "execution_count": 4,
   "metadata": {},
   "outputs": [],
   "source": [
    "with open('test_file.xml') as fp:\n",
    "    soup = BeautifulSoup(fp,'html.parser')"
   ]
  },
  {
   "cell_type": "code",
   "execution_count": 5,
   "metadata": {},
   "outputs": [
    {
     "data": {
      "text/plain": [
       "<breakfast_menu>\n",
       "<food>\n",
       "<name>Belgian Waffles</name>\n",
       "<price>$5.95</price>\n",
       "<description>Two of our famous Belgian Waffles with plenty of real maple syrup</description>\n",
       "<calories>650</calories>\n",
       "</food>\n",
       "<food>\n",
       "<name>Strawberry Belgian Waffles</name>\n",
       "<price>$7.95</price>\n",
       "<description>Light Belgian waffles covered with strawberries and whipped cream</description>\n",
       "<calories>900</calories>\n",
       "</food>\n",
       "<food>\n",
       "<name>Berry-Berry Belgian Waffles</name>\n",
       "<price>$8.95</price>\n",
       "<description>Light Belgian waffles covered with an assortment of fresh berries and whipped cream</description>\n",
       "<calories>900</calories>\n",
       "</food>\n",
       "<food>\n",
       "<name>French Toast</name>\n",
       "<price>$4.50</price>\n",
       "<description>Thick slices made from our homemade sourdough bread</description>\n",
       "<calories>600</calories>\n",
       "</food>\n",
       "<food>\n",
       "<name>Homestyle Breakfast</name>\n",
       "<price>$6.95</price>\n",
       "<description>Two eggs, bacon or sausage, toast, and our ever-popular hash browns</description>\n",
       "<calories>950</calories>\n",
       "</food>\n",
       "</breakfast_menu>"
      ]
     },
     "execution_count": 5,
     "metadata": {},
     "output_type": "execute_result"
    }
   ],
   "source": [
    "soup"
   ]
  },
  {
   "cell_type": "code",
   "execution_count": 14,
   "metadata": {},
   "outputs": [
    {
     "name": "stdout",
     "output_type": "stream",
     "text": [
      "______________XML RESTRAUNT_______________\n",
      "\n",
      "\n",
      "Belgian Waffles-----------------$5.95\n",
      "DESCRIPTION:Two of our famous Belgian Waffles with plenty of real maple syrup\n",
      "Strawberry Belgian Waffles-----------------$7.95\n",
      "DESCRIPTION:Light Belgian waffles covered with strawberries and whipped cream\n",
      "Berry-Berry Belgian Waffles-----------------$8.95\n",
      "DESCRIPTION:Light Belgian waffles covered with an assortment of fresh berries and whipped cream\n",
      "French Toast-----------------$4.50\n",
      "DESCRIPTION:Thick slices made from our homemade sourdough bread\n",
      "Homestyle Breakfast-----------------$6.95\n",
      "DESCRIPTION:Two eggs, bacon or sausage, toast, and our ever-popular hash browns\n"
     ]
    }
   ],
   "source": [
    "print(\"______________XML RESTRAUNT_______________\")\n",
    "\n",
    "print('\\n')\n",
    "food_list = soup.find_all('food')\n",
    "\n",
    "for food in food_list:\n",
    "    print(food.find('name').text+'-----------------'+food.find('price').text)\n",
    "    print('DESCRIPTION:'+food.find('description').text)"
   ]
  },
  {
   "cell_type": "code",
   "execution_count": null,
   "metadata": {},
   "outputs": [],
   "source": []
  }
 ],
 "metadata": {
  "kernelspec": {
   "display_name": "Python 3",
   "language": "python",
   "name": "python3"
  },
  "language_info": {
   "codemirror_mode": {
    "name": "ipython",
    "version": 3
   },
   "file_extension": ".py",
   "mimetype": "text/x-python",
   "name": "python",
   "nbconvert_exporter": "python",
   "pygments_lexer": "ipython3",
   "version": "3.8.3"
  }
 },
 "nbformat": 4,
 "nbformat_minor": 4
}
