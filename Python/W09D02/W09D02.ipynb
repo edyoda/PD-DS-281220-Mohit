{
 "cells": [
  {
   "cell_type": "code",
   "execution_count": null,
   "metadata": {},
   "outputs": [],
   "source": [
    "CSV Files\n",
    "(.csv extension)\n",
    "\n",
    "Comma Separated Values"
   ]
  },
  {
   "cell_type": "code",
   "execution_count": null,
   "metadata": {},
   "outputs": [],
   "source": [
    "name,department,birthday month\n",
    "John Smith,Accounting,November\n",
    "Erica Meyers,IT,March"
   ]
  },
  {
   "cell_type": "code",
   "execution_count": null,
   "metadata": {},
   "outputs": [],
   "source": [
    "name,gender,marks\n",
    "Jamish,M,90\n",
    "Kunal,M,92\n",
    "Bhavya,F,95\n",
    "Siddharta deb,M,89\n",
    "Sunit,M,88"
   ]
  },
  {
   "cell_type": "code",
   "execution_count": null,
   "metadata": {},
   "outputs": [],
   "source": [
    "They are important to store the data in a table like format.\n",
    "We can make a table directly from a csv file in modules like PANDAS(pandas.read_csv(filepath)), and many other libraries.\n",
    "\n",
    "csv files are easily opened by Microsoft Excel\n",
    ".xl .xlsx"
   ]
  },
  {
   "cell_type": "code",
   "execution_count": null,
   "metadata": {},
   "outputs": [],
   "source": [
    "if you store a data into json like format, it's not easy to interpret the data quickly like a table.\n",
    "\n",
    "Also csv files are like the fastest to read and write. (basically processing the files.)"
   ]
  },
  {
   "cell_type": "code",
   "execution_count": null,
   "metadata": {},
   "outputs": [],
   "source": [
    "-> csv files are created by programs that handle large amount of data.\n",
    "-> They are a convenient way to export data from spreadsheet and databases.\n",
    "-> They are easy to import and use."
   ]
  },
  {
   "cell_type": "code",
   "execution_count": 3,
   "metadata": {},
   "outputs": [
    {
     "name": "stdout",
     "output_type": "stream",
     "text": [
      "['name', 'gender', 'marks']\n",
      "['Jamish', 'M', '90']\n",
      "['Kunal', 'M', '92']\n",
      "['Bhavya', 'F', '95']\n",
      "['Siddharta deb', 'M', '89']\n",
      "['Sunit', 'M', '88']\n"
     ]
    }
   ],
   "source": [
    "import csv\n",
    "with open('marks.csv') as fp:\n",
    "    csv_reader = csv.reader(fp,delimiter=',')\n",
    "    for row in csv_reader:\n",
    "        print(row)"
   ]
  }
 ],
 "metadata": {
  "kernelspec": {
   "display_name": "Python 3",
   "language": "python",
   "name": "python3"
  },
  "language_info": {
   "codemirror_mode": {
    "name": "ipython",
    "version": 3
   },
   "file_extension": ".py",
   "mimetype": "text/x-python",
   "name": "python",
   "nbconvert_exporter": "python",
   "pygments_lexer": "ipython3",
   "version": "3.8.3"
  }
 },
 "nbformat": 4,
 "nbformat_minor": 4
}
