{
 "cells": [
  {
   "cell_type": "code",
   "execution_count": null,
   "metadata": {},
   "outputs": [],
   "source": [
    "Q1) Create Classes 1) Walls, 2) WaterSupply and than create classes 3) Room and 4) Kitchen by \n",
    "Inheriting Walls and/or WaterSupply\n",
    "\n",
    "Write your own understanding in the classes.\n",
    "\n",
    "10 mins.\n",
    "19:47\n",
    "5 mins.\n",
    "19:55"
   ]
  },
  {
   "cell_type": "code",
   "execution_count": null,
   "metadata": {},
   "outputs": [],
   "source": [
    "class Walls:\n",
    "    def room_size(self,l,b):\n",
    "        print(\"room size is \",l*b)\n",
    "        \n",
    "class WaterSupply:\n",
    "    def water_timing(self):\n",
    "        print(\"water supply is 24x7 \")\n",
    "        \n",
    "class Room(Walls):\n",
    "    pass\n",
    "    \n",
    "    \n",
    "class Kitchen(WaterSupply):\n",
    "    pass\n",
    "    \n",
    "a=Room()\n",
    "a.room_size(2,3)\n",
    "b=Kitchen()\n",
    "b.water_timing()"
   ]
  },
  {
   "cell_type": "code",
   "execution_count": null,
   "metadata": {},
   "outputs": [],
   "source": [
    "class Walls():\n",
    "    def __init__(self,colour):\n",
    "        self.colour=colour\n",
    "        print('the colour of wall is ',self.colour)\n",
    "class Room(Walls):\n",
    "    def colour_of_room_wall(self):\n",
    "        print('the colour of rooms wall is ',self.colour)\n",
    "class Kitchen(Walls):\n",
    "    def kitchen_colour(self):\n",
    "        print(\"the kitchen's wall colour is \",self.colour)\n",
    "class Watersupply():\n",
    "    def __init__(self,quantity_of_water):\n",
    "        self.qauntity_of_water=quantity_of_water\n",
    "        \n",
    "class Room(Watersupply):\n",
    "    def supply(self):\n",
    "        print('the quantity of water supplied to the room bathroom is ',self.quantity_of_water)\n",
    "class Kitchen(Watersupply):\n",
    "    def supply_to_kitchen(self):\n",
    "        print('the qauntity of water supplied to kitchen is ',self.quantity_of_water)"
   ]
  },
  {
   "cell_type": "code",
   "execution_count": null,
   "metadata": {},
   "outputs": [],
   "source": [
    "class walls:\n",
    "    def __init__(self,length,brigth,hight):\n",
    "        self.length = length\n",
    "        self.brigth = brigth\n",
    "        self.hight = hight\n",
    "    def area(self):\n",
    "        return self.length*self.brigth\n",
    "    \n",
    "class watersupply:\n",
    "    def __init__(self,inchs_of_pipe,length_of_pipe,cost_of_pipe):\n",
    "        self.inchs_of_pipe = inchs_of_pipe\n",
    "        self.length_of_pipe = length_of_pipe\n",
    "        self.cost_of_pipe=cost_of_pipe\n",
    "    def cost_of_pipe(self):\n",
    "        return self.length*cost_of_pipe\n",
    "    \n",
    "class Room(walls):\n",
    "    def __init__(self):\n",
    "        super().__init__(length)\n",
    "    def area(self):\n",
    "        return self.length**2\n",
    "\n",
    "class Kitchen(watersupply):\n",
    "    def __init__(self,number_of_pipe):\n",
    "        super().__init__(inchs_of_pipe,length_of_pipe)\n",
    "        self.number_of_pipe=number_of_pipe\n",
    "    def cost(self):\n",
    "        return self.number_of_pipe*self.cost_of_pipe"
   ]
  },
  {
   "cell_type": "code",
   "execution_count": 5,
   "metadata": {},
   "outputs": [],
   "source": [
    "## SINGLE INHERITANCE\n",
    "\n",
    "class Animal:\n",
    "    def __init__(self,VeryCutename):\n",
    "        self.name = VeryCutename\n",
    "        \n",
    "class Dog(Animal):\n",
    "    def __init__(self,cuteName,age):\n",
    "        super().__init__(cuteName)\n",
    "        self.age = age\n",
    "\n",
    "yuki = Dog('YUKI SINGH',6)"
   ]
  },
  {
   "cell_type": "code",
   "execution_count": 6,
   "metadata": {},
   "outputs": [
    {
     "data": {
      "text/plain": [
       "'YUKI SINGH'"
      ]
     },
     "execution_count": 6,
     "metadata": {},
     "output_type": "execute_result"
    }
   ],
   "source": [
    "yuki.name"
   ]
  },
  {
   "cell_type": "code",
   "execution_count": 7,
   "metadata": {},
   "outputs": [
    {
     "data": {
      "text/plain": [
       "6"
      ]
     },
     "execution_count": 7,
     "metadata": {},
     "output_type": "execute_result"
    }
   ],
   "source": [
    "yuki.age"
   ]
  },
  {
   "cell_type": "code",
   "execution_count": 8,
   "metadata": {},
   "outputs": [
    {
     "name": "stdout",
     "output_type": "stream",
     "text": [
      "Help on Dog in module __main__ object:\n",
      "\n",
      "class Dog(Animal)\n",
      " |  Dog(cuteName, age)\n",
      " |  \n",
      " |  Method resolution order:\n",
      " |      Dog\n",
      " |      Animal\n",
      " |      builtins.object\n",
      " |  \n",
      " |  Methods defined here:\n",
      " |  \n",
      " |  __init__(self, cuteName, age)\n",
      " |      Initialize self.  See help(type(self)) for accurate signature.\n",
      " |  \n",
      " |  ----------------------------------------------------------------------\n",
      " |  Data descriptors inherited from Animal:\n",
      " |  \n",
      " |  __dict__\n",
      " |      dictionary for instance variables (if defined)\n",
      " |  \n",
      " |  __weakref__\n",
      " |      list of weak references to the object (if defined)\n",
      "\n"
     ]
    }
   ],
   "source": [
    "help(yuki)"
   ]
  },
  {
   "cell_type": "code",
   "execution_count": 13,
   "metadata": {},
   "outputs": [],
   "source": [
    "## MULTILEVEL INHERITANCE\n",
    "\n",
    "class Animal:\n",
    "    def __init__(self,VeryCutename):\n",
    "        self.name = VeryCutename\n",
    "        \n",
    "class Dog(Animal):\n",
    "    def __init__(self,cuteName,age):\n",
    "        super().__init__(cuteName)\n",
    "        self.age = age\n",
    "\n",
    "class Labrador(Dog):\n",
    "    def __init__(self,name,age,fur_color):\n",
    "        super().__init__(name,age)\n",
    "        self.color = fur_color"
   ]
  },
  {
   "cell_type": "code",
   "execution_count": 14,
   "metadata": {},
   "outputs": [],
   "source": [
    "yuki = Labrador('YUKI SINGH',6,'Silver')"
   ]
  },
  {
   "cell_type": "code",
   "execution_count": 11,
   "metadata": {},
   "outputs": [
    {
     "data": {
      "text/plain": [
       "'Silver'"
      ]
     },
     "execution_count": 11,
     "metadata": {},
     "output_type": "execute_result"
    }
   ],
   "source": [
    "yuki.color"
   ]
  },
  {
   "cell_type": "code",
   "execution_count": 15,
   "metadata": {},
   "outputs": [
    {
     "name": "stdout",
     "output_type": "stream",
     "text": [
      "Help on Labrador in module __main__ object:\n",
      "\n",
      "class Labrador(Dog)\n",
      " |  Labrador(name, age, fur_color)\n",
      " |  \n",
      " |  Method resolution order:\n",
      " |      Labrador\n",
      " |      Dog\n",
      " |      Animal\n",
      " |      builtins.object\n",
      " |  \n",
      " |  Methods defined here:\n",
      " |  \n",
      " |  __init__(self, name, age, fur_color)\n",
      " |      Initialize self.  See help(type(self)) for accurate signature.\n",
      " |  \n",
      " |  ----------------------------------------------------------------------\n",
      " |  Data descriptors inherited from Animal:\n",
      " |  \n",
      " |  __dict__\n",
      " |      dictionary for instance variables (if defined)\n",
      " |  \n",
      " |  __weakref__\n",
      " |      list of weak references to the object (if defined)\n",
      "\n"
     ]
    }
   ],
   "source": [
    "help(yuki)"
   ]
  },
  {
   "cell_type": "code",
   "execution_count": 16,
   "metadata": {},
   "outputs": [],
   "source": [
    "## _______ INHERITANCE\n",
    "\n",
    "class Animal:\n",
    "    def __init__(self,VeryCutename):\n",
    "        self.name = VeryCutename\n",
    "        \n",
    "class Dog(Animal):\n",
    "    def __init__(self,cuteName,age):\n",
    "        super().__init__(cuteName)\n",
    "        self.age = age\n",
    "\n",
    "class Labrador(Dog):\n",
    "    def __init__(self,name,age,fur_color):\n",
    "        super().__init__(name,age)\n",
    "        self.color = fur_color\n",
    "        \n",
    "class German_Shephard(Dog):\n",
    "    def __init__(self,name,age,fur_size):\n",
    "        super().__init__(name,age)\n",
    "        self.fur_size = fur_size\n",
    "\n",
    "yuki = Labrador('YUKI SINGH',6,'Silver')\n",
    "\n",
    "mac = German_Shephard('Mac in tosh',8,'double-coated')"
   ]
  },
  {
   "cell_type": "code",
   "execution_count": 19,
   "metadata": {},
   "outputs": [
    {
     "name": "stdout",
     "output_type": "stream",
     "text": [
      "Help on German_Shephard in module __main__ object:\n",
      "\n",
      "class German_Shephard(Dog)\n",
      " |  German_Shephard(name, age, fur_size)\n",
      " |  \n",
      " |  Method resolution order:\n",
      " |      German_Shephard\n",
      " |      Dog\n",
      " |      Animal\n",
      " |      builtins.object\n",
      " |  \n",
      " |  Methods defined here:\n",
      " |  \n",
      " |  __init__(self, name, age, fur_size)\n",
      " |      Initialize self.  See help(type(self)) for accurate signature.\n",
      " |  \n",
      " |  ----------------------------------------------------------------------\n",
      " |  Data descriptors inherited from Animal:\n",
      " |  \n",
      " |  __dict__\n",
      " |      dictionary for instance variables (if defined)\n",
      " |  \n",
      " |  __weakref__\n",
      " |      list of weak references to the object (if defined)\n",
      "\n"
     ]
    }
   ],
   "source": [
    "help(mac)"
   ]
  },
  {
   "cell_type": "code",
   "execution_count": 48,
   "metadata": {},
   "outputs": [],
   "source": [
    "## MULTIPLE INHERITANCE\n",
    "\n",
    "class A:\n",
    "    def __init__(self):\n",
    "        print('inside A')\n",
    "        \n",
    "    def fun1(self):\n",
    "        print('fun inside A')\n",
    "        \n",
    "class B:\n",
    "    def __init__(self):\n",
    "        print('inside B')\n",
    "        \n",
    "    def fun(self):\n",
    "        print('fun inside B')\n",
    "        \n",
    "class C:\n",
    "    def __init__(self,name):\n",
    "        print('inside C')\n",
    "        print('self is ',self)\n",
    "        self.name = name\n",
    "        \n",
    "    def fun1(self):\n",
    "        print('fun inside C')\n",
    "        \n",
    "class X(B,C,A):\n",
    "    def __init__(self,name):\n",
    "        print('inside X')\n",
    "        C.__init__(self,name) # will be wrong? why?\n",
    "        \n",
    "    def fun(self):\n",
    "        print('fun inside X')"
   ]
  },
  {
   "cell_type": "code",
   "execution_count": 49,
   "metadata": {},
   "outputs": [
    {
     "name": "stdout",
     "output_type": "stream",
     "text": [
      "inside X\n",
      "inside C\n",
      "self is  <__main__.X object at 0x04EDEEF8>\n"
     ]
    }
   ],
   "source": [
    "obj = X('rashmi')"
   ]
  },
  {
   "cell_type": "code",
   "execution_count": 50,
   "metadata": {},
   "outputs": [
    {
     "data": {
      "text/plain": [
       "'rashmi'"
      ]
     },
     "execution_count": 50,
     "metadata": {},
     "output_type": "execute_result"
    }
   ],
   "source": [
    "obj.name"
   ]
  },
  {
   "cell_type": "code",
   "execution_count": 44,
   "metadata": {},
   "outputs": [
    {
     "ename": "TypeError",
     "evalue": "__init__() missing 1 required positional argument: 'name'",
     "output_type": "error",
     "traceback": [
      "\u001b[1;31m---------------------------------------------------------------------------\u001b[0m",
      "\u001b[1;31mTypeError\u001b[0m                                 Traceback (most recent call last)",
      "\u001b[1;32m<ipython-input-44-dca406a368fa>\u001b[0m in \u001b[0;36m<module>\u001b[1;34m\u001b[0m\n\u001b[1;32m----> 1\u001b[1;33m \u001b[0mC\u001b[0m\u001b[1;33m.\u001b[0m\u001b[0m__init__\u001b[0m\u001b[1;33m(\u001b[0m\u001b[1;34m'rashmi'\u001b[0m\u001b[1;33m)\u001b[0m \u001b[1;31m# class ref\u001b[0m\u001b[1;33m\u001b[0m\u001b[1;33m\u001b[0m\u001b[0m\n\u001b[0m\u001b[0;32m      2\u001b[0m \u001b[1;31m# init is an object method and it only takes obj ref, if class ref is given it ignores that.\u001b[0m\u001b[1;33m\u001b[0m\u001b[1;33m\u001b[0m\u001b[1;33m\u001b[0m\u001b[0m\n\u001b[0;32m      3\u001b[0m \u001b[1;33m\u001b[0m\u001b[0m\n\u001b[0;32m      4\u001b[0m \u001b[0mobj\u001b[0m \u001b[1;33m=\u001b[0m \u001b[0mC\u001b[0m\u001b[1;33m(\u001b[0m\u001b[1;34m'rashmi'\u001b[0m\u001b[1;33m)\u001b[0m\u001b[1;33m\u001b[0m\u001b[1;33m\u001b[0m\u001b[0m\n\u001b[0;32m      5\u001b[0m \u001b[1;33m\u001b[0m\u001b[0m\n",
      "\u001b[1;31mTypeError\u001b[0m: __init__() missing 1 required positional argument: 'name'"
     ]
    }
   ],
   "source": [
    "C.__init__('rashmi') # class ref\n",
    "# init is an object method and it only takes obj ref, if class ref is given it ignores that.\n",
    "\n",
    "obj = C('rashmi')\n",
    "\n",
    "obj.__init__('mohini') # obj ref\n",
    "\n"
   ]
  },
  {
   "cell_type": "code",
   "execution_count": 30,
   "metadata": {},
   "outputs": [
    {
     "name": "stdout",
     "output_type": "stream",
     "text": [
      "fun inside C\n"
     ]
    }
   ],
   "source": [
    "obj_of_X.fun1()"
   ]
  },
  {
   "cell_type": "code",
   "execution_count": 25,
   "metadata": {},
   "outputs": [
    {
     "name": "stdout",
     "output_type": "stream",
     "text": [
      "Help on X in module __main__ object:\n",
      "\n",
      "class X(B, C, A)\n",
      " |  Method resolution order:\n",
      " |      X\n",
      " |      B\n",
      " |      C\n",
      " |      A\n",
      " |      builtins.object\n",
      " |  \n",
      " |  Methods defined here:\n",
      " |  \n",
      " |  __init__(self)\n",
      " |      Initialize self.  See help(type(self)) for accurate signature.\n",
      " |  \n",
      " |  fun(self)\n",
      " |  \n",
      " |  ----------------------------------------------------------------------\n",
      " |  Data descriptors inherited from B:\n",
      " |  \n",
      " |  __dict__\n",
      " |      dictionary for instance variables (if defined)\n",
      " |  \n",
      " |  __weakref__\n",
      " |      list of weak references to the object (if defined)\n",
      "\n"
     ]
    }
   ],
   "source": [
    "help(obj_of_X)"
   ]
  },
  {
   "cell_type": "code",
   "execution_count": 63,
   "metadata": {},
   "outputs": [],
   "source": [
    "## MULTIPLE INHERITANCE\n",
    "\n",
    "class A:\n",
    "    def __init__(self):\n",
    "        print('inside A')\n",
    "        self.A = 'Apple'\n",
    "        \n",
    "    def fun1(self):\n",
    "        print('fun inside A')\n",
    "        \n",
    "class B:\n",
    "    def __init__(self):\n",
    "        print('inside B')\n",
    "        self.B = 'Blackboard'\n",
    "        super().__init__()\n",
    "        \n",
    "    def fun(self):\n",
    "        print('fun inside B')\n",
    "        \n",
    "class C:\n",
    "    def __init__(self):\n",
    "        print('inside C')\n",
    "        self.C = 'Camera'\n",
    "        super().__init__()\n",
    "        \n",
    "    def fun1(self):\n",
    "        print('fun inside C')\n",
    "        \n",
    "class X(C,B,A):\n",
    "    def __init__(self):\n",
    "        print('inside X')\n",
    "        super().__init__()\n",
    "        \n",
    "    def fun(self):\n",
    "        print('fun inside X')"
   ]
  },
  {
   "cell_type": "code",
   "execution_count": 64,
   "metadata": {},
   "outputs": [
    {
     "name": "stdout",
     "output_type": "stream",
     "text": [
      "inside X\n",
      "inside C\n",
      "inside B\n",
      "inside A\n"
     ]
    }
   ],
   "source": [
    "obj = X()"
   ]
  },
  {
   "cell_type": "code",
   "execution_count": 65,
   "metadata": {},
   "outputs": [
    {
     "data": {
      "text/plain": [
       "'Apple'"
      ]
     },
     "execution_count": 65,
     "metadata": {},
     "output_type": "execute_result"
    }
   ],
   "source": [
    "obj.A"
   ]
  },
  {
   "cell_type": "code",
   "execution_count": 66,
   "metadata": {},
   "outputs": [
    {
     "data": {
      "text/plain": [
       "'Blackboard'"
      ]
     },
     "execution_count": 66,
     "metadata": {},
     "output_type": "execute_result"
    }
   ],
   "source": [
    "obj.B"
   ]
  },
  {
   "cell_type": "code",
   "execution_count": 67,
   "metadata": {},
   "outputs": [
    {
     "data": {
      "text/plain": [
       "'Camera'"
      ]
     },
     "execution_count": 67,
     "metadata": {},
     "output_type": "execute_result"
    }
   ],
   "source": [
    "obj.C"
   ]
  },
  {
   "cell_type": "code",
   "execution_count": 68,
   "metadata": {},
   "outputs": [
    {
     "name": "stdout",
     "output_type": "stream",
     "text": [
      "Help on X in module __main__ object:\n",
      "\n",
      "class X(C, B, A)\n",
      " |  Method resolution order:\n",
      " |      X\n",
      " |      C\n",
      " |      B\n",
      " |      A\n",
      " |      builtins.object\n",
      " |  \n",
      " |  Methods defined here:\n",
      " |  \n",
      " |  __init__(self)\n",
      " |      Initialize self.  See help(type(self)) for accurate signature.\n",
      " |  \n",
      " |  fun(self)\n",
      " |  \n",
      " |  ----------------------------------------------------------------------\n",
      " |  Methods inherited from C:\n",
      " |  \n",
      " |  fun1(self)\n",
      " |  \n",
      " |  ----------------------------------------------------------------------\n",
      " |  Data descriptors inherited from C:\n",
      " |  \n",
      " |  __dict__\n",
      " |      dictionary for instance variables (if defined)\n",
      " |  \n",
      " |  __weakref__\n",
      " |      list of weak references to the object (if defined)\n",
      "\n"
     ]
    }
   ],
   "source": [
    "help(obj)"
   ]
  },
  {
   "cell_type": "code",
   "execution_count": 70,
   "metadata": {},
   "outputs": [],
   "source": [
    "## HYBRID INHERITANCE\n",
    "class X:\n",
    "    def __init__(self):\n",
    "        print('inside X')\n",
    "        \n",
    "    def fun(self):\n",
    "        print('fun inside X')\n",
    "        \n",
    "class A(X):\n",
    "    def fun(self):\n",
    "        print('fun inside A')\n",
    "        \n",
    "class B(X):\n",
    "    def fun(self):\n",
    "        print('fun inside B')\n",
    "        \n",
    "class C(A,B):\n",
    "    def __init__(self):\n",
    "        print('inside C')\n",
    "        super().__init__()\n",
    "        \n",
    "    def fun(self):\n",
    "        print('fun inside C')"
   ]
  },
  {
   "cell_type": "code",
   "execution_count": 71,
   "metadata": {},
   "outputs": [
    {
     "name": "stdout",
     "output_type": "stream",
     "text": [
      "inside C\n",
      "inside X\n"
     ]
    }
   ],
   "source": [
    "objRef = C()"
   ]
  },
  {
   "cell_type": "code",
   "execution_count": null,
   "metadata": {},
   "outputs": [],
   "source": [
    "super will check if init is in A, not there it will check in B, not there, it will check in X, boom, calls that!"
   ]
  },
  {
   "cell_type": "code",
   "execution_count": 75,
   "metadata": {},
   "outputs": [],
   "source": [
    "class Z:\n",
    "    def __init__(self):\n",
    "        print('inside Z')\n",
    "        \n",
    "    def fun(self):\n",
    "        print('fun of Z')\n",
    "        \n",
    "class M(Z):\n",
    "    def __init__(self):\n",
    "        print('inside M')\n",
    "    def fun(self):\n",
    "        print('fun of M')\n",
    "        \n",
    "class N(Z):\n",
    "    def __init__(self):\n",
    "        print('inside N')\n",
    "    def fun(self):\n",
    "        print('fun of N')\n",
    "        \n",
    "class A(M):\n",
    "    def fun(self):\n",
    "        print('fun inside A')\n",
    "        \n",
    "class B(N):\n",
    "    def __init__(self):\n",
    "        print('inside B')\n",
    "    def fun(self):\n",
    "        print('fun inside B')\n",
    "        \n",
    "class C(A,B):\n",
    "    def __init__(self):\n",
    "        print('inside C')\n",
    "        super().__init__()\n",
    "        \n",
    "    def fun(self):\n",
    "        print('fun inside C')"
   ]
  },
  {
   "cell_type": "code",
   "execution_count": 76,
   "metadata": {},
   "outputs": [
    {
     "name": "stdout",
     "output_type": "stream",
     "text": [
      "inside C\n",
      "inside M\n"
     ]
    }
   ],
   "source": [
    "objRef = C()"
   ]
  },
  {
   "cell_type": "code",
   "execution_count": null,
   "metadata": {},
   "outputs": [],
   "source": []
  }
 ],
 "metadata": {
  "kernelspec": {
   "display_name": "Python 3",
   "language": "python",
   "name": "python3"
  },
  "language_info": {
   "codemirror_mode": {
    "name": "ipython",
    "version": 3
   },
   "file_extension": ".py",
   "mimetype": "text/x-python",
   "name": "python",
   "nbconvert_exporter": "python",
   "pygments_lexer": "ipython3",
   "version": "3.8.3"
  }
 },
 "nbformat": 4,
 "nbformat_minor": 4
}
