{
 "cells": [
  {
   "cell_type": "code",
   "execution_count": null,
   "metadata": {},
   "outputs": [],
   "source": [
    "Q1) Write a fun and use filter to filter those numbers which are divisible by 3 and 5"
   ]
  },
  {
   "cell_type": "code",
   "execution_count": 2,
   "metadata": {},
   "outputs": [
    {
     "name": "stdout",
     "output_type": "stream",
     "text": [
      "x in fun6 is  1\n",
      "I am inside fun6\n",
      "x in fun5 is  7\n",
      "I am inside fun5\n",
      "x in fun4 is  12\n",
      "I am inside fun4\n",
      "x in fun3 is  16\n",
      "I am inside fun3\n",
      "x in fun2 is  19\n",
      "I am inside fun2\n",
      "x in fun1 is  21\n",
      "I am inside fun\n"
     ]
    },
    {
     "data": {
      "text/plain": [
       "22"
      ]
     },
     "execution_count": 2,
     "metadata": {},
     "output_type": "execute_result"
    }
   ],
   "source": [
    "Q2) Activity: In what sequence does these functions are called and returned.\n",
    "\n",
    "def fun(x):\n",
    "    print('x in fun1 is ',x)\n",
    "    print(\"I am inside fun\")\n",
    "    return x+1\n",
    "\n",
    "def fun2(x):\n",
    "    print('x in fun2 is ',x)\n",
    "    print(\"I am inside fun2\")\n",
    "    return x+2\n",
    "    \n",
    "def fun3(x):\n",
    "    print('x in fun3 is ',x)\n",
    "    print(\"I am inside fun3\")\n",
    "    return x+3\n",
    "    \n",
    "def fun4(x):\n",
    "    print('x in fun4 is ',x)\n",
    "    print(\"I am inside fun4\")\n",
    "    return x+4\n",
    "    \n",
    "def fun5(x):\n",
    "    print('x in fun5 is ',x)\n",
    "    print(\"I am inside fun5\")\n",
    "    return x+5\n",
    "    \n",
    "def fun6(x):\n",
    "    print('x in fun6 is ',x)\n",
    "    print(\"I am inside fun6\")\n",
    "    return x+6\n",
    "\n",
    "fun(fun2(fun3(fun4(fun5(fun6(1))))))"
   ]
  },
  {
   "cell_type": "code",
   "execution_count": null,
   "metadata": {},
   "outputs": [],
   "source": [
    "Q3)\n",
    "given_list = [1,2,3,4,'mango','apple',45,'$%']\n",
    "\n",
    "write a list comprehension that only inserts strings from the given_list in the new_list\n",
    "\n",
    "HINT\n",
    "type(\"mango\") == str => True\n",
    "type(34) == str  => False"
   ]
  },
  {
   "cell_type": "code",
   "execution_count": null,
   "metadata": {},
   "outputs": [],
   "source": [
    "Q4) use list comprehension and re to contain only elements form the given_list which starts with m and end with 2 digit number.\n",
    "\n",
    "\n",
    "input = ['apple45','mango36','orange67','muskmelon56']\n",
    "\n",
    "ouput = ['mango36','muskmelon56']\n",
    "\n",
    "HINT:  a matcre.search returned value works like True if it is present, else works like false."
   ]
  }
 ],
 "metadata": {
  "kernelspec": {
   "display_name": "Python 3",
   "language": "python",
   "name": "python3"
  },
  "language_info": {
   "codemirror_mode": {
    "name": "ipython",
    "version": 3
   },
   "file_extension": ".py",
   "mimetype": "text/x-python",
   "name": "python",
   "nbconvert_exporter": "python",
   "pygments_lexer": "ipython3",
   "version": "3.8.3"
  }
 },
 "nbformat": 4,
 "nbformat_minor": 4
}
