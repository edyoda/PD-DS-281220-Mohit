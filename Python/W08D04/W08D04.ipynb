{
 "cells": [
  {
   "cell_type": "code",
   "execution_count": 1,
   "metadata": {},
   "outputs": [],
   "source": [
    "## EXCEPTION HANDLING"
   ]
  },
  {
   "cell_type": "code",
   "execution_count": null,
   "metadata": {},
   "outputs": [],
   "source": [
    "SYNTAX:\n",
    "    \n",
    "try:\n",
    "    some code\n",
    "except:\n",
    "    code when an exception occurs\n",
    "else:\n",
    "    code when no exception occurs\n",
    "finally:\n",
    "    code that runs always after the try and (except or else) blocks."
   ]
  },
  {
   "cell_type": "code",
   "execution_count": 5,
   "metadata": {},
   "outputs": [
    {
     "ename": "ZeroDivisionError",
     "evalue": "division by zero",
     "output_type": "error",
     "traceback": [
      "\u001b[1;31m---------------------------------------------------------------------------\u001b[0m",
      "\u001b[1;31mZeroDivisionError\u001b[0m                         Traceback (most recent call last)",
      "\u001b[1;32m<ipython-input-5-5a694adc3195>\u001b[0m in \u001b[0;36m<module>\u001b[1;34m\u001b[0m\n\u001b[1;32m----> 1\u001b[1;33m \u001b[0mprint\u001b[0m\u001b[1;33m(\u001b[0m\u001b[1;36m5\u001b[0m\u001b[1;33m/\u001b[0m\u001b[1;36m0\u001b[0m\u001b[1;33m)\u001b[0m\u001b[1;33m\u001b[0m\u001b[1;33m\u001b[0m\u001b[0m\n\u001b[0m\u001b[0;32m      2\u001b[0m \u001b[0mprint\u001b[0m\u001b[1;33m(\u001b[0m\u001b[1;34m'WILL I EVER RUN?'\u001b[0m\u001b[1;33m)\u001b[0m\u001b[1;33m\u001b[0m\u001b[1;33m\u001b[0m\u001b[0m\n\u001b[0;32m      3\u001b[0m \u001b[1;31m## WHEN AN ERROR OCCURS WITHOUT EXCEPTION HANDLING THAT WE GET AN HALT IN OUR PROGRAM. BUT THINK ABOUT THE SITUAIONS WHERE\u001b[0m\u001b[1;33m\u001b[0m\u001b[1;33m\u001b[0m\u001b[1;33m\u001b[0m\u001b[0m\n\u001b[0;32m      4\u001b[0m \u001b[1;31m## YOU WANT TO RUN THE CODE ALWAYS NO MATTER WHAT BECAUSE IT IS IN PRODUCTION AND LIVE.\u001b[0m\u001b[1;33m\u001b[0m\u001b[1;33m\u001b[0m\u001b[1;33m\u001b[0m\u001b[0m\n",
      "\u001b[1;31mZeroDivisionError\u001b[0m: division by zero"
     ]
    }
   ],
   "source": [
    "print(5/0)\n",
    "print('WILL I EVER RUN?')\n",
    "## WHEN AN ERROR OCCURS WITHOUT EXCEPTION HANDLING THAT WE GET AN HALT IN OUR PROGRAM. BUT THINK ABOUT THE SITUAIONS WHERE\n",
    "## YOU WANT TO RUN THE CODE ALWAYS NO MATTER WHAT BECAUSE IT IS IN PRODUCTION AND LIVE."
   ]
  },
  {
   "cell_type": "code",
   "execution_count": 6,
   "metadata": {},
   "outputs": [
    {
     "name": "stdout",
     "output_type": "stream",
     "text": [
      "I am a correct line\n",
      "oh My God who told you to divide a number by 0????? WHOOOO??\n",
      "Are those try except blocks done??\n"
     ]
    }
   ],
   "source": [
    "try:\n",
    "    print('I am a correct line')\n",
    "    print(5/0)\n",
    "    print('I am a correct line too :)')\n",
    "except:\n",
    "    print(\"oh My God who told you to divide a number by 0????? WHOOOO??\")\n",
    "\n",
    "print('Are those try except blocks done??')"
   ]
  },
  {
   "cell_type": "code",
   "execution_count": null,
   "metadata": {},
   "outputs": [],
   "source": [
    "Q1) Write a fun and use filter to filter those numbers which are divisible by 3 and 5"
   ]
  },
  {
   "cell_type": "code",
   "execution_count": 8,
   "metadata": {},
   "outputs": [
    {
     "data": {
      "text/plain": [
       "[15, 45]"
      ]
     },
     "execution_count": 8,
     "metadata": {},
     "output_type": "execute_result"
    }
   ],
   "source": [
    "list(filter(lambda x: x%3==0 and x%5==0,[3,5,6,9,12,14,15,16,20,45]))"
   ]
  },
  {
   "cell_type": "code",
   "execution_count": 9,
   "metadata": {},
   "outputs": [],
   "source": [
    "X = iter([3,5,6,9,12,14,15,16,20,45])"
   ]
  },
  {
   "cell_type": "code",
   "execution_count": 12,
   "metadata": {},
   "outputs": [
    {
     "ename": "StopIteration",
     "evalue": "",
     "output_type": "error",
     "traceback": [
      "\u001b[1;31m---------------------------------------------------------------------------\u001b[0m",
      "\u001b[1;31mStopIteration\u001b[0m                             Traceback (most recent call last)",
      "\u001b[1;32m<ipython-input-12-ebe81be37b99>\u001b[0m in \u001b[0;36m<module>\u001b[1;34m\u001b[0m\n\u001b[0;32m      1\u001b[0m \u001b[1;32mfor\u001b[0m \u001b[0mi\u001b[0m \u001b[1;32min\u001b[0m \u001b[0mrange\u001b[0m\u001b[1;33m(\u001b[0m\u001b[0mlen\u001b[0m\u001b[1;33m(\u001b[0m\u001b[1;33m[\u001b[0m\u001b[1;36m3\u001b[0m\u001b[1;33m,\u001b[0m\u001b[1;36m5\u001b[0m\u001b[1;33m,\u001b[0m\u001b[1;36m6\u001b[0m\u001b[1;33m,\u001b[0m\u001b[1;36m9\u001b[0m\u001b[1;33m,\u001b[0m\u001b[1;36m12\u001b[0m\u001b[1;33m,\u001b[0m\u001b[1;36m14\u001b[0m\u001b[1;33m,\u001b[0m\u001b[1;36m15\u001b[0m\u001b[1;33m,\u001b[0m\u001b[1;36m16\u001b[0m\u001b[1;33m,\u001b[0m\u001b[1;36m20\u001b[0m\u001b[1;33m,\u001b[0m\u001b[1;36m45\u001b[0m\u001b[1;33m]\u001b[0m\u001b[1;33m)\u001b[0m\u001b[1;33m)\u001b[0m\u001b[1;33m:\u001b[0m\u001b[1;33m\u001b[0m\u001b[1;33m\u001b[0m\u001b[0m\n\u001b[1;32m----> 2\u001b[1;33m     \u001b[0mnext\u001b[0m\u001b[1;33m(\u001b[0m\u001b[0mX\u001b[0m\u001b[1;33m)\u001b[0m\u001b[1;33m\u001b[0m\u001b[1;33m\u001b[0m\u001b[0m\n\u001b[0m\u001b[0;32m      3\u001b[0m \u001b[0mnext\u001b[0m\u001b[1;33m(\u001b[0m\u001b[0mX\u001b[0m\u001b[1;33m)\u001b[0m\u001b[1;33m\u001b[0m\u001b[1;33m\u001b[0m\u001b[0m\n",
      "\u001b[1;31mStopIteration\u001b[0m: "
     ]
    }
   ],
   "source": [
    "for i in range(len([3,5,6,9,12,14,15,16,20,45])):\n",
    "    next(X)\n",
    "next(X)"
   ]
  },
  {
   "cell_type": "code",
   "execution_count": null,
   "metadata": {},
   "outputs": [],
   "source": [
    "## There are multiple or different types of errors\n",
    "ZeroDivisionError and StopIteration Error\n",
    "\n",
    "## They should be handled separately."
   ]
  },
  {
   "cell_type": "code",
   "execution_count": 14,
   "metadata": {},
   "outputs": [
    {
     "name": "stdout",
     "output_type": "stream",
     "text": [
      "I am a correct line\n",
      "oh My God who told you to divide a number by 0????? WHOOOO??\n",
      "Are those try except blocks done??\n"
     ]
    }
   ],
   "source": [
    "try:\n",
    "    print('I am a correct line')\n",
    "    for i in range(len([3,5,6,9,12,14,15,16,20,45])):\n",
    "        next(X)\n",
    "    next(X)\n",
    "    print('I am a correct line too :)')\n",
    "except:\n",
    "    print(\"oh My God who told you to divide a number by 0????? WHOOOO??\")\n",
    "\n",
    "print('Are those try except blocks done??')"
   ]
  },
  {
   "cell_type": "code",
   "execution_count": null,
   "metadata": {},
   "outputs": [],
   "source": [
    "## Logically it is wrong handling."
   ]
  },
  {
   "cell_type": "code",
   "execution_count": 15,
   "metadata": {},
   "outputs": [
    {
     "name": "stdout",
     "output_type": "stream",
     "text": [
      "I am a correct line\n",
      "Oh lord why would you use next() after the size of iterator is over??\n",
      "Are those try except blocks done??\n"
     ]
    }
   ],
   "source": [
    "try:\n",
    "    print('I am a correct line')\n",
    "    for i in range(len([3,5,6,9,12,14,15,16,20,45])):\n",
    "        next(X)\n",
    "    next(X)\n",
    "    print('I am a correct line too :)')\n",
    "except StopIteration:\n",
    "    print('Oh lord why would you use next() after the size of iterator is over??')\n",
    "except ZeroDivisionError:\n",
    "    print(\"oh My God who told you to divide a number by 0????? WHOOOO??\")\n",
    "\n",
    "print('Are those try except blocks done??')"
   ]
  },
  {
   "cell_type": "code",
   "execution_count": 16,
   "metadata": {},
   "outputs": [
    {
     "name": "stdout",
     "output_type": "stream",
     "text": [
      "I am a correct line\n",
      "oh My God who told you to divide a number by 0????? WHOOOO??\n",
      "Are those try except blocks done??\n"
     ]
    }
   ],
   "source": [
    "try:\n",
    "    print('I am a correct line')\n",
    "    print(4/0)\n",
    "    print('I am a correct line too :)')\n",
    "except StopIteration:\n",
    "    print('Oh lord why would you use next() after the size of iterator is over??')\n",
    "except ZeroDivisionError:\n",
    "    print(\"oh My God who told you to divide a number by 0????? WHOOOO??\")\n",
    "\n",
    "print('Are those try except blocks done??')"
   ]
  },
  {
   "cell_type": "markdown",
   "metadata": {},
   "source": [
    "## ELSE BLOCK"
   ]
  },
  {
   "cell_type": "code",
   "execution_count": 17,
   "metadata": {},
   "outputs": [
    {
     "name": "stdout",
     "output_type": "stream",
     "text": [
      "I am a correct line\n",
      "I am a correct line too :)\n",
      "Wohooo!! NO Error Occured! You are a PRO!!\n",
      "Are those try except blocks done??\n"
     ]
    }
   ],
   "source": [
    "try:\n",
    "    print('I am a correct line')\n",
    "    print('I am a correct line too :)')\n",
    "except StopIteration:\n",
    "    print('Oh lord why would you use next() after the size of iterator is over??')\n",
    "except ZeroDivisionError:\n",
    "    print(\"oh My God who told you to divide a number by 0????? WHOOOO??\")\n",
    "else:\n",
    "    print(\"Wohooo!! NO Error Occured! You are a PRO!!\")\n",
    "\n",
    "print('Are those try except blocks done??')"
   ]
  },
  {
   "cell_type": "code",
   "execution_count": 18,
   "metadata": {},
   "outputs": [
    {
     "name": "stdout",
     "output_type": "stream",
     "text": [
      "I am a correct line\n",
      "oh My God who told you to divide a number by 0????? WHOOOO??\n",
      "Are those try except blocks done??\n"
     ]
    }
   ],
   "source": [
    "try:\n",
    "    print('I am a correct line')\n",
    "    print(5/0)\n",
    "    print('I am a correct line too :)')\n",
    "except StopIteration:\n",
    "    print('Oh lord why would you use next() after the size of iterator is over??')\n",
    "except ZeroDivisionError:\n",
    "    print(\"oh My God who told you to divide a number by 0????? WHOOOO??\")\n",
    "else:\n",
    "    print(\"Wohooo!! NO Error Occured! You are a PRO!!\")\n",
    "\n",
    "print('Are those try except blocks done??')"
   ]
  },
  {
   "cell_type": "markdown",
   "metadata": {},
   "source": [
    "## FINALLY BLOCK"
   ]
  },
  {
   "cell_type": "code",
   "execution_count": 21,
   "metadata": {},
   "outputs": [
    {
     "name": "stdout",
     "output_type": "stream",
     "text": [
      "I am a correct line\n",
      "I am a correct line too :)\n",
      "Wohooo!! NO Error Occured! You are a PRO!!\n",
      "We are in the finally block guys!! Finally.\n",
      "Are those try except blocks done??\n"
     ]
    }
   ],
   "source": [
    "try:\n",
    "    print('I am a correct line')\n",
    "#     print(5/0)\n",
    "    print('I am a correct line too :)')\n",
    "except StopIteration:\n",
    "    print('Oh lord why would you use next() after the size of iterator is over??')\n",
    "except ZeroDivisionError:\n",
    "    print(\"oh My God who told you to divide a number by 0????? WHOOOO??\")\n",
    "else:\n",
    "    print(\"Wohooo!! NO Error Occured! You are a PRO!!\")\n",
    "finally:\n",
    "    print('We are in the finally block guys!! Finally.')\n",
    "\n",
    "print('Are those try except blocks done??')"
   ]
  },
  {
   "cell_type": "code",
   "execution_count": 20,
   "metadata": {},
   "outputs": [],
   "source": [
    "# WHAT IS THE POINT OF HAVING A FINALLY BLOCK????"
   ]
  },
  {
   "cell_type": "code",
   "execution_count": 22,
   "metadata": {},
   "outputs": [
    {
     "name": "stdout",
     "output_type": "stream",
     "text": [
      "I am a correct line\n",
      "I am a correct line too :)\n",
      "Wohooo!! NO Error Occured! You are a PRO!!\n",
      "We are in the finally block guys!! Finally.\n"
     ]
    },
    {
     "ename": "ZeroDivisionError",
     "evalue": "division by zero",
     "output_type": "error",
     "traceback": [
      "\u001b[1;31m---------------------------------------------------------------------------\u001b[0m",
      "\u001b[1;31mZeroDivisionError\u001b[0m                         Traceback (most recent call last)",
      "\u001b[1;32m<ipython-input-22-0f49555de956>\u001b[0m in \u001b[0;36m<module>\u001b[1;34m\u001b[0m\n\u001b[0;32m     12\u001b[0m     \u001b[0mprint\u001b[0m\u001b[1;33m(\u001b[0m\u001b[1;34m'We are in the finally block guys!! Finally.'\u001b[0m\u001b[1;33m)\u001b[0m\u001b[1;33m\u001b[0m\u001b[1;33m\u001b[0m\u001b[0m\n\u001b[0;32m     13\u001b[0m \u001b[1;33m\u001b[0m\u001b[0m\n\u001b[1;32m---> 14\u001b[1;33m \u001b[0mprint\u001b[0m\u001b[1;33m(\u001b[0m\u001b[1;36m5\u001b[0m\u001b[1;33m/\u001b[0m\u001b[1;36m0\u001b[0m\u001b[1;33m)\u001b[0m\u001b[1;33m\u001b[0m\u001b[1;33m\u001b[0m\u001b[0m\n\u001b[0m",
      "\u001b[1;31mZeroDivisionError\u001b[0m: division by zero"
     ]
    }
   ],
   "source": [
    "try:\n",
    "    print('I am a correct line')\n",
    "#     print(5/0)\n",
    "    print('I am a correct line too :)')\n",
    "except StopIteration:\n",
    "    print('Oh lord why would you use next() after the size of iterator is over??')\n",
    "except ZeroDivisionError:\n",
    "    print(\"oh My God who told you to divide a number by 0????? WHOOOO??\")\n",
    "else:\n",
    "    print(\"Wohooo!! NO Error Occured! You are a PRO!!\")\n",
    "finally:\n",
    "    print('We are in the finally block guys!! Finally.')\n",
    "\n",
    "# print(5/0)"
   ]
  },
  {
   "cell_type": "code",
   "execution_count": 23,
   "metadata": {},
   "outputs": [],
   "source": [
    "# HOMEWORK: RESEARCH ON WHAT IS THE POINT OF HAVING A FINALLY BLOCK?"
   ]
  },
  {
   "cell_type": "code",
   "execution_count": 24,
   "metadata": {},
   "outputs": [],
   "source": [
    "fp = open('test.txt','w+')"
   ]
  },
  {
   "cell_type": "code",
   "execution_count": 25,
   "metadata": {},
   "outputs": [
    {
     "data": {
      "text/plain": [
       "13"
      ]
     },
     "execution_count": 25,
     "metadata": {},
     "output_type": "execute_result"
    }
   ],
   "source": [
    "fp.write('Hello World!!')"
   ]
  },
  {
   "cell_type": "code",
   "execution_count": 26,
   "metadata": {},
   "outputs": [],
   "source": [
    "fp.close()"
   ]
  },
  {
   "cell_type": "code",
   "execution_count": 27,
   "metadata": {},
   "outputs": [
    {
     "ename": "UnsupportedOperation",
     "evalue": "not writable",
     "output_type": "error",
     "traceback": [
      "\u001b[1;31m---------------------------------------------------------------------------\u001b[0m",
      "\u001b[1;31mUnsupportedOperation\u001b[0m                      Traceback (most recent call last)",
      "\u001b[1;32m<ipython-input-27-ba1c9e64710a>\u001b[0m in \u001b[0;36m<module>\u001b[1;34m\u001b[0m\n\u001b[0;32m      1\u001b[0m \u001b[0mfp\u001b[0m \u001b[1;33m=\u001b[0m \u001b[0mopen\u001b[0m\u001b[1;33m(\u001b[0m\u001b[1;34m'test.txt'\u001b[0m\u001b[1;33m,\u001b[0m\u001b[1;34m'r'\u001b[0m\u001b[1;33m)\u001b[0m\u001b[1;33m\u001b[0m\u001b[1;33m\u001b[0m\u001b[0m\n\u001b[0;32m      2\u001b[0m \u001b[1;33m\u001b[0m\u001b[0m\n\u001b[1;32m----> 3\u001b[1;33m \u001b[0mfp\u001b[0m\u001b[1;33m.\u001b[0m\u001b[0mwrite\u001b[0m\u001b[1;33m(\u001b[0m\u001b[1;34m'A New World!'\u001b[0m\u001b[1;33m)\u001b[0m\u001b[1;33m\u001b[0m\u001b[1;33m\u001b[0m\u001b[0m\n\u001b[0m",
      "\u001b[1;31mUnsupportedOperation\u001b[0m: not writable"
     ]
    }
   ],
   "source": [
    "fp = open('test.txt','r')\n",
    "\n",
    "fp.write('A New World!')"
   ]
  },
  {
   "cell_type": "code",
   "execution_count": 28,
   "metadata": {},
   "outputs": [
    {
     "ename": "NameError",
     "evalue": "name 'UnsupportedOperation' is not defined",
     "output_type": "error",
     "traceback": [
      "\u001b[1;31m---------------------------------------------------------------------------\u001b[0m",
      "\u001b[1;31mUnsupportedOperation\u001b[0m                      Traceback (most recent call last)",
      "\u001b[1;32m<ipython-input-28-8e11d6a69e4b>\u001b[0m in \u001b[0;36m<module>\u001b[1;34m\u001b[0m\n\u001b[0;32m      2\u001b[0m     \u001b[0mfp\u001b[0m \u001b[1;33m=\u001b[0m \u001b[0mopen\u001b[0m\u001b[1;33m(\u001b[0m\u001b[1;34m'test.txt'\u001b[0m\u001b[1;33m,\u001b[0m\u001b[1;34m'r'\u001b[0m\u001b[1;33m)\u001b[0m\u001b[1;33m\u001b[0m\u001b[1;33m\u001b[0m\u001b[0m\n\u001b[1;32m----> 3\u001b[1;33m     \u001b[0mfp\u001b[0m\u001b[1;33m.\u001b[0m\u001b[0mwrite\u001b[0m\u001b[1;33m(\u001b[0m\u001b[1;34m'A New World!'\u001b[0m\u001b[1;33m)\u001b[0m\u001b[1;33m\u001b[0m\u001b[1;33m\u001b[0m\u001b[0m\n\u001b[0m\u001b[0;32m      4\u001b[0m \u001b[1;32mexcept\u001b[0m \u001b[0mUnsupportedOperation\u001b[0m\u001b[1;33m:\u001b[0m\u001b[1;33m\u001b[0m\u001b[1;33m\u001b[0m\u001b[0m\n",
      "\u001b[1;31mUnsupportedOperation\u001b[0m: not writable",
      "\nDuring handling of the above exception, another exception occurred:\n",
      "\u001b[1;31mNameError\u001b[0m                                 Traceback (most recent call last)",
      "\u001b[1;32m<ipython-input-28-8e11d6a69e4b>\u001b[0m in \u001b[0;36m<module>\u001b[1;34m\u001b[0m\n\u001b[0;32m      2\u001b[0m     \u001b[0mfp\u001b[0m \u001b[1;33m=\u001b[0m \u001b[0mopen\u001b[0m\u001b[1;33m(\u001b[0m\u001b[1;34m'test.txt'\u001b[0m\u001b[1;33m,\u001b[0m\u001b[1;34m'r'\u001b[0m\u001b[1;33m)\u001b[0m\u001b[1;33m\u001b[0m\u001b[1;33m\u001b[0m\u001b[0m\n\u001b[0;32m      3\u001b[0m     \u001b[0mfp\u001b[0m\u001b[1;33m.\u001b[0m\u001b[0mwrite\u001b[0m\u001b[1;33m(\u001b[0m\u001b[1;34m'A New World!'\u001b[0m\u001b[1;33m)\u001b[0m\u001b[1;33m\u001b[0m\u001b[1;33m\u001b[0m\u001b[0m\n\u001b[1;32m----> 4\u001b[1;33m \u001b[1;32mexcept\u001b[0m \u001b[0mUnsupportedOperation\u001b[0m\u001b[1;33m:\u001b[0m\u001b[1;33m\u001b[0m\u001b[1;33m\u001b[0m\u001b[0m\n\u001b[0m\u001b[0;32m      5\u001b[0m     \u001b[0mprint\u001b[0m\u001b[1;33m(\u001b[0m\u001b[1;34m'Not Supported Operation'\u001b[0m\u001b[1;33m)\u001b[0m\u001b[1;33m\u001b[0m\u001b[1;33m\u001b[0m\u001b[0m\n",
      "\u001b[1;31mNameError\u001b[0m: name 'UnsupportedOperation' is not defined"
     ]
    }
   ],
   "source": [
    "try:\n",
    "    fp = open('test.txt','r')\n",
    "    fp.write('A New World!')\n",
    "except UnsupportedOperation:\n",
    "    print('Not Supported Operation')"
   ]
  },
  {
   "cell_type": "code",
   "execution_count": 33,
   "metadata": {},
   "outputs": [
    {
     "name": "stdout",
     "output_type": "stream",
     "text": [
      "Not Supported Operation\n"
     ]
    }
   ],
   "source": [
    "try:\n",
    "    fp = open('test.txt','r')\n",
    "    fp.write('A New World!')\n",
    "except:\n",
    "    print('Not Supported Operation')\n",
    "finally:\n",
    "    fp.close()"
   ]
  },
  {
   "cell_type": "code",
   "execution_count": 35,
   "metadata": {},
   "outputs": [
    {
     "name": "stdout",
     "output_type": "stream",
     "text": [
      "x in fun6 is  1\n",
      "I am inside fun6\n",
      "x in fun5 is  7\n",
      "I am inside fun5\n",
      "x in fun4 is  12\n",
      "I am inside fun4\n",
      "x in fun3 is  16\n",
      "I am inside fun3\n",
      "x in fun2 is  19\n",
      "I am inside fun2\n",
      "x in fun1 is  21\n",
      "I am inside fun\n",
      "22\n"
     ]
    }
   ],
   "source": [
    "# Q2) Activity: In what sequence does these functions are called and returned.\n",
    "\n",
    "def fun(x):\n",
    "    print('x in fun1 is ',x)\n",
    "    print(\"I am inside fun\")\n",
    "    return x+1\n",
    "\n",
    "def fun2(x):\n",
    "    print('x in fun2 is ',x)\n",
    "    print(\"I am inside fun2\")\n",
    "    return x+2\n",
    "    \n",
    "def fun3(x):\n",
    "    print('x in fun3 is ',x)\n",
    "    print(\"I am inside fun3\")\n",
    "    return x+3\n",
    "    \n",
    "def fun4(x):\n",
    "    print('x in fun4 is ',x)\n",
    "    print(\"I am inside fun4\")\n",
    "    return x+4\n",
    "    \n",
    "def fun5(x):\n",
    "    print('x in fun5 is ',x)\n",
    "    print(\"I am inside fun5\")\n",
    "    return x+5\n",
    "    \n",
    "def fun6(x):\n",
    "    print('x in fun6 is ',x)\n",
    "    print(\"I am inside fun6\")\n",
    "    return x+6\n",
    "\n",
    "z = fun(fun2(fun3(fun4(fun5(fun6(1))))))\n",
    "\n",
    "print(z)"
   ]
  },
  {
   "cell_type": "code",
   "execution_count": null,
   "metadata": {},
   "outputs": [],
   "source": [
    "## how to create custom exceptions"
   ]
  },
  {
   "cell_type": "code",
   "execution_count": 36,
   "metadata": {},
   "outputs": [
    {
     "name": "stdout",
     "output_type": "stream",
     "text": [
      "python\n",
      "pandas\n"
     ]
    },
    {
     "ename": "Exception",
     "evalue": "YOU ARE NOT ALLOWED TO HAVE SOMETHING THAT DOES NOT STARTS WITH P",
     "output_type": "error",
     "traceback": [
      "\u001b[1;31m---------------------------------------------------------------------------\u001b[0m",
      "\u001b[1;31mException\u001b[0m                                 Traceback (most recent call last)",
      "\u001b[1;32m<ipython-input-36-ac250c4927a5>\u001b[0m in \u001b[0;36m<module>\u001b[1;34m\u001b[0m\n\u001b[0;32m      3\u001b[0m \u001b[1;32mfor\u001b[0m \u001b[0mi\u001b[0m \u001b[1;32min\u001b[0m \u001b[0mx\u001b[0m\u001b[1;33m:\u001b[0m\u001b[1;33m\u001b[0m\u001b[1;33m\u001b[0m\u001b[0m\n\u001b[0;32m      4\u001b[0m     \u001b[1;32mif\u001b[0m \u001b[0mi\u001b[0m\u001b[1;33m[\u001b[0m\u001b[1;36m0\u001b[0m\u001b[1;33m]\u001b[0m \u001b[1;33m!=\u001b[0m \u001b[1;34m'p'\u001b[0m\u001b[1;33m:\u001b[0m\u001b[1;33m\u001b[0m\u001b[1;33m\u001b[0m\u001b[0m\n\u001b[1;32m----> 5\u001b[1;33m         \u001b[1;32mraise\u001b[0m \u001b[0mException\u001b[0m\u001b[1;33m(\u001b[0m\u001b[1;34m'YOU ARE NOT ALLOWED TO HAVE SOMETHING THAT DOES NOT STARTS WITH P'\u001b[0m\u001b[1;33m)\u001b[0m\u001b[1;33m\u001b[0m\u001b[1;33m\u001b[0m\u001b[0m\n\u001b[0m\u001b[0;32m      6\u001b[0m     \u001b[0mprint\u001b[0m\u001b[1;33m(\u001b[0m\u001b[0mi\u001b[0m\u001b[1;33m)\u001b[0m\u001b[1;33m\u001b[0m\u001b[1;33m\u001b[0m\u001b[0m\n",
      "\u001b[1;31mException\u001b[0m: YOU ARE NOT ALLOWED TO HAVE SOMETHING THAT DOES NOT STARTS WITH P"
     ]
    }
   ],
   "source": [
    "x = ['python','pandas','numpy']\n",
    "\n",
    "for i in x:\n",
    "    if i[0] != 'p':\n",
    "        raise Exception('YOU ARE NOT ALLOWED TO HAVE SOMETHING THAT DOES NOT STARTS WITH P')\n",
    "    print(i)"
   ]
  },
  {
   "cell_type": "code",
   "execution_count": null,
   "metadata": {},
   "outputs": [],
   "source": [
    "FOR LOOP: JUST A WHILE LOOP WITH EXCEPTION HANDLING"
   ]
  },
  {
   "cell_type": "code",
   "execution_count": null,
   "metadata": {},
   "outputs": [],
   "source": [
    "LETS CREATE FOR LOOP USING WHILE LOOP."
   ]
  },
  {
   "cell_type": "code",
   "execution_count": 37,
   "metadata": {},
   "outputs": [
    {
     "name": "stdout",
     "output_type": "stream",
     "text": [
      "1\n",
      "2\n",
      "3\n",
      "4\n"
     ]
    }
   ],
   "source": [
    "list1 = [1,2,3,4]\n",
    "for i in list1:\n",
    "    print(i)"
   ]
  },
  {
   "cell_type": "code",
   "execution_count": null,
   "metadata": {},
   "outputs": [],
   "source": [
    "FOR LOOP INTERNALLY USES AN ITERATOR? REMEMBER?"
   ]
  },
  {
   "cell_type": "code",
   "execution_count": 38,
   "metadata": {},
   "outputs": [
    {
     "name": "stdout",
     "output_type": "stream",
     "text": [
      "1\n",
      "2\n",
      "3\n",
      "4\n"
     ]
    },
    {
     "ename": "StopIteration",
     "evalue": "",
     "output_type": "error",
     "traceback": [
      "\u001b[1;31m---------------------------------------------------------------------------\u001b[0m",
      "\u001b[1;31mStopIteration\u001b[0m                             Traceback (most recent call last)",
      "\u001b[1;32m<ipython-input-38-0b973b1ce203>\u001b[0m in \u001b[0;36m<module>\u001b[1;34m\u001b[0m\n\u001b[0;32m      2\u001b[0m \u001b[1;33m\u001b[0m\u001b[0m\n\u001b[0;32m      3\u001b[0m \u001b[1;32mwhile\u001b[0m \u001b[1;32mTrue\u001b[0m\u001b[1;33m:\u001b[0m\u001b[1;33m\u001b[0m\u001b[1;33m\u001b[0m\u001b[0m\n\u001b[1;32m----> 4\u001b[1;33m     \u001b[0mprint\u001b[0m\u001b[1;33m(\u001b[0m\u001b[0mnext\u001b[0m\u001b[1;33m(\u001b[0m\u001b[0miter_obj\u001b[0m\u001b[1;33m)\u001b[0m\u001b[1;33m)\u001b[0m\u001b[1;33m\u001b[0m\u001b[1;33m\u001b[0m\u001b[0m\n\u001b[0m",
      "\u001b[1;31mStopIteration\u001b[0m: "
     ]
    }
   ],
   "source": [
    "iter_obj = iter(list1)\n",
    "\n",
    "while True:\n",
    "    print(next(iter_obj))"
   ]
  },
  {
   "cell_type": "code",
   "execution_count": 40,
   "metadata": {},
   "outputs": [
    {
     "name": "stdout",
     "output_type": "stream",
     "text": [
      "1\n",
      "2\n",
      "3\n",
      "4\n"
     ]
    }
   ],
   "source": [
    "## FOR LOOP CONVERTED INTO A WHILE LOOP WITH EXCEPTION HANDLING.\n",
    "iter_obj = iter(list1)\n",
    "while True:\n",
    "    try:\n",
    "        print(next(iter_obj))\n",
    "    except StopIteration:\n",
    "        break"
   ]
  },
  {
   "cell_type": "code",
   "execution_count": 42,
   "metadata": {},
   "outputs": [
    {
     "name": "stdout",
     "output_type": "stream",
     "text": [
      "I am a correct line\n",
      "oh My God who told you to divide a number by 0????? WHOOOO??\n",
      "division by zero\n"
     ]
    }
   ],
   "source": [
    "try:\n",
    "    print('I am a correct line')\n",
    "    print(5/0)\n",
    "    print('I am a correct line too :)')\n",
    "except StopIteration:\n",
    "    print('Oh lord why would you use next() after the size of iterator is over??')\n",
    "except ZeroDivisionError as e:\n",
    "    print(\"oh My God who told you to divide a number by 0????? WHOOOO??\")\n",
    "    print(e)"
   ]
  },
  {
   "cell_type": "code",
   "execution_count": 44,
   "metadata": {},
   "outputs": [
    {
     "ename": "ZeroDivisionError",
     "evalue": "division by zero",
     "output_type": "error",
     "traceback": [
      "\u001b[1;31m---------------------------------------------------------------------------\u001b[0m",
      "\u001b[1;31mZeroDivisionError\u001b[0m                         Traceback (most recent call last)",
      "\u001b[1;32m<ipython-input-44-fad870a50e27>\u001b[0m in \u001b[0;36m<module>\u001b[1;34m\u001b[0m\n\u001b[1;32m----> 1\u001b[1;33m \u001b[0mprint\u001b[0m\u001b[1;33m(\u001b[0m\u001b[1;36m5\u001b[0m\u001b[1;33m/\u001b[0m\u001b[1;36m0\u001b[0m\u001b[1;33m)\u001b[0m\u001b[1;33m\u001b[0m\u001b[1;33m\u001b[0m\u001b[0m\n\u001b[0m",
      "\u001b[1;31mZeroDivisionError\u001b[0m: division by zero"
     ]
    }
   ],
   "source": [
    "print(5/0)"
   ]
  },
  {
   "cell_type": "code",
   "execution_count": 45,
   "metadata": {},
   "outputs": [
    {
     "name": "stdout",
     "output_type": "stream",
     "text": [
      "not writable\n",
      "Not Supported Operation\n"
     ]
    }
   ],
   "source": [
    "try:\n",
    "    fp = open('test.txt','r')\n",
    "    fp.write('A New World!')\n",
    "except Exception as e:\n",
    "    print(e)\n",
    "    print('Not Supported Operation')\n",
    "finally:\n",
    "    fp.close()"
   ]
  },
  {
   "cell_type": "code",
   "execution_count": null,
   "metadata": {},
   "outputs": [],
   "source": [
    "1) Exception is the BASE CLASS\n",
    "and there are child classes like ZeroDivisionError, StopIterationError,etc\n",
    "\n",
    "2) DUNDER METHODS??\n",
    "__repr__ ?\n",
    "__str__ ?\n",
    "\n",
    "obj = A()\n",
    "print(obj)"
   ]
  },
  {
   "cell_type": "code",
   "execution_count": 51,
   "metadata": {},
   "outputs": [
    {
     "name": "stdout",
     "output_type": "stream",
     "text": [
      "apple\n",
      "mango\n",
      "banana\n",
      "where am i Error\n"
     ]
    }
   ],
   "source": [
    "try:\n",
    "    def simple_gen():\n",
    "        print('apple')\n",
    "        yield # only the first one works, because return happens here.\n",
    "        print('mango')\n",
    "        #return\n",
    "        yield \n",
    "        print('banana')\n",
    "        yield\n",
    "        return \"where am i Error\"\n",
    "\n",
    "\n",
    "    generator_object = simple_gen()\n",
    "    next(generator_object)\n",
    "    next(generator_object)\n",
    "    next(generator_object)\n",
    "    next(generator_object)\n",
    "    next(generator_object)\n",
    "except Exception as e:\n",
    "    print(e)"
   ]
  },
  {
   "cell_type": "code",
   "execution_count": null,
   "metadata": {},
   "outputs": [],
   "source": [
    "## JSON\n",
    "\n",
    "JAVASCRIPT OBJECT NOTATION\n",
    "\n",
    "LIGHTWEIGHT FILE USED FOR DATAINTERCHANGING. \n",
    "USED FOR STORING AND TRANSPORTING DATA."
   ]
  },
  {
   "cell_type": "code",
   "execution_count": null,
   "metadata": {},
   "outputs": [],
   "source": [
    "{'KEY':'VALUE'}"
   ]
  },
  {
   "cell_type": "code",
   "execution_count": null,
   "metadata": {},
   "outputs": [],
   "source": [
    "VALUES CAN BE:-\n",
    "    STRING\n",
    "    NUMBER(FLOAT AND INT)\n",
    "    ANOTHER JSON OBJECT (DICT IN PYTHON)\n",
    "    array(list in python)\n",
    "    Boolean (bool in python)\n",
    "    null (None in python)"
   ]
  },
  {
   "cell_type": "code",
   "execution_count": null,
   "metadata": {},
   "outputs": [],
   "source": [
    "# NESTED STRUCTURE OF LIST AND DICTIONARIES"
   ]
  },
  {
   "cell_type": "code",
   "execution_count": null,
   "metadata": {},
   "outputs": [],
   "source": [
    "SINCE JSON IS A FILE TYPE AND IT CAN BE ACCESSED ACROSS PROGRAMMING LANGUAGES, WE NEED SOMETHING THAT CAN \n",
    "CONVERT THAT FILE DATA INTO SOMETHING THAT PYTHON UNDERSTANDS."
   ]
  },
  {
   "cell_type": "code",
   "execution_count": 58,
   "metadata": {},
   "outputs": [
    {
     "name": "stdout",
     "output_type": "stream",
     "text": [
      "<_io.TextIOWrapper name='example.json' mode='r' encoding='cp1252'>\n"
     ]
    }
   ],
   "source": [
    "# What if i open the json file using the earlier method we studied to open a text file.\n",
    "fp = open('example.json','r')\n",
    "print(fp)"
   ]
  },
  {
   "cell_type": "code",
   "execution_count": 59,
   "metadata": {},
   "outputs": [
    {
     "name": "stdout",
     "output_type": "stream",
     "text": [
      "{\"quiz\": {\n",
      "\t\t\"sport\": {\n",
      "\t\t\t\"q1\": {\n",
      "\t\t\t\t\"question\": \"Which one is correct team name in NBA?\",\n",
      "\t\t\t\t\"options\": [\n",
      "\t\t\t\t\t\"New York Bulls\",\n",
      "\t\t\t\t\t\"Los Angeles Kings\",\n",
      "\t\t\t\t\t\"Golden State Warriros\",\n",
      "\t\t\t\t\t\"Huston Rocket\"\n",
      "\t\t\t\t],\n",
      "\t\t\t\t\"answer\": \"Huston Rocket\"\n",
      "\t\t\t}\n",
      "\t\t},\n",
      "\t\t\"maths\": {\n",
      "\t\t\t\"q1\": {\n",
      "\t\t\t\t\"question\": \"5 + 7 = ?\",\n",
      "\t\t\t\t\"options\": [\n",
      "\t\t\t\t\t\"10\",\n",
      "\t\t\t\t\t\"11\",\n",
      "\t\t\t\t\t\"12\",\n",
      "\t\t\t\t\t\"13\"\n",
      "\t\t\t\t],\n",
      "\t\t\t\t\"answer\": \"12\"\n",
      "\t\t\t},\n",
      "\t\t\t\"q2\": {\n",
      "\t\t\t\t\"question\": \"12 - 8 = ?\",\n",
      "\t\t\t\t\"options\": [\n",
      "\t\t\t\t\t\"1\",\n",
      "\t\t\t\t\t\"2\",\n",
      "\t\t\t\t\t\"3\",\n",
      "\t\t\t\t\t\"4\"\n",
      "\t\t\t\t],\n",
      "\t\t\t\t\"answer\": \"4\"\n",
      "\t\t\t}\n",
      "\t\t}\n",
      "\t}\n",
      "}\n",
      "<class 'str'>\n"
     ]
    }
   ],
   "source": [
    "content = fp.read()\n",
    "\n",
    "print(content)\n",
    "print(type(content))"
   ]
  },
  {
   "cell_type": "code",
   "execution_count": 60,
   "metadata": {},
   "outputs": [
    {
     "name": "stdout",
     "output_type": "stream",
     "text": [
      "{'quiz': {'sport': {'q1': {'question': 'Which one is correct team name in NBA?', 'options': ['New York Bulls', 'Los Angeles Kings', 'Golden State Warriros', 'Huston Rocket'], 'answer': 'Huston Rocket'}}, 'maths': {'q1': {'question': '5 + 7 = ?', 'options': ['10', '11', '12', '13'], 'answer': '12'}, 'q2': {'question': '12 - 8 = ?', 'options': ['1', '2', '3', '4'], 'answer': '4'}}}} <class 'dict'>\n"
     ]
    }
   ],
   "source": [
    "import json\n",
    "\n",
    "content_in_proper_format = json.loads(content)\n",
    "\n",
    "print(content_in_proper_format,type(content_in_proper_format))"
   ]
  },
  {
   "cell_type": "code",
   "execution_count": 61,
   "metadata": {},
   "outputs": [
    {
     "data": {
      "text/plain": [
       "dict_keys(['quiz'])"
      ]
     },
     "execution_count": 61,
     "metadata": {},
     "output_type": "execute_result"
    }
   ],
   "source": [
    "content_in_proper_format.keys()"
   ]
  },
  {
   "cell_type": "code",
   "execution_count": 63,
   "metadata": {},
   "outputs": [
    {
     "data": {
      "text/plain": [
       "{'sport': {'q1': {'question': 'Which one is correct team name in NBA?',\n",
       "   'options': ['New York Bulls',\n",
       "    'Los Angeles Kings',\n",
       "    'Golden State Warriros',\n",
       "    'Huston Rocket'],\n",
       "   'answer': 'Huston Rocket'}},\n",
       " 'maths': {'q1': {'question': '5 + 7 = ?',\n",
       "   'options': ['10', '11', '12', '13'],\n",
       "   'answer': '12'},\n",
       "  'q2': {'question': '12 - 8 = ?',\n",
       "   'options': ['1', '2', '3', '4'],\n",
       "   'answer': '4'}}}"
      ]
     },
     "execution_count": 63,
     "metadata": {},
     "output_type": "execute_result"
    }
   ],
   "source": [
    "content_in_proper_format['quiz']"
   ]
  },
  {
   "cell_type": "code",
   "execution_count": 64,
   "metadata": {},
   "outputs": [
    {
     "data": {
      "text/plain": [
       "{'q1': {'question': 'Which one is correct team name in NBA?',\n",
       "  'options': ['New York Bulls',\n",
       "   'Los Angeles Kings',\n",
       "   'Golden State Warriros',\n",
       "   'Huston Rocket'],\n",
       "  'answer': 'Huston Rocket'}}"
      ]
     },
     "execution_count": 64,
     "metadata": {},
     "output_type": "execute_result"
    }
   ],
   "source": [
    "content_in_proper_format['quiz']['sport']"
   ]
  },
  {
   "cell_type": "code",
   "execution_count": 65,
   "metadata": {},
   "outputs": [
    {
     "data": {
      "text/plain": [
       "{'q1': {'question': '5 + 7 = ?',\n",
       "  'options': ['10', '11', '12', '13'],\n",
       "  'answer': '12'},\n",
       " 'q2': {'question': '12 - 8 = ?',\n",
       "  'options': ['1', '2', '3', '4'],\n",
       "  'answer': '4'}}"
      ]
     },
     "execution_count": 65,
     "metadata": {},
     "output_type": "execute_result"
    }
   ],
   "source": [
    "content_in_proper_format['quiz']['maths']"
   ]
  },
  {
   "cell_type": "code",
   "execution_count": 66,
   "metadata": {},
   "outputs": [
    {
     "data": {
      "text/plain": [
       "{'question': '5 + 7 = ?', 'options': ['10', '11', '12', '13'], 'answer': '12'}"
      ]
     },
     "execution_count": 66,
     "metadata": {},
     "output_type": "execute_result"
    }
   ],
   "source": [
    "content_in_proper_format['quiz']['maths']['q1']"
   ]
  },
  {
   "cell_type": "code",
   "execution_count": 68,
   "metadata": {},
   "outputs": [
    {
     "data": {
      "text/plain": [
       "'10'"
      ]
     },
     "execution_count": 68,
     "metadata": {},
     "output_type": "execute_result"
    }
   ],
   "source": [
    "content_in_proper_format['quiz']['maths']['q1']['options'][0]"
   ]
  },
  {
   "cell_type": "code",
   "execution_count": 69,
   "metadata": {},
   "outputs": [
    {
     "data": {
      "text/plain": [
       "'11'"
      ]
     },
     "execution_count": 69,
     "metadata": {},
     "output_type": "execute_result"
    }
   ],
   "source": [
    "content_in_proper_format['quiz']['maths']['q1']['options'][1]"
   ]
  },
  {
   "cell_type": "code",
   "execution_count": null,
   "metadata": {},
   "outputs": [],
   "source": []
  }
 ],
 "metadata": {
  "kernelspec": {
   "display_name": "Python 3",
   "language": "python",
   "name": "python3"
  },
  "language_info": {
   "codemirror_mode": {
    "name": "ipython",
    "version": 3
   },
   "file_extension": ".py",
   "mimetype": "text/x-python",
   "name": "python",
   "nbconvert_exporter": "python",
   "pygments_lexer": "ipython3",
   "version": "3.8.3"
  }
 },
 "nbformat": 4,
 "nbformat_minor": 4
}
