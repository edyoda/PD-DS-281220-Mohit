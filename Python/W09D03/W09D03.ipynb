{
 "cells": [
  {
   "cell_type": "code",
   "execution_count": null,
   "metadata": {},
   "outputs": [],
   "source": [
    "## pytest is a third party open source module\n",
    "## We generally use it for unit testing\n",
    "\n",
    "## what is unit test?\n",
    "## you can test individiual small parts of code\n",
    "## like a function whose functionality you want to test, or a class method, object method,..\n",
    "\n",
    "# pip is a package manager which helps us install third party module from the onliine repositry\n",
    "\n",
    "## by default we have unittest (it's quite limited, and not easy to use.)"
   ]
  },
  {
   "cell_type": "code",
   "execution_count": 1,
   "metadata": {},
   "outputs": [
    {
     "name": "stdout",
     "output_type": "stream",
     "text": [
      "Requirement already satisfied: pytest in c:\\users\\mohit\\appdata\\local\\programs\\python\\python38-32\\lib\\site-packages (5.4.3)Note: you may need to restart the kernel to use updated packages.\n"
     ]
    },
    {
     "name": "stderr",
     "output_type": "stream",
     "text": [
      "WARNING: You are using pip version 19.2.3, however version 21.0.1 is available.\n",
      "You should consider upgrading via the 'python -m pip install --upgrade pip' command.\n"
     ]
    },
    {
     "name": "stdout",
     "output_type": "stream",
     "text": [
      "\n",
      "Requirement already satisfied: pluggy<1.0,>=0.12 in c:\\users\\mohit\\appdata\\local\\programs\\python\\python38-32\\lib\\site-packages (from pytest) (0.13.1)\n",
      "Requirement already satisfied: py>=1.5.0 in c:\\users\\mohit\\appdata\\local\\programs\\python\\python38-32\\lib\\site-packages (from pytest) (1.9.0)\n",
      "Requirement already satisfied: wcwidth in c:\\users\\mohit\\appdata\\local\\programs\\python\\python38-32\\lib\\site-packages (from pytest) (0.2.4)\n",
      "Requirement already satisfied: packaging in c:\\users\\mohit\\appdata\\local\\programs\\python\\python38-32\\lib\\site-packages (from pytest) (20.4)\n",
      "Requirement already satisfied: attrs>=17.4.0 in c:\\users\\mohit\\appdata\\local\\programs\\python\\python38-32\\lib\\site-packages (from pytest) (19.3.0)\n",
      "Requirement already satisfied: colorama; sys_platform == \"win32\" in c:\\users\\mohit\\appdata\\local\\programs\\python\\python38-32\\lib\\site-packages (from pytest) (0.4.3)\n",
      "Requirement already satisfied: atomicwrites>=1.0; sys_platform == \"win32\" in c:\\users\\mohit\\appdata\\local\\programs\\python\\python38-32\\lib\\site-packages (from pytest) (1.4.0)\n",
      "Requirement already satisfied: more-itertools>=4.0.0 in c:\\users\\mohit\\appdata\\local\\programs\\python\\python38-32\\lib\\site-packages (from pytest) (8.4.0)\n",
      "Requirement already satisfied: pyparsing>=2.0.2 in c:\\users\\mohit\\appdata\\local\\programs\\python\\python38-32\\lib\\site-packages (from packaging->pytest) (2.4.7)\n",
      "Requirement already satisfied: six in c:\\users\\mohit\\appdata\\local\\programs\\python\\python38-32\\lib\\site-packages (from packaging->pytest) (1.15.0)\n"
     ]
    }
   ],
   "source": [
    "pip install pytest"
   ]
  },
  {
   "cell_type": "code",
   "execution_count": null,
   "metadata": {},
   "outputs": [],
   "source": [
    "# test.py\n",
    "\n",
    "def func(x):\n",
    "\tif x%2==0:\n",
    "\t\treturn x+5\n",
    "\telse:\n",
    "\t\treturn x-4\n",
    "\n",
    "def test_method():\n",
    "\tassert func(3) == -2\n",
    "\n",
    "def test_method_2():\n",
    "\tassert func(2) == 7\n",
    "    \n",
    "cmd: py.test test.py"
   ]
  },
  {
   "cell_type": "code",
   "execution_count": null,
   "metadata": {},
   "outputs": [],
   "source": [
    "## Way of selecting or filtering test cases:\n",
    "\n",
    "# 1) Running the test cases with substring matching approach\n",
    "\n",
    "## test_2.py\n",
    "\n",
    "def func(x):\n",
    "\tif x%2==0:\n",
    "\t\treturn x+5\n",
    "\telse:\n",
    "\t\treturn x-5\n",
    "\n",
    "def test_case_by_Abhishek():\n",
    "\tassert func(3) == -2\n",
    "\n",
    "def test_case_by_bhavya():\n",
    "\tassert func(2) == 7\n",
    "\n",
    "def test_case_3():\n",
    "\tassert func(10) == 15\n",
    "\n",
    "cmd: py.test -k test_case_by -v\n",
    "    \n",
    "# 2) Marking the test cases\n",
    "\n",
    "## test_3.py\n",
    "\n",
    "import pytest\n",
    "\n",
    "def func(x):\n",
    "\tif x%2==0:\n",
    "\t\treturn x+5\n",
    "\telse:\n",
    "\t\treturn x-5\n",
    "\n",
    "@pytest.mark.bhavya\n",
    "def test_case_by_Abhishek():\n",
    "\tassert func(3) == -2\n",
    "\n",
    "@pytest.mark.abhishek\n",
    "def test_case_by_bhavya():\n",
    "\tassert func(2) == 7\n",
    "\n",
    "def test_case_3():\n",
    "\tassert func(10) == 15\n",
    "    \n",
    "cmd: py.test -m bhavya -v"
   ]
  },
  {
   "cell_type": "code",
   "execution_count": null,
   "metadata": {},
   "outputs": [],
   "source": [
    "FIXTURES: They are used to have something pre run before the test.\n",
    "\n",
    "## Very similar to __init__.py file in a Package.\n",
    "\n",
    "## test_4.py\n",
    "\n",
    "import pytest\n",
    "\n",
    "@pytest.fixture\n",
    "def pre_data():\n",
    "\tdata = {'python':3,'java':8,'c++':14}\n",
    "\treturn data\n",
    "\n",
    "def test_case_1(pre_data):\n",
    "\tvar = 3 ## this single line is being tested.\n",
    "\tassert pre_data['python'] == var\n",
    "\n",
    "def test_case_2(pre_data):\n",
    "\tvar_2 = 8## this single line is being tested.\n",
    "\tassert pre_data['c++'] == var_2\n",
    "    \n",
    "cmd: py.test test_4.py -v"
   ]
  },
  {
   "cell_type": "code",
   "execution_count": null,
   "metadata": {},
   "outputs": [],
   "source": [
    "Python Debugger: pdb\n",
    "    \n",
    "## pdb console appears whenever it sees a breakpoint()\n",
    "\n",
    "## c(continue) => continue all the leftover code after the previous step.\n",
    "\n",
    "## n(next) => runs the very next piece of code\n",
    "\n",
    "## s(step inside) => to step inside a function such that enter will work like showing us next line which is going to be executed.\n",
    "\n",
    "## we can use print to know values of the variables at any stage in pdb.\n",
    "## we can also know the datatype by using 'whatis'"
   ]
  }
 ],
 "metadata": {
  "kernelspec": {
   "display_name": "Python 3",
   "language": "python",
   "name": "python3"
  },
  "language_info": {
   "codemirror_mode": {
    "name": "ipython",
    "version": 3
   },
   "file_extension": ".py",
   "mimetype": "text/x-python",
   "name": "python",
   "nbconvert_exporter": "python",
   "pygments_lexer": "ipython3",
   "version": "3.8.3"
  }
 },
 "nbformat": 4,
 "nbformat_minor": 4
}
