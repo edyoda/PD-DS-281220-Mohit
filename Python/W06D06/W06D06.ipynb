{
 "cells": [
  {
   "cell_type": "code",
   "execution_count": null,
   "metadata": {},
   "outputs": [],
   "source": [
    "Q0) Write an OOP code for a SmartPhone."
   ]
  },
  {
   "cell_type": "code",
   "execution_count": 51,
   "metadata": {},
   "outputs": [],
   "source": [
    "class smartphone:\n",
    "    def __init__(self,name,ram,rom,no_of_sims,price,cameraQuality):\n",
    "        self.name = name\n",
    "        self.on = True\n",
    "        self.ram = ram\n",
    "        self.rom = rom\n",
    "        self.no_of_sims = no_of_sims\n",
    "        self.contacts = {'Police':100,'Ambulance':108}\n",
    "        self.price = price\n",
    "        self.batteryPercentage = 100\n",
    "        self.cameraQuality = cameraQuality\n",
    "\n",
    "    def switch(self):\n",
    "        self.on = not self.on\n",
    "        \n",
    "    def addContact(self,name,phone_no):\n",
    "        self.contacts[name] = phone_no\n",
    "        self.batteryPercentage -= 1\n",
    "        \n",
    "    def scroll(direction):\n",
    "        if direction == 'up':\n",
    "            print('scrolling up')\n",
    "        elif direction == 'down':\n",
    "            print('scrolling down')\n",
    "        self.batteryPercentage -= 2\n",
    "        \n",
    "    def charge(self):\n",
    "        if self.batteryPercentage == 100:\n",
    "            print(\"BATTERY IS FULLY CHARGED!!\")\n",
    "        else:\n",
    "            print(\"Charging!!\")\n",
    "            print('Charged after ',100-self.batteryPercentage,' minutes')\n",
    "            self.batteryPercentage = 100\n",
    "    \n",
    "    def callFromContact(self,name):\n",
    "        print('Calling...',self.contacts[name])\n",
    "        self.batteryPercentage -= 5\n",
    "        \n",
    "    def dial(self,phone):\n",
    "        print('Calling...',phone)\n",
    "        self.batteryPercentage -= 5\n",
    "        \n",
    "    def msgAContact(self,text,name):\n",
    "        print('Message Sent to',self.contacts[name])\n",
    "        self.batteryPercentage -= 2\n",
    "        \n",
    "    def setUpAlarm(self,time):\n",
    "        print(\"Alarm Set up for time\",time)\n",
    "        self.batteryPercentage -= 1"
   ]
  },
  {
   "cell_type": "code",
   "execution_count": 52,
   "metadata": {},
   "outputs": [
    {
     "data": {
      "text/plain": [
       "False"
      ]
     },
     "execution_count": 52,
     "metadata": {},
     "output_type": "execute_result"
    }
   ],
   "source": [
    "not True"
   ]
  },
  {
   "cell_type": "code",
   "execution_count": 53,
   "metadata": {},
   "outputs": [
    {
     "name": "stdout",
     "output_type": "stream",
     "text": [
      "True\n"
     ]
    }
   ],
   "source": [
    "x = False\n",
    "y = not x\n",
    "print(y)"
   ]
  },
  {
   "cell_type": "code",
   "execution_count": 54,
   "metadata": {},
   "outputs": [],
   "source": [
    "Xiaomi_2 = smartphone('Xiaomi 2',2,16,2,8000,{'MegaPixels':8,'NightVision':False,'AI Camera':True})"
   ]
  },
  {
   "cell_type": "code",
   "execution_count": 55,
   "metadata": {},
   "outputs": [
    {
     "data": {
      "text/plain": [
       "{'Police': 100, 'Ambulance': 108}"
      ]
     },
     "execution_count": 55,
     "metadata": {},
     "output_type": "execute_result"
    }
   ],
   "source": [
    "Xiaomi_2.contacts"
   ]
  },
  {
   "cell_type": "code",
   "execution_count": 56,
   "metadata": {},
   "outputs": [
    {
     "name": "stdout",
     "output_type": "stream",
     "text": [
      "Calling... 100\n"
     ]
    }
   ],
   "source": [
    "Xiaomi_2.callFromContact('Police')"
   ]
  },
  {
   "cell_type": "code",
   "execution_count": 57,
   "metadata": {},
   "outputs": [],
   "source": [
    "Xiaomi_2.addContact('Mohit Sir',90016)"
   ]
  },
  {
   "cell_type": "code",
   "execution_count": 58,
   "metadata": {},
   "outputs": [
    {
     "data": {
      "text/plain": [
       "{'Police': 100, 'Ambulance': 108, 'Mohit Sir': 90016}"
      ]
     },
     "execution_count": 58,
     "metadata": {},
     "output_type": "execute_result"
    }
   ],
   "source": [
    "Xiaomi_2.contacts"
   ]
  },
  {
   "cell_type": "code",
   "execution_count": 59,
   "metadata": {},
   "outputs": [
    {
     "name": "stdout",
     "output_type": "stream",
     "text": [
      "Calling... 90016\n"
     ]
    }
   ],
   "source": [
    "Xiaomi_2.callFromContact('Mohit Sir')"
   ]
  },
  {
   "cell_type": "code",
   "execution_count": 60,
   "metadata": {},
   "outputs": [
    {
     "data": {
      "text/plain": [
       "89"
      ]
     },
     "execution_count": 60,
     "metadata": {},
     "output_type": "execute_result"
    }
   ],
   "source": [
    "Xiaomi_2.batteryPercentage"
   ]
  },
  {
   "cell_type": "code",
   "execution_count": 61,
   "metadata": {},
   "outputs": [
    {
     "name": "stdout",
     "output_type": "stream",
     "text": [
      "Alarm Set up for time 6 AM\n"
     ]
    }
   ],
   "source": [
    "Xiaomi_2.setUpAlarm('6 AM')"
   ]
  },
  {
   "cell_type": "code",
   "execution_count": 62,
   "metadata": {},
   "outputs": [
    {
     "data": {
      "text/plain": [
       "88"
      ]
     },
     "execution_count": 62,
     "metadata": {},
     "output_type": "execute_result"
    }
   ],
   "source": [
    "Xiaomi_2.batteryPercentage"
   ]
  },
  {
   "cell_type": "code",
   "execution_count": 63,
   "metadata": {},
   "outputs": [
    {
     "name": "stdout",
     "output_type": "stream",
     "text": [
      "Charging!!\n",
      "Charged after  12  minutes\n"
     ]
    }
   ],
   "source": [
    "Xiaomi_2.charge()"
   ]
  },
  {
   "cell_type": "code",
   "execution_count": 64,
   "metadata": {},
   "outputs": [
    {
     "data": {
      "text/plain": [
       "100"
      ]
     },
     "execution_count": 64,
     "metadata": {},
     "output_type": "execute_result"
    }
   ],
   "source": [
    "Xiaomi_2.batteryPercentage"
   ]
  },
  {
   "cell_type": "code",
   "execution_count": 65,
   "metadata": {},
   "outputs": [],
   "source": [
    "Xiaomi_2.switch()"
   ]
  },
  {
   "cell_type": "code",
   "execution_count": 66,
   "metadata": {},
   "outputs": [
    {
     "data": {
      "text/plain": [
       "False"
      ]
     },
     "execution_count": 66,
     "metadata": {},
     "output_type": "execute_result"
    }
   ],
   "source": [
    "Xiaomi_2.on"
   ]
  },
  {
   "cell_type": "code",
   "execution_count": 67,
   "metadata": {},
   "outputs": [],
   "source": [
    "Xiaomi_2.switch()"
   ]
  },
  {
   "cell_type": "code",
   "execution_count": 68,
   "metadata": {},
   "outputs": [
    {
     "data": {
      "text/plain": [
       "True"
      ]
     },
     "execution_count": 68,
     "metadata": {},
     "output_type": "execute_result"
    }
   ],
   "source": [
    "Xiaomi_2.on"
   ]
  },
  {
   "cell_type": "code",
   "execution_count": 69,
   "metadata": {},
   "outputs": [],
   "source": [
    "Xiaomi_2.switch()"
   ]
  },
  {
   "cell_type": "code",
   "execution_count": 70,
   "metadata": {},
   "outputs": [
    {
     "data": {
      "text/plain": [
       "False"
      ]
     },
     "execution_count": 70,
     "metadata": {},
     "output_type": "execute_result"
    }
   ],
   "source": [
    "Xiaomi_2.on"
   ]
  },
  {
   "cell_type": "code",
   "execution_count": null,
   "metadata": {},
   "outputs": [],
   "source": [
    "IS MY VOICE BREAKING?\n",
    "YES OR NO?\n",
    "\n",
    "OKAY LETS TALK HERE FINE?\n",
    "\n",
    "THE ABOVE QUESTION IS DONE AND DUSTED. NOW IT'S TURN TO LEARN ABOUT STATIC METHODS.\n",
    "\n",
    "LUCKILY WE HAVE IMAGES ALREADY THAT WE CAN READ AND UNDERSTAND WHAT STATIC METHODS ARE.\n",
    "LET'S IMPORT THEM."
   ]
  },
  {
   "cell_type": "code",
   "execution_count": null,
   "metadata": {},
   "outputs": [],
   "source": [
    "IT'S OKAY IF I AM NOT AUDIBLE, I'LL STILL TRY BUT YOU GUYS READ THE TEXT THERE.\n",
    "\n",
    "OKAY?\n",
    "\n",
    "YES RASHMI METHODS OF A CLASS CAN CALL EACH OTEHR.\n",
    "\n",
    "LET'S GO AND WRITE SOME STATIC METHOD CODE..."
   ]
  },
  {
   "cell_type": "code",
   "execution_count": null,
   "metadata": {},
   "outputs": [],
   "source": [
    "Q1) Create a Student Record containing:-\n",
    "Student:\n",
    "name\n",
    "roll_no\n",
    "marks = {\"history\":0,\"mechanics\":0,\"chemisry\":0}\n",
    "student_obj.add_marks(\"mechanics\",40)\n",
    "find_topper():classmethod, student_list:class_variable\n",
    "total_marks: class_variable\n",
    "find_failed(): below 33% a students gets failed.\n",
    "percentage as obj var.\n",
    "\n",
    "HINT:\n",
    "self is the keyword which contain reference to the current obj.\n",
    "and think about a list in which you can add all the obj reference."
   ]
  },
  {
   "cell_type": "code",
   "execution_count": null,
   "metadata": {},
   "outputs": [],
   "source": [
    "I am going to write a very basic form of above question, you can directly understand that or read if you want you can \n",
    "read the question too.\n",
    "let's go...."
   ]
  },
  {
   "cell_type": "code",
   "execution_count": 22,
   "metadata": {},
   "outputs": [],
   "source": [
    "class Student:\n",
    "    def __init__(self,name,roll_no,marks):\n",
    "        self.name = name\n",
    "        self.roll_no = roll_no\n",
    "        self.marks = marks  ## it will be a dictionary like {\"history\":0,\"mechanics\":0,\"chemisry\":0}\n",
    "     \n",
    "    @staticmethod\n",
    "    def percentage_formula(marks_obtained_list,total):\n",
    "        return (sum(marks_obtained_list)/total)*100\n",
    "    \n",
    "    def calculate_percentage(self):\n",
    "        total = len(self.marks)*100\n",
    "        self.printPercentage(Student.percentage_formula(self.marks.values(),total))\n",
    "        \n",
    "    def printPercentage(self,percentage):\n",
    "        print('The percentage is ',percentage)"
   ]
  },
  {
   "cell_type": "code",
   "execution_count": 23,
   "metadata": {},
   "outputs": [],
   "source": [
    "rashmi = Student('Rashmi Singh',47,{'maths':100,'Chemistry':79,'AstroPhysics':53})"
   ]
  },
  {
   "cell_type": "code",
   "execution_count": 24,
   "metadata": {},
   "outputs": [
    {
     "name": "stdout",
     "output_type": "stream",
     "text": [
      "The percentage is  77.33333333333333\n"
     ]
    }
   ],
   "source": [
    "rashmi.calculate_percentage()"
   ]
  },
  {
   "cell_type": "code",
   "execution_count": 6,
   "metadata": {},
   "outputs": [
    {
     "data": {
      "text/plain": [
       "232"
      ]
     },
     "execution_count": 6,
     "metadata": {},
     "output_type": "execute_result"
    }
   ],
   "source": [
    "sum(.values())"
   ]
  },
  {
   "cell_type": "code",
   "execution_count": 8,
   "metadata": {},
   "outputs": [
    {
     "name": "stdout",
     "output_type": "stream",
     "text": [
      "232\n"
     ]
    }
   ],
   "source": [
    "x = {'maths':100,'Chemistry':79,'AstroPhysics':53}\n",
    "\n",
    "print(sum(x.values()))"
   ]
  },
  {
   "cell_type": "code",
   "execution_count": 9,
   "metadata": {},
   "outputs": [
    {
     "data": {
      "text/plain": [
       "77.33333333333333"
      ]
     },
     "execution_count": 9,
     "metadata": {},
     "output_type": "execute_result"
    }
   ],
   "source": [
    "(232/300)*100"
   ]
  },
  {
   "cell_type": "code",
   "execution_count": null,
   "metadata": {},
   "outputs": [],
   "source": [
    "EVERYTHING IN PYTHON IS AN OBJECT!!"
   ]
  }
 ],
 "metadata": {
  "kernelspec": {
   "display_name": "Python 3",
   "language": "python",
   "name": "python3"
  },
  "language_info": {
   "codemirror_mode": {
    "name": "ipython",
    "version": 3
   },
   "file_extension": ".py",
   "mimetype": "text/x-python",
   "name": "python",
   "nbconvert_exporter": "python",
   "pygments_lexer": "ipython3",
   "version": "3.8.3"
  }
 },
 "nbformat": 4,
 "nbformat_minor": 4
}
