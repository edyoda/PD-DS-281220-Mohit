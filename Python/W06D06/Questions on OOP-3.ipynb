{
 "cells": [
  {
   "cell_type": "code",
   "execution_count": null,
   "metadata": {},
   "outputs": [],
   "source": [
    "Q1) Create a Student Record containing:-\n",
    "Student:\n",
    "name\n",
    "roll_no\n",
    "marks = {\"history\":0,\"mechanics\":0,\"chemisry\":0}\n",
    "student_obj.add_marks(\"mechanics\",40)\n",
    "find_topper():classmethod, student_list:class_variable\n",
    "total_marks: class_variable\n",
    "find_failed(): below 33% a students gets failed.\n",
    "percentage as obj var.\n",
    "\n",
    "HINT:\n",
    "self is the keyword which contain reference to the current obj.\n",
    "and think about a list in which you can add all the obj reference."
   ]
  }
 ],
 "metadata": {
  "kernelspec": {
   "display_name": "Python 3",
   "language": "python",
   "name": "python3"
  },
  "language_info": {
   "codemirror_mode": {
    "name": "ipython",
    "version": 3
   },
   "file_extension": ".py",
   "mimetype": "text/x-python",
   "name": "python",
   "nbconvert_exporter": "python",
   "pygments_lexer": "ipython3",
   "version": "3.8.3"
  }
 },
 "nbformat": 4,
 "nbformat_minor": 4
}
