{
 "cells": [
  {
   "cell_type": "code",
   "execution_count": null,
   "metadata": {},
   "outputs": [],
   "source": [
    "Access Specifiers\n",
    "\n",
    ": Private ==> __name (YOU SHOULD ONLY BE ABLE TO ACCESS THESE INSIDE THE SAME CLASS)\n",
    ": Public ==> name : by default every method and var are public.\n",
    ": Protected ==> _name"
   ]
  },
  {
   "cell_type": "code",
   "execution_count": 2,
   "metadata": {},
   "outputs": [
    {
     "name": "stdout",
     "output_type": "stream",
     "text": [
      "5\n",
      "obj_ref.eat is 5\n"
     ]
    }
   ],
   "source": [
    "## PUBLIC\n",
    "\n",
    "class A:\n",
    "    def eatmethod(self): ## public method\n",
    "        self.eat = 5 ## eat is an public variable.\n",
    "        \n",
    "class B(A):\n",
    "    def happy(self):\n",
    "        self.eatmethod()\n",
    "        print(self.eat)\n",
    "        \n",
    "obj_ref = B()\n",
    "\n",
    "obj_ref.happy()\n",
    "\n",
    "print('obj_ref.eat is',obj_ref.eat)"
   ]
  },
  {
   "cell_type": "code",
   "execution_count": 4,
   "metadata": {},
   "outputs": [
    {
     "ename": "AttributeError",
     "evalue": "'B' object has no attribute '__eat'",
     "output_type": "error",
     "traceback": [
      "\u001b[1;31m---------------------------------------------------------------------------\u001b[0m",
      "\u001b[1;31mAttributeError\u001b[0m                            Traceback (most recent call last)",
      "\u001b[1;32m<ipython-input-4-494a2718fdbf>\u001b[0m in \u001b[0;36m<module>\u001b[1;34m\u001b[0m\n\u001b[0;32m     18\u001b[0m \u001b[0mobj_ref\u001b[0m\u001b[1;33m.\u001b[0m\u001b[0mhappy\u001b[0m\u001b[1;33m(\u001b[0m\u001b[1;33m)\u001b[0m\u001b[1;33m\u001b[0m\u001b[1;33m\u001b[0m\u001b[0m\n\u001b[0;32m     19\u001b[0m \u001b[1;33m\u001b[0m\u001b[0m\n\u001b[1;32m---> 20\u001b[1;33m \u001b[0mprint\u001b[0m\u001b[1;33m(\u001b[0m\u001b[1;34m'obj_ref.eat is'\u001b[0m\u001b[1;33m,\u001b[0m\u001b[0mobj_ref\u001b[0m\u001b[1;33m.\u001b[0m\u001b[0m__eat\u001b[0m\u001b[1;33m)\u001b[0m\u001b[1;33m\u001b[0m\u001b[1;33m\u001b[0m\u001b[0m\n\u001b[0m",
      "\u001b[1;31mAttributeError\u001b[0m: 'B' object has no attribute '__eat'"
     ]
    }
   ],
   "source": [
    "## PRIVATE\n",
    "\n",
    "## Python does not strictly disallow using Private variable outside the class, there are hacks to acually access the \n",
    "## private variable and methods by checking the modified name using __dict__.\n",
    "## BUT WE DON'T DO THAT AND THERE IS A FAMOUS SAYING IN PYTHON WHICH IS \"WE ARE ALL ADULTS HERE!!\"\n",
    "\n",
    "class A:\n",
    "    def eatmethod(self): ## private method\n",
    "        self.__eat = 5 ## eat is an private variable.\n",
    "        \n",
    "class B(A):\n",
    "    def happy(self):\n",
    "        self.eatmethod()\n",
    "#         print(self.__eat)\n",
    "        \n",
    "obj_ref = B()\n",
    "\n",
    "obj_ref.happy()\n",
    "\n",
    "print('obj_ref.eat is',obj_ref.__eat)"
   ]
  },
  {
   "cell_type": "code",
   "execution_count": null,
   "metadata": {},
   "outputs": [],
   "source": [
    "class A:\n",
    "    def __init__(self): ## private method\n",
    "        self.__hungry = True ## hungry is an private variable.\n",
    "        \n",
    "    def feed(self):\n",
    "        self.__hungry = False\n",
    "    \n",
    "class B(A):\n",
    "    def happy(self):\n",
    "        self.eatmethod()\n",
    "#         print(self.__eat)\n",
    "        \n",
    "obj_ref = B()\n",
    "\n",
    "obj_ref.happy()\n",
    "\n",
    "print('obj_ref.eat is',obj_ref.__eat)"
   ]
  },
  {
   "cell_type": "code",
   "execution_count": 13,
   "metadata": {},
   "outputs": [
    {
     "name": "stdout",
     "output_type": "stream",
     "text": [
      "True\n",
      "False\n",
      "xyz\n",
      "obj_ref.eat is xyz\n"
     ]
    }
   ],
   "source": [
    "## PROTECTED VARIABLES AND METHODS: THEY WILL ONLY BE ACCESSED INSIDE THE CALSS WHICH INHERIT THEM.\n",
    "\n",
    "class A:\n",
    "    _type = 'xyz'\n",
    "    def __init__(self): ## private method\n",
    "        self._hungry = True ## hungry is an private variable.\n",
    "        \n",
    "    def _feed(self):\n",
    "        self._hungry = False\n",
    "    \n",
    "class B(A):\n",
    "    def happy(self):\n",
    "        super().__init__()\n",
    "        print(self._hungry)\n",
    "        self._feed()\n",
    "        print(self._hungry)\n",
    "        print(self._type)\n",
    "        \n",
    "obj_ref = B()\n",
    "\n",
    "obj_ref.happy()\n",
    "\n",
    "print('obj_ref.eat is',._type)"
   ]
  },
  {
   "cell_type": "code",
   "execution_count": null,
   "metadata": {},
   "outputs": [],
   "source": [
    "# Polymorphism in Python\n",
    "\n",
    "-> Methods\n",
    "-> Operators\n",
    "\n",
    "with methods:\n",
    "    method overriding"
   ]
  },
  {
   "cell_type": "code",
   "execution_count": 14,
   "metadata": {},
   "outputs": [
    {
     "name": "stdout",
     "output_type": "stream",
     "text": [
      "parent eat\n"
     ]
    }
   ],
   "source": [
    "class parent:\n",
    "    def eat(self):\n",
    "        print('parent eat')\n",
    "        \n",
    "obj_parent = parent()\n",
    "obj_parent.eat()"
   ]
  },
  {
   "cell_type": "code",
   "execution_count": 20,
   "metadata": {},
   "outputs": [
    {
     "ename": "TypeError",
     "evalue": "eat() missing 1 required positional argument: 'b'",
     "output_type": "error",
     "traceback": [
      "\u001b[1;31m---------------------------------------------------------------------------\u001b[0m",
      "\u001b[1;31mTypeError\u001b[0m                                 Traceback (most recent call last)",
      "\u001b[1;32m<ipython-input-20-57baba561843>\u001b[0m in \u001b[0;36m<module>\u001b[1;34m\u001b[0m\n\u001b[0;32m      9\u001b[0m \u001b[1;33m\u001b[0m\u001b[0m\n\u001b[0;32m     10\u001b[0m \u001b[0mobj_child\u001b[0m \u001b[1;33m=\u001b[0m \u001b[0mchild\u001b[0m\u001b[1;33m(\u001b[0m\u001b[1;33m)\u001b[0m\u001b[1;33m\u001b[0m\u001b[1;33m\u001b[0m\u001b[0m\n\u001b[1;32m---> 11\u001b[1;33m \u001b[0mobj_child\u001b[0m\u001b[1;33m.\u001b[0m\u001b[0meat\u001b[0m\u001b[1;33m(\u001b[0m\u001b[1;34m'mango'\u001b[0m\u001b[1;33m)\u001b[0m\u001b[1;33m\u001b[0m\u001b[1;33m\u001b[0m\u001b[0m\n\u001b[0m",
      "\u001b[1;31mTypeError\u001b[0m: eat() missing 1 required positional argument: 'b'"
     ]
    }
   ],
   "source": [
    "# DOES METHOD OVERLOADING EXIST IN PYTHON ? DO WE NEED IT IN PYTHON?\n",
    "class child(parent):\n",
    "    def eat(self):\n",
    "        print('child eat')\n",
    "    def eat(self,a):\n",
    "        print('child eats ',a)\n",
    "    def eat(self,a,b):\n",
    "        print('child eats ',a,'and ',b)\n",
    "        \n",
    "obj_child = child()\n",
    "obj_child.eat('mango')"
   ]
  },
  {
   "cell_type": "code",
   "execution_count": 30,
   "metadata": {},
   "outputs": [],
   "source": [
    "import math\n",
    "class Shape:\n",
    "    def area(self):\n",
    "        pass\n",
    "    \n",
    "class Circle(Shape):\n",
    "    def __init__(self,*args):\n",
    "        self.list_of_params = list(args)\n",
    "        \n",
    "    def area(self):\n",
    "        print(math.pi*(self.list_of_params[0]**2))\n",
    "        \n",
    "class Square(Shape):\n",
    "    def __init__(self,*args):\n",
    "        self.list_of_params = list(args)\n",
    "        \n",
    "    def area(self):\n",
    "        print(self.list_of_params[0]**2)\n",
    "        \n",
    "class Rectangle(Shape):\n",
    "    def __init__(self,*args):\n",
    "        self.list_of_params = list(args)\n",
    "        \n",
    "    def area(self):\n",
    "        print(self.list_of_params[0]*self.list_of_params[1])"
   ]
  },
  {
   "cell_type": "code",
   "execution_count": 31,
   "metadata": {},
   "outputs": [
    {
     "name": "stdout",
     "output_type": "stream",
     "text": [
      "28.274333882308138\n"
     ]
    }
   ],
   "source": [
    "a = Circle(3)\n",
    "a.area()"
   ]
  },
  {
   "cell_type": "code",
   "execution_count": 32,
   "metadata": {},
   "outputs": [
    {
     "name": "stdout",
     "output_type": "stream",
     "text": [
      "16\n"
     ]
    }
   ],
   "source": [
    "b = Square(4)\n",
    "b.area()"
   ]
  },
  {
   "cell_type": "code",
   "execution_count": 33,
   "metadata": {},
   "outputs": [
    {
     "name": "stdout",
     "output_type": "stream",
     "text": [
      "6\n"
     ]
    }
   ],
   "source": [
    "c = Rectangle(2,3)\n",
    "c.area()"
   ]
  },
  {
   "cell_type": "code",
   "execution_count": null,
   "metadata": {},
   "outputs": [],
   "source": [
    "Operator Overloading?\n",
    "\n",
    "dunder methods\n",
    "\n",
    "+ for adding different types of objects, and it will behave diffrent for different objects.\n",
    "so different many forms of using the +\n",
    "or simplt POLYMORPHISM.\n",
    "\n",
    "EVERYTHING IN PYTHON IS AN OBJECT."
   ]
  },
  {
   "cell_type": "code",
   "execution_count": null,
   "metadata": {},
   "outputs": [],
   "source": [
    "## ITERATORS IN PYTHON\n",
    "\n",
    "An object which implements __iter__() and __next__() method is known as Iterator. [ITERATOR PROTOCOL]"
   ]
  },
  {
   "cell_type": "code",
   "execution_count": null,
   "metadata": {},
   "outputs": [],
   "source": [
    "## HOW TO GET AN ITERATOR OR HOW TO MAKE AN ITERATOR?\n",
    "\n",
    "1) From Iterables: (dict,list,tuple,str): via iter(name_of_iterable)\n",
    "        \n",
    "iter() function calls the __iter__ method present inside the iterable to make the iterable an ITERATOR.\n",
    "\n",
    "next() function calls the __next__ method present inside the iterable class."
   ]
  },
  {
   "cell_type": "code",
   "execution_count": 34,
   "metadata": {},
   "outputs": [
    {
     "name": "stdout",
     "output_type": "stream",
     "text": [
      "['__add__', '__class__', '__contains__', '__delattr__', '__delitem__', '__dir__', '__doc__', '__eq__', '__format__', '__ge__', '__getattribute__', '__getitem__', '__gt__', '__hash__', '__iadd__', '__imul__', '__init__', '__init_subclass__', '__iter__', '__le__', '__len__', '__lt__', '__mul__', '__ne__', '__new__', '__reduce__', '__reduce_ex__', '__repr__', '__reversed__', '__rmul__', '__setattr__', '__setitem__', '__sizeof__', '__str__', '__subclasshook__', 'append', 'clear', 'copy', 'count', 'extend', 'index', 'insert', 'pop', 'remove', 'reverse', 'sort']\n"
     ]
    }
   ],
   "source": [
    "print(dir(list))"
   ]
  },
  {
   "cell_type": "code",
   "execution_count": 35,
   "metadata": {},
   "outputs": [
    {
     "name": "stdout",
     "output_type": "stream",
     "text": [
      "<class 'list_iterator'>\n"
     ]
    }
   ],
   "source": [
    "l = [1,2,3,4,5]\n",
    "\n",
    "iter_obj = iter(l)\n",
    "print(type(iter_obj))"
   ]
  },
  {
   "cell_type": "code",
   "execution_count": 36,
   "metadata": {},
   "outputs": [
    {
     "data": {
      "text/plain": [
       "1"
      ]
     },
     "execution_count": 36,
     "metadata": {},
     "output_type": "execute_result"
    }
   ],
   "source": [
    "next(iter_obj)"
   ]
  },
  {
   "cell_type": "code",
   "execution_count": 37,
   "metadata": {},
   "outputs": [
    {
     "data": {
      "text/plain": [
       "2"
      ]
     },
     "execution_count": 37,
     "metadata": {},
     "output_type": "execute_result"
    }
   ],
   "source": [
    "next(iter_obj)"
   ]
  },
  {
   "cell_type": "code",
   "execution_count": 38,
   "metadata": {},
   "outputs": [
    {
     "data": {
      "text/plain": [
       "3"
      ]
     },
     "execution_count": 38,
     "metadata": {},
     "output_type": "execute_result"
    }
   ],
   "source": [
    "next(iter_obj)"
   ]
  },
  {
   "cell_type": "code",
   "execution_count": 39,
   "metadata": {},
   "outputs": [
    {
     "data": {
      "text/plain": [
       "4"
      ]
     },
     "execution_count": 39,
     "metadata": {},
     "output_type": "execute_result"
    }
   ],
   "source": [
    "next(iter_obj)"
   ]
  },
  {
   "cell_type": "code",
   "execution_count": 40,
   "metadata": {},
   "outputs": [
    {
     "data": {
      "text/plain": [
       "5"
      ]
     },
     "execution_count": 40,
     "metadata": {},
     "output_type": "execute_result"
    }
   ],
   "source": [
    "next(iter_obj)"
   ]
  },
  {
   "cell_type": "code",
   "execution_count": 41,
   "metadata": {},
   "outputs": [
    {
     "ename": "StopIteration",
     "evalue": "",
     "output_type": "error",
     "traceback": [
      "\u001b[1;31m---------------------------------------------------------------------------\u001b[0m",
      "\u001b[1;31mStopIteration\u001b[0m                             Traceback (most recent call last)",
      "\u001b[1;32m<ipython-input-41-7e96fd445ff1>\u001b[0m in \u001b[0;36m<module>\u001b[1;34m\u001b[0m\n\u001b[1;32m----> 1\u001b[1;33m \u001b[0mnext\u001b[0m\u001b[1;33m(\u001b[0m\u001b[0miter_obj\u001b[0m\u001b[1;33m)\u001b[0m\u001b[1;33m\u001b[0m\u001b[1;33m\u001b[0m\u001b[0m\n\u001b[0m",
      "\u001b[1;31mStopIteration\u001b[0m: "
     ]
    }
   ],
   "source": [
    "next(iter_obj)"
   ]
  },
  {
   "cell_type": "code",
   "execution_count": 52,
   "metadata": {},
   "outputs": [
    {
     "name": "stdout",
     "output_type": "stream",
     "text": [
      "h\n",
      "a\n",
      "p\n",
      "p\n"
     ]
    }
   ],
   "source": [
    "string = 'happy'\n",
    "\n",
    "str_iter_obj = iter(string)\n",
    "\n",
    "for i in range(1,11,3):\n",
    "    print(next(str_iter_obj))"
   ]
  },
  {
   "cell_type": "code",
   "execution_count": 44,
   "metadata": {},
   "outputs": [
    {
     "name": "stdout",
     "output_type": "stream",
     "text": [
      "[1, 2, 2, 5, 7, 23, 45]\n"
     ]
    }
   ],
   "source": [
    "x = [2,45,23,1,2,7,5]\n",
    "\n",
    "y = sorted(x) ## tim sort combination## how is sorting implemented in python?\n",
    "\n",
    "print(y)"
   ]
  },
  {
   "cell_type": "code",
   "execution_count": null,
   "metadata": {},
   "outputs": [],
   "source": [
    "2) using for loops\n",
    "\n",
    "# the for loop actually creates an iterator object and executes the next() method for each iteration\n",
    "\n",
    "# it handles the stop iteration error also."
   ]
  },
  {
   "cell_type": "code",
   "execution_count": 47,
   "metadata": {},
   "outputs": [
    {
     "name": "stdout",
     "output_type": "stream",
     "text": [
      "2\n",
      "45\n",
      "23\n",
      "1\n",
      "2\n",
      "7\n",
      "5\n"
     ]
    }
   ],
   "source": [
    "x = [2,45,23,1,2,7,5]\n",
    "\n",
    "for val in x:\n",
    "    print(val)"
   ]
  },
  {
   "cell_type": "code",
   "execution_count": null,
   "metadata": {},
   "outputs": [],
   "source": []
  }
 ],
 "metadata": {
  "kernelspec": {
   "display_name": "Python 3",
   "language": "python",
   "name": "python3"
  },
  "language_info": {
   "codemirror_mode": {
    "name": "ipython",
    "version": 3
   },
   "file_extension": ".py",
   "mimetype": "text/x-python",
   "name": "python",
   "nbconvert_exporter": "python",
   "pygments_lexer": "ipython3",
   "version": "3.8.3"
  }
 },
 "nbformat": 4,
 "nbformat_minor": 4
}
