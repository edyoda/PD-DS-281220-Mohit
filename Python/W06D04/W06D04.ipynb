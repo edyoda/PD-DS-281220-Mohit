{
 "cells": [
  {
   "cell_type": "code",
   "execution_count": null,
   "metadata": {},
   "outputs": [],
   "source": [
    "OBJECT ORIENTED PROGRAMMING"
   ]
  },
  {
   "cell_type": "code",
   "execution_count": null,
   "metadata": {},
   "outputs": [],
   "source": [
    "what is a class?\n",
    "\n",
    "-blueprint\n",
    "-template\n",
    "\n",
    "what is an object?\n",
    "\n",
    "- real world entity created from the copy of the bluprint(class)"
   ]
  },
  {
   "cell_type": "code",
   "execution_count": null,
   "metadata": {},
   "outputs": [],
   "source": [
    "Class                                     object\n",
    "\n",
    "1) Application Form                     app form filled by kunal kumar\n",
    "\n",
    "2) Computer System                      HP pavilion 234d9fsk Laptop\n",
    "\n",
    "3) Car                                  Maruti Suzuki Breeza lxi, Mercedes Benz S.\n",
    "\n",
    "4) Electric Car                         Tesla S1, Tata Nexon EV\n",
    "\n",
    "5) Bird                                 kiwi,eagle,crow,parrot,etc..\n",
    "\n",
    "6) Shapes                               circle,square,triangle,cone\n",
    "\n",
    "7) Animal                               Dog,Bear,Tiger\n",
    "\n",
    "8) Dog                                  Labrador,German Shpehard,.."
   ]
  },
  {
   "cell_type": "code",
   "execution_count": null,
   "metadata": {},
   "outputs": [],
   "source": [
    "Inheritance\n",
    "         \n",
    "Animal -----> Dog(Child Class of Animal) ----------->Labrador(Child Class of Dog)--------->Yuki(Object)\n",
    "                                        -------------> German Shephard(Child Class of Dog)-----> Mac(Object)"
   ]
  },
  {
   "cell_type": "markdown",
   "metadata": {},
   "source": [
    "## SYNTAX OF CREATING A CLASS\n",
    "\n",
    "Convention: Name of a Class should be Camel Case\n",
    "\n",
    "class NameOfTheClass:\n",
    "    Class Variables..\n",
    "    Constructors..(It is a special Object Method.)[It contains most of the times Object Variables]\n",
    "    Object Methods(Obj Variables defined or used) and Class Methods(Class Variables used)\n",
    "    \n",
    "    \n",
    "Note: Functions in Classes are known as Methods."
   ]
  },
  {
   "cell_type": "code",
   "execution_count": 16,
   "metadata": {},
   "outputs": [],
   "source": [
    "# Constructor: It is the first method which gets called when you create an object.\n",
    "\n",
    "# self is automatically passed to Object methods. self points to the Object in memory.\n",
    "\n",
    "# self is just a convention. Actually the first parameter is considered to be automatically passed.\n",
    "\n",
    "class Person:\n",
    "    typeofPerson = 'human' # class variable.\n",
    "    def __init__(self,name,gender):\n",
    "        print('New baby '+gender+' is born')\n",
    "        print('Lets name the '+gender+' as '+name)\n",
    "\n",
    "\n",
    "# Constructor is not mandatory. If we don't create an constructor we won't be able to initiallise some obj var\n",
    "# while creating an obj of the class.        \n",
    "# class Person:\n",
    "#     def printMethod(self):\n",
    "#         print('Hi so we created the object at ',self)"
   ]
  },
  {
   "cell_type": "code",
   "execution_count": 17,
   "metadata": {},
   "outputs": [
    {
     "name": "stdout",
     "output_type": "stream",
     "text": [
      "New baby boy is born\n",
      "Lets name the boy as astroboy\n"
     ]
    }
   ],
   "source": [
    "chetan = Person('astroboy','boy')   \n",
    "\n",
    "## chetan is pointing to an Object which is Person('astroboy','boy'), chetan is just a reference and not the object itself."
   ]
  },
  {
   "cell_type": "code",
   "execution_count": 18,
   "metadata": {},
   "outputs": [
    {
     "name": "stdout",
     "output_type": "stream",
     "text": [
      "New baby girl is born\n",
      "Lets name the girl as happygirl\n"
     ]
    }
   ],
   "source": [
    "bhavya = Person('happygirl','girl')\n",
    "\n",
    "## bhavya is not the object, bhavya is just a variable storing the reference to the actual object."
   ]
  },
  {
   "cell_type": "code",
   "execution_count": 20,
   "metadata": {},
   "outputs": [
    {
     "data": {
      "text/plain": [
       "'human'"
      ]
     },
     "execution_count": 20,
     "metadata": {},
     "output_type": "execute_result"
    }
   ],
   "source": [
    "chetan.typeofPerson"
   ]
  },
  {
   "cell_type": "code",
   "execution_count": 21,
   "metadata": {},
   "outputs": [
    {
     "data": {
      "text/plain": [
       "'human'"
      ]
     },
     "execution_count": 21,
     "metadata": {},
     "output_type": "execute_result"
    }
   ],
   "source": [
    "bhavya.typeofPerson"
   ]
  },
  {
   "cell_type": "code",
   "execution_count": 22,
   "metadata": {},
   "outputs": [
    {
     "data": {
      "text/plain": [
       "'human'"
      ]
     },
     "execution_count": 22,
     "metadata": {},
     "output_type": "execute_result"
    }
   ],
   "source": [
    "Person.typeofPerson"
   ]
  },
  {
   "cell_type": "code",
   "execution_count": 23,
   "metadata": {},
   "outputs": [],
   "source": [
    "chetan.typeOfPerson = 'NonHuman'  # We are not changing the class variable.\n",
    "\n",
    "# instead we are creating a new object variable for chetan."
   ]
  },
  {
   "cell_type": "code",
   "execution_count": 24,
   "metadata": {},
   "outputs": [
    {
     "data": {
      "text/plain": [
       "'NonHuman'"
      ]
     },
     "execution_count": 24,
     "metadata": {},
     "output_type": "execute_result"
    }
   ],
   "source": [
    "chetan.typeOfPerson   ## first priority is for object variable."
   ]
  },
  {
   "cell_type": "code",
   "execution_count": 26,
   "metadata": {},
   "outputs": [
    {
     "data": {
      "text/plain": [
       "'human'"
      ]
     },
     "execution_count": 26,
     "metadata": {},
     "output_type": "execute_result"
    }
   ],
   "source": [
    "bhavya.typeofPerson"
   ]
  },
  {
   "cell_type": "code",
   "execution_count": 27,
   "metadata": {},
   "outputs": [
    {
     "data": {
      "text/plain": [
       "'human'"
      ]
     },
     "execution_count": 27,
     "metadata": {},
     "output_type": "execute_result"
    }
   ],
   "source": [
    "Person.typeofPerson"
   ]
  },
  {
   "cell_type": "code",
   "execution_count": 29,
   "metadata": {},
   "outputs": [
    {
     "name": "stdout",
     "output_type": "stream",
     "text": [
      "['__class__', '__delattr__', '__dict__', '__dir__', '__doc__', '__eq__', '__format__', '__ge__', '__getattribute__', '__gt__', '__hash__', '__init__', '__init_subclass__', '__le__', '__lt__', '__module__', '__ne__', '__new__', '__reduce__', '__reduce_ex__', '__repr__', '__setattr__', '__sizeof__', '__str__', '__subclasshook__', '__weakref__', 'typeOfPerson', 'typeofPerson']\n"
     ]
    }
   ],
   "source": [
    "print(dir(chetan))"
   ]
  },
  {
   "cell_type": "code",
   "execution_count": 30,
   "metadata": {},
   "outputs": [
    {
     "name": "stdout",
     "output_type": "stream",
     "text": [
      "['__class__', '__delattr__', '__dict__', '__dir__', '__doc__', '__eq__', '__format__', '__ge__', '__getattribute__', '__gt__', '__hash__', '__init__', '__init_subclass__', '__le__', '__lt__', '__module__', '__ne__', '__new__', '__reduce__', '__reduce_ex__', '__repr__', '__setattr__', '__sizeof__', '__str__', '__subclasshook__', '__weakref__', 'typeofPerson']\n"
     ]
    }
   ],
   "source": [
    "print(dir(bhavya))"
   ]
  },
  {
   "cell_type": "code",
   "execution_count": null,
   "metadata": {},
   "outputs": [],
   "source": [
    "# so an object can have an object variable and class variable of same name but different values"
   ]
  },
  {
   "cell_type": "code",
   "execution_count": 32,
   "metadata": {},
   "outputs": [],
   "source": [
    "class Person:\n",
    "    typeofPerson = 'human' # class variable.\n",
    "    def __init__(self,name,gender):    # special object method.\n",
    "        print('New baby '+gender+' is born')\n",
    "        print('Lets name the '+gender+' as '+name)\n",
    "        self.name = name  # object variable created\n",
    "        self.gender = gender  # object variable created\n",
    "        \n",
    "    def eat(self):  # object method\n",
    "        print(self.name,' is eating now')"
   ]
  },
  {
   "cell_type": "code",
   "execution_count": 33,
   "metadata": {},
   "outputs": [
    {
     "name": "stdout",
     "output_type": "stream",
     "text": [
      "New baby boy is born\n",
      "Lets name the boy as astroboy\n"
     ]
    }
   ],
   "source": [
    "chetan = Person('astroboy','boy')"
   ]
  },
  {
   "cell_type": "code",
   "execution_count": 34,
   "metadata": {},
   "outputs": [
    {
     "data": {
      "text/plain": [
       "'astroboy'"
      ]
     },
     "execution_count": 34,
     "metadata": {},
     "output_type": "execute_result"
    }
   ],
   "source": [
    "chetan.name"
   ]
  },
  {
   "cell_type": "code",
   "execution_count": 35,
   "metadata": {},
   "outputs": [
    {
     "data": {
      "text/plain": [
       "'boy'"
      ]
     },
     "execution_count": 35,
     "metadata": {},
     "output_type": "execute_result"
    }
   ],
   "source": [
    "chetan.gender"
   ]
  },
  {
   "cell_type": "code",
   "execution_count": 36,
   "metadata": {},
   "outputs": [
    {
     "name": "stdout",
     "output_type": "stream",
     "text": [
      "New baby girl is born\n",
      "Lets name the girl as happygirl\n"
     ]
    }
   ],
   "source": [
    "bhavya = Person('happygirl','girl')"
   ]
  },
  {
   "cell_type": "code",
   "execution_count": 37,
   "metadata": {},
   "outputs": [
    {
     "data": {
      "text/plain": [
       "'happygirl'"
      ]
     },
     "execution_count": 37,
     "metadata": {},
     "output_type": "execute_result"
    }
   ],
   "source": [
    "bhavya.name"
   ]
  },
  {
   "cell_type": "code",
   "execution_count": 38,
   "metadata": {},
   "outputs": [
    {
     "data": {
      "text/plain": [
       "'girl'"
      ]
     },
     "execution_count": 38,
     "metadata": {},
     "output_type": "execute_result"
    }
   ],
   "source": [
    "bhavya.gender"
   ]
  },
  {
   "cell_type": "code",
   "execution_count": 39,
   "metadata": {},
   "outputs": [
    {
     "name": "stdout",
     "output_type": "stream",
     "text": [
      "happygirl  is eating now\n"
     ]
    }
   ],
   "source": [
    "bhavya.eat()"
   ]
  },
  {
   "cell_type": "code",
   "execution_count": 40,
   "metadata": {},
   "outputs": [
    {
     "name": "stdout",
     "output_type": "stream",
     "text": [
      "astroboy  is eating now\n"
     ]
    }
   ],
   "source": [
    "chetan.eat()"
   ]
  },
  {
   "cell_type": "code",
   "execution_count": null,
   "metadata": {},
   "outputs": [],
   "source": [
    "# classmethod?"
   ]
  },
  {
   "cell_type": "code",
   "execution_count": 4,
   "metadata": {},
   "outputs": [],
   "source": [
    "class Person:\n",
    "    typeofPerson = 'human' # class variable.\n",
    "    def __init__(self,name,gender):    # special object method.\n",
    "        print('New baby '+gender+' is born')\n",
    "        print('Lets name the '+gender+' as '+name)\n",
    "        self.name = name  # object variable created\n",
    "        self.gender = gender  # object variable created\n",
    "        \n",
    "    def eat(self):  # object method\n",
    "        print(self.name,' is eating now')\n",
    "        \n",
    "    @classmethod\n",
    "    def walking(cls):\n",
    "        print(cls.typeofPerson + ' can walk')"
   ]
  },
  {
   "cell_type": "code",
   "execution_count": 5,
   "metadata": {},
   "outputs": [
    {
     "name": "stdout",
     "output_type": "stream",
     "text": [
      "New baby Male is born\n",
      "Lets name the Male as Himanshu Tomar\n"
     ]
    }
   ],
   "source": [
    "himansu_tomar = Person('Himanshu Tomar','Male')"
   ]
  },
  {
   "cell_type": "code",
   "execution_count": 6,
   "metadata": {},
   "outputs": [
    {
     "name": "stdout",
     "output_type": "stream",
     "text": [
      "New baby Male is born\n",
      "Lets name the Male as Jitendra Prasad\n"
     ]
    }
   ],
   "source": [
    "himansu_tomar.__init__('Jitendra Prasad','Male')"
   ]
  },
  {
   "cell_type": "code",
   "execution_count": 7,
   "metadata": {},
   "outputs": [
    {
     "data": {
      "text/plain": [
       "'Jitendra Prasad'"
      ]
     },
     "execution_count": 7,
     "metadata": {},
     "output_type": "execute_result"
    }
   ],
   "source": [
    "himansu_tomar.name"
   ]
  },
  {
   "cell_type": "code",
   "execution_count": 43,
   "metadata": {},
   "outputs": [
    {
     "name": "stdout",
     "output_type": "stream",
     "text": [
      "human can walk\n"
     ]
    }
   ],
   "source": [
    "Person.walking()"
   ]
  },
  {
   "cell_type": "code",
   "execution_count": 44,
   "metadata": {},
   "outputs": [
    {
     "ename": "TypeError",
     "evalue": "eat() missing 1 required positional argument: 'self'",
     "output_type": "error",
     "traceback": [
      "\u001b[1;31m---------------------------------------------------------------------------\u001b[0m",
      "\u001b[1;31mTypeError\u001b[0m                                 Traceback (most recent call last)",
      "\u001b[1;32m<ipython-input-44-e40e805647ea>\u001b[0m in \u001b[0;36m<module>\u001b[1;34m\u001b[0m\n\u001b[1;32m----> 1\u001b[1;33m \u001b[0mPerson\u001b[0m\u001b[1;33m.\u001b[0m\u001b[0meat\u001b[0m\u001b[1;33m(\u001b[0m\u001b[1;33m)\u001b[0m\u001b[1;33m\u001b[0m\u001b[1;33m\u001b[0m\u001b[0m\n\u001b[0m",
      "\u001b[1;31mTypeError\u001b[0m: eat() missing 1 required positional argument: 'self'"
     ]
    }
   ],
   "source": [
    "Person.eat()"
   ]
  },
  {
   "cell_type": "code",
   "execution_count": 46,
   "metadata": {},
   "outputs": [
    {
     "name": "stdout",
     "output_type": "stream",
     "text": [
      "New baby girl is born\n",
      "Lets name the girl as happygirl\n"
     ]
    }
   ],
   "source": [
    "bhavya = Person('happygirl','girl')"
   ]
  },
  {
   "cell_type": "code",
   "execution_count": 47,
   "metadata": {},
   "outputs": [
    {
     "name": "stdout",
     "output_type": "stream",
     "text": [
      "human can walk\n"
     ]
    }
   ],
   "source": [
    "bhavya.walking()"
   ]
  },
  {
   "cell_type": "code",
   "execution_count": 48,
   "metadata": {},
   "outputs": [
    {
     "data": {
      "text/plain": [
       "'human'"
      ]
     },
     "execution_count": 48,
     "metadata": {},
     "output_type": "execute_result"
    }
   ],
   "source": [
    "bhavya.typeofPerson"
   ]
  },
  {
   "cell_type": "code",
   "execution_count": null,
   "metadata": {},
   "outputs": [],
   "source": []
  }
 ],
 "metadata": {
  "kernelspec": {
   "display_name": "Python 3",
   "language": "python",
   "name": "python3"
  },
  "language_info": {
   "codemirror_mode": {
    "name": "ipython",
    "version": 3
   },
   "file_extension": ".py",
   "mimetype": "text/x-python",
   "name": "python",
   "nbconvert_exporter": "python",
   "pygments_lexer": "ipython3",
   "version": "3.8.3"
  }
 },
 "nbformat": 4,
 "nbformat_minor": 4
}
