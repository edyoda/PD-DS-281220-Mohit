{
 "cells": [
  {
   "cell_type": "code",
   "execution_count": null,
   "metadata": {},
   "outputs": [],
   "source": [
    "Q2).Create a Time class and initialize it with hours and minutes.\n",
    "1. Make a method addTime which should take two time object and add them.\n",
    "E.g.- (2 hour and 50 min)+(1 hr and 20 min) is (4 hr and 10 min)\n",
    "2. Make a method displayTime which should print the time.\n",
    "3. Make a method DisplayMinute which should display the total minutes in the Time.\n",
    "E.g.- (1 hr 2 min) should display 62 minute.\n",
    "\n",
    "\n",
    "# obj1 = Time(2,50)\n",
    "\n",
    "# obj2 = Time(1,20)\n",
    "\n",
    "# obj3 = obj1.addtime(obj2)\n",
    "\n",
    "# obj3 will have (4,10)\n",
    "\n",
    "# 10 minutes"
   ]
  },
  {
   "cell_type": "code",
   "execution_count": 8,
   "metadata": {},
   "outputs": [],
   "source": [
    "class Time:\n",
    "    def __init__(self,hours,minutes):\n",
    "        self.hours = hours\n",
    "        self.minutes = minutes\n",
    "        \n",
    "    def displayTime(self):\n",
    "        print(self.hours,' hour and ',self.minutes,' minutes')\n",
    "        \n",
    "    def DisplayMinute(self):\n",
    "        total_minutes = self.minutes + self.hours*60\n",
    "        print(total_minutes)\n",
    "        \n",
    "    @staticmethod\n",
    "    def utility(minutes):\n",
    "        x = minutes//60\n",
    "        y = minutes%60\n",
    "        return (x,y)\n",
    "        \n",
    "    def addTime(self,other):\n",
    "        newObjectRef = Time(0,0)\n",
    "        x,y = Time.utility(self.minutes + other.minutes)\n",
    "        newObjectRef.hours = self.hours + other.hours + x\n",
    "        newObjectRef.minutes = y\n",
    "        return newObjectRef"
   ]
  },
  {
   "cell_type": "code",
   "execution_count": 9,
   "metadata": {},
   "outputs": [
    {
     "name": "stdout",
     "output_type": "stream",
     "text": [
      "4  hour and  10  minutes\n"
     ]
    }
   ],
   "source": [
    "obj1 = Time(2,50)\n",
    "\n",
    "obj2 = Time(1,20)\n",
    "\n",
    "obj3 = obj1.addTime(obj2)\n",
    "\n",
    "obj3.displayTime()"
   ]
  },
  {
   "cell_type": "code",
   "execution_count": 10,
   "metadata": {},
   "outputs": [
    {
     "name": "stdout",
     "output_type": "stream",
     "text": [
      "2  hour and  50  minutes\n"
     ]
    }
   ],
   "source": [
    "obj1.displayTime()"
   ]
  },
  {
   "cell_type": "code",
   "execution_count": 11,
   "metadata": {},
   "outputs": [
    {
     "name": "stdout",
     "output_type": "stream",
     "text": [
      "1  hour and  20  minutes\n"
     ]
    }
   ],
   "source": [
    "obj2.displayTime()"
   ]
  },
  {
   "cell_type": "markdown",
   "metadata": {},
   "source": [
    "## MAGIC METHODS (DUNDER METHODS)\n",
    "\n",
    "## DUNDER == DOUBLE UNDERSCORES\n",
    "\n",
    "## having two prefix and suffix underscores\n",
    "\n",
    "## WHAT ARE THEY? They are Object Methods (but special)"
   ]
  },
  {
   "cell_type": "code",
   "execution_count": null,
   "metadata": {},
   "outputs": [],
   "source": [
    "def __init__(self):  #dunder\n",
    "    \n",
    "Magic Methods are automatically invoked at certain times."
   ]
  },
  {
   "cell_type": "code",
   "execution_count": 12,
   "metadata": {},
   "outputs": [],
   "source": [
    "# COMPLEX NUMBER CLASS TO UNDERSTAND VARIOUS MAGIC METHODS"
   ]
  },
  {
   "cell_type": "code",
   "execution_count": 17,
   "metadata": {},
   "outputs": [],
   "source": [
    "class Complex:\n",
    "    def __init__(self,real,imag):\n",
    "        self.real = real\n",
    "        self.imag = imag\n",
    "        \n",
    "    def __add__(self,other):\n",
    "        newObjRef = Complex(self.real+other.real,self.imag+other.imag)\n",
    "        return newObjRef"
   ]
  },
  {
   "cell_type": "code",
   "execution_count": 19,
   "metadata": {},
   "outputs": [
    {
     "name": "stdout",
     "output_type": "stream",
     "text": [
      "3 7\n"
     ]
    }
   ],
   "source": [
    "c1 = Complex(2,3)\n",
    "\n",
    "c2 = Complex(1,4)\n",
    "\n",
    "c3 = c1+c2 ## logically it is c3 = c1.__add__(c2)\n",
    "\n",
    "## + operator automatically invoked the __add__ method and c1 was used to call the method and c2 was passed as\n",
    "# the argument which is taken by the parameter other. New object is created and returned (with addition of real and imag part\n",
    "# separately)\n",
    "\n",
    "## here self.real = 2, other.real = 1, AND self.imag = 3, other.imag = 4\n",
    "\n",
    "print(c3.real,c3.imag)"
   ]
  },
  {
   "cell_type": "code",
   "execution_count": null,
   "metadata": {},
   "outputs": [],
   "source": [
    "Q2) USE DUNDER METHOD __sub__ to Overload the - operator in the Time Example done earlier.\n",
    "\n",
    "10 minutes.\n",
    "\n",
    "Homework"
   ]
  },
  {
   "cell_type": "code",
   "execution_count": 20,
   "metadata": {},
   "outputs": [],
   "source": [
    "class Complex:\n",
    "    def __init__(self,real,imag):\n",
    "        self.real = real\n",
    "        self.imag = imag\n",
    "        \n",
    "    def __add__(self,other):\n",
    "        newObjRef = Complex(self.real+other.real,self.imag+other.imag)\n",
    "        return newObjRef\n",
    "    \n",
    "    def __sub__(self,other):\n",
    "        newObjRef = Complex(self.real-other.real,self.imag-other.imag)\n",
    "        return newObjRef"
   ]
  },
  {
   "cell_type": "code",
   "execution_count": 22,
   "metadata": {},
   "outputs": [
    {
     "name": "stdout",
     "output_type": "stream",
     "text": [
      "1 -1\n"
     ]
    }
   ],
   "source": [
    "c1 = Complex(2,3)\n",
    "\n",
    "c2 = Complex(1,4)\n",
    "\n",
    "c3 = c1-c2 ## logically it is c3 = c1.__sub__(c2)\n",
    "print(c3.real,c3.imag)"
   ]
  },
  {
   "cell_type": "code",
   "execution_count": 42,
   "metadata": {},
   "outputs": [],
   "source": [
    "class Complex:\n",
    "    def __init__(self,real,imag):\n",
    "        self.real = real\n",
    "        self.imag = imag\n",
    "        \n",
    "    def __add__(self,other):\n",
    "        newObjRef = Complex(self.real+other.real,self.imag+other.imag)\n",
    "        return newObjRef\n",
    "    \n",
    "    def __sub__(self,other):\n",
    "        newObjRef = Complex(self.real-other.real,self.imag-other.imag)\n",
    "        return newObjRef\n",
    "    \n",
    "    def __neg__(self):\n",
    "        newObjRef = Complex(-self.real,-self.imag)\n",
    "        return newObjRef\n",
    "    \n",
    "    def __len__(self):\n",
    "        return self.real + self.imag\n",
    "    \n",
    "    def __str__(self):\n",
    "        return '(%a, %a)' %(self.real,self.imag)\n",
    "    \n",
    "    def __repr__(self):\n",
    "        return 'Complex' + str(self)"
   ]
  },
  {
   "cell_type": "code",
   "execution_count": 43,
   "metadata": {},
   "outputs": [
    {
     "name": "stdout",
     "output_type": "stream",
     "text": [
      "3 7\n"
     ]
    }
   ],
   "source": [
    "c1 = Complex(2,3)\n",
    "\n",
    "c2 = Complex(1,4)\n",
    "\n",
    "c3 = c1+c2 ## logically it is c3 = c1.__sub__(c2)\n",
    "print(c3.real,c3.imag)"
   ]
  },
  {
   "cell_type": "code",
   "execution_count": 41,
   "metadata": {},
   "outputs": [
    {
     "data": {
      "text/plain": [
       "'applejuice'"
      ]
     },
     "execution_count": 41,
     "metadata": {},
     "output_type": "execute_result"
    }
   ],
   "source": [
    "'apple' + 'juice'"
   ]
  },
  {
   "cell_type": "code",
   "execution_count": 34,
   "metadata": {},
   "outputs": [
    {
     "name": "stdout",
     "output_type": "stream",
     "text": [
      "5\n",
      "-2 -3\n",
      "(2, 3)\n",
      "(2, 3)\n"
     ]
    },
    {
     "data": {
      "text/plain": [
       "Complex(2, 3)"
      ]
     },
     "execution_count": 34,
     "metadata": {},
     "output_type": "execute_result"
    }
   ],
   "source": [
    "c1 = Complex(2,3)\n",
    "print(len(c1))\n",
    "\n",
    "c2 = -c1\n",
    "\n",
    "print(c2.real,c2.imag)\n",
    "\n",
    "x = str(c1)\n",
    "\n",
    "print(x)\n",
    "\n",
    "print(c1)\n",
    "c1"
   ]
  },
  {
   "cell_type": "code",
   "execution_count": 36,
   "metadata": {},
   "outputs": [
    {
     "data": {
      "text/plain": [
       "'Complex(-2, -3)'"
      ]
     },
     "execution_count": 36,
     "metadata": {},
     "output_type": "execute_result"
    }
   ],
   "source": [
    "repr(c2)"
   ]
  },
  {
   "cell_type": "code",
   "execution_count": 37,
   "metadata": {},
   "outputs": [
    {
     "data": {
      "text/plain": [
       "Complex(2, 3)"
      ]
     },
     "execution_count": 37,
     "metadata": {},
     "output_type": "execute_result"
    }
   ],
   "source": [
    "c1"
   ]
  },
  {
   "cell_type": "code",
   "execution_count": 28,
   "metadata": {},
   "outputs": [
    {
     "name": "stdout",
     "output_type": "stream",
     "text": [
      "4\n"
     ]
    },
    {
     "data": {
      "text/plain": [
       "'3'"
      ]
     },
     "execution_count": 28,
     "metadata": {},
     "output_type": "execute_result"
    }
   ],
   "source": [
    "x = [1,2,3,4]\n",
    "\n",
    "print(len(x))\n",
    "\n",
    "str(3)"
   ]
  },
  {
   "cell_type": "code",
   "execution_count": null,
   "metadata": {},
   "outputs": [],
   "source": [
    "OPERATOR OVERLOADING: OVERLOADING THE OPERATORS LIKE +,-,* for User defined Objects.\n",
    "    \n",
    "the process of defining the dunder methods for operators on userdefined objects is operator overloading in python."
   ]
  },
  {
   "cell_type": "markdown",
   "metadata": {},
   "source": [
    "## TYPES OF INHERITANCE"
   ]
  },
  {
   "cell_type": "code",
   "execution_count": null,
   "metadata": {},
   "outputs": [],
   "source": [
    "## single inheritance\n",
    "\n",
    "class Animal:\n",
    "    typeOfAnimal = None\n",
    "    \n",
    "    def __init__(self,name):\n",
    "        self.name = name\n",
    "        \n",
    "    def eat(self):\n",
    "        print(self.name,' is eating')\n",
    "        \n",
    "    \n",
    "## Inheriting the Parent Class Animal into the child Class Dog.\n",
    "\n",
    "class Dog(Animal):\n",
    "    Animal.typeOfAnimal = 'Dog'\n",
    "    breed = None\n",
    "    def bark(self):\n",
    "        print(self.name,' is barking')"
   ]
  }
 ],
 "metadata": {
  "kernelspec": {
   "display_name": "Python 3",
   "language": "python",
   "name": "python3"
  },
  "language_info": {
   "codemirror_mode": {
    "name": "ipython",
    "version": 3
   },
   "file_extension": ".py",
   "mimetype": "text/x-python",
   "name": "python",
   "nbconvert_exporter": "python",
   "pygments_lexer": "ipython3",
   "version": "3.8.3"
  }
 },
 "nbformat": 4,
 "nbformat_minor": 4
}
